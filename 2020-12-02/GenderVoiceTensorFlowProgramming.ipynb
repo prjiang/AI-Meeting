{
  "nbformat": 4,
  "nbformat_minor": 0,
  "metadata": {
    "colab": {
      "name": "Untitled0.ipynb",
      "provenance": [],
      "collapsed_sections": []
    },
    "kernelspec": {
      "display_name": "Python 3",
      "name": "python3"
    }
  },
  "cells": [
    {
      "cell_type": "markdown",
      "metadata": {
        "id": "0hwOh-swbfYq"
      },
      "source": [
        "# 學生基本資料"
      ]
    },
    {
      "cell_type": "code",
      "metadata": {
        "id": "NRLJITTb7LWl",
        "colab": {
          "base_uri": "https://localhost:8080/"
        },
        "outputId": "e52ae99e-210c-44cc-b110-3d4fd0f28c07"
      },
      "source": [
        "from datetime import date\n",
        "cname = \"資管二甲\"  \n",
        "name = \"江品叡\" \n",
        "id = \"B0809084\" \n",
        "today = date.today()\n",
        "\n",
        "print('{},  {},  {},  {}' .format(cname, name, id, today))"
      ],
      "execution_count": 155,
      "outputs": [
        {
          "output_type": "stream",
          "text": [
            "資管二甲,  江品叡,  B0809084,  2020-12-02\n"
          ],
          "name": "stdout"
        }
      ]
    },
    {
      "cell_type": "markdown",
      "metadata": {
        "id": "X-_V7U0SbxH8"
      },
      "source": [
        "# 上傳檔案"
      ]
    },
    {
      "cell_type": "code",
      "metadata": {
        "colab": {
          "base_uri": "https://localhost:8080/",
          "height": 35
        },
        "id": "cl65ziBR8ZSC",
        "outputId": "5dbe847b-1c0e-46c0-a520-c409d0b3c6c3"
      },
      "source": [
        "'''\n",
        "from google.colab import files\n",
        "uploaded = files.upload()\n",
        "'''"
      ],
      "execution_count": 156,
      "outputs": [
        {
          "output_type": "execute_result",
          "data": {
            "application/vnd.google.colaboratory.intrinsic+json": {
              "type": "string"
            },
            "text/plain": [
              "'\\nfrom google.colab import files\\nuploaded = files.upload()\\n'"
            ]
          },
          "metadata": {
            "tags": []
          },
          "execution_count": 156
        }
      ]
    },
    {
      "cell_type": "markdown",
      "metadata": {
        "id": "wEUo44NGb5li"
      },
      "source": [
        "# 導入模組 及 csv檔案"
      ]
    },
    {
      "cell_type": "code",
      "metadata": {
        "id": "H6aEWvybA3YA",
        "colab": {
          "base_uri": "https://localhost:8080/"
        },
        "outputId": "b5bac937-f31b-4a5a-89d2-99d1f589d5d0"
      },
      "source": [
        "import os\n",
        "import matplotlib.pyplot as plt\n",
        "import tensorflow as tf\n",
        "import pandas as pd\n",
        "# from __future__ import absolute_import, division, print_function, unicode_literals\n",
        "\n",
        "print(\"Tensor version: {}\" .format(tf.__version__))\n",
        "print(\"Eager execution: {}\" .format(tf.executing_eagerly()))  # Tensorflow預設的開發環境"
      ],
      "execution_count": 157,
      "outputs": [
        {
          "output_type": "stream",
          "text": [
            "Tensor version: 2.3.0\n",
            "Eager execution: True\n"
          ],
          "name": "stdout"
        }
      ]
    },
    {
      "cell_type": "code",
      "metadata": {
        "colab": {
          "base_uri": "https://localhost:8080/"
        },
        "id": "WRmNXYRg8b5x",
        "outputId": "f7857d66-9179-4bbb-fd42-881a2ec5a5fd"
      },
      "source": [
        "'''\n",
        "train_dataset_url = \"http://mldata.io/get-data/dataset/original-data/gender_voice\"\n",
        "\n",
        "train_dataset_fp = tf.keras.utils.get_file(fname=os.path.basename(train_dataset_url),\n",
        "                                           origin=train_dataset_url)\n",
        "'''\n",
        "\n",
        "train_dataset_fp = \"/content/drive/MyDrive/Colab_Notebooks/Gender_Voice/gender_voice_weka_dataset.csv\"\n",
        "print(\"Local copy of the dataset file: {}\".format(train_dataset_fp))"
      ],
      "execution_count": 158,
      "outputs": [
        {
          "output_type": "stream",
          "text": [
            "Local copy of the dataset file: /content/drive/MyDrive/Colab_Notebooks/Gender_Voice/gender_voice_weka_dataset.csv\n"
          ],
          "name": "stdout"
        }
      ]
    },
    {
      "cell_type": "markdown",
      "metadata": {
        "id": "EeYjR8XqcFKk"
      },
      "source": [
        "## 查看資料 前5行"
      ]
    },
    {
      "cell_type": "code",
      "metadata": {
        "colab": {
          "base_uri": "https://localhost:8080/"
        },
        "id": "2dMHcEkZDckE",
        "outputId": "e1d36617-d7a3-488c-b09d-48de1a2bd6a6"
      },
      "source": [
        "!head -n5 {train_dataset_fp}\n",
        "# 查看前5行"
      ],
      "execution_count": 159,
      "outputs": [
        {
          "output_type": "stream",
          "text": [
            "meanfreq,sd,median,Q25,Q75,IQR,skew,kurt,sp.ent,sfm,mode,centroid,meanfun,minfun,maxfun,meandom,mindom,maxdom,dfrange,modindx,label\r\n",
            "0.059780985,0.064241268,0.032026913,0.015071489,0.09019344,0.075121951,12.86346184,274.4029055,0.893369417,0.491917766,0,0.059780985,0.084279106,0.015701668,0.275862069,0.0078125,0.0078125,0.0078125,0,0,0\r\n",
            "0.06600874,0.067310029,0.040228735,0.019413867,0.09266619,0.073252323,22.42328536,634.6138545,0.892193242,0.513723843,0,0.06600874,0.107936554,0.015825915,0.25,0.009014423,0.0078125,0.0546875,0.046875,0.052631579,0\r\n",
            "0.077315503,0.083829421,0.036718459,0.008701057,0.131908017,0.123206961,30.75715458,1024.927705,0.846389092,0.478904979,0,0.077315503,0.098706262,0.015655577,0.271186441,0.007990057,0.0078125,0.015625,0.0078125,0.046511628,0\r\n",
            "0.151228092,0.072110587,0.158011187,0.096581728,0.207955252,0.111373524,1.232831276,4.17729621,0.963322462,0.727231799,0.083878185,0.151228092,0.088964849,0.017797553,0.25,0.201497396,0.0078125,0.5625,0.5546875,0.247119078,0\r\n"
          ],
          "name": "stdout"
        }
      ]
    },
    {
      "cell_type": "markdown",
      "metadata": {
        "id": "FPI2nt_KchKb"
      },
      "source": [
        "# column_names, features, label"
      ]
    },
    {
      "cell_type": "markdown",
      "metadata": {
        "id": "y56EzXm2cnW_"
      },
      "source": [
        "## 建立column_names 及 features與labels"
      ]
    },
    {
      "cell_type": "code",
      "metadata": {
        "colab": {
          "base_uri": "https://localhost:8080/"
        },
        "id": "G_KR-mXa81r_",
        "outputId": "66715f9c-e862-48f4-c816-5c523e00f2f1"
      },
      "source": [
        "# column order in CSV file\n",
        "column_names = ['meanfreq', 'sd', 'median', 'Q25', 'Q75', 'IQR', 'skew', 'kurt', 'sp.ent', 'sfm', 'mode', 'centroid', 'meanfun', 'minfun', 'maxfun', 'meandom', 'mindom', 'maxdom', 'dfrange', 'modindx', 'label']\n",
        "\n",
        "feature_names = column_names[:-1]\n",
        "label_name = column_names[-1]\n",
        "\n",
        "print(\"Features: {}\".format(feature_names))\n",
        "print(\"Label: {}\".format(label_name))"
      ],
      "execution_count": 160,
      "outputs": [
        {
          "output_type": "stream",
          "text": [
            "Features: ['meanfreq', 'sd', 'median', 'Q25', 'Q75', 'IQR', 'skew', 'kurt', 'sp.ent', 'sfm', 'mode', 'centroid', 'meanfun', 'minfun', 'maxfun', 'meandom', 'mindom', 'maxdom', 'dfrange', 'modindx']\n",
            "Label: label\n"
          ],
          "name": "stdout"
        }
      ]
    },
    {
      "cell_type": "markdown",
      "metadata": {
        "id": "emBJK0xQdBcw"
      },
      "source": [
        "## 建立class_names"
      ]
    },
    {
      "cell_type": "code",
      "metadata": {
        "id": "AeqsPrMJ9irP"
      },
      "source": [
        "class_names = ['male', 'female']"
      ],
      "execution_count": 161,
      "outputs": []
    },
    {
      "cell_type": "markdown",
      "metadata": {
        "id": "e_PD6fCjddcP"
      },
      "source": [
        "# 批量資料"
      ]
    },
    {
      "cell_type": "markdown",
      "metadata": {
        "id": "jIyyZU6cdl7w"
      },
      "source": [
        "## 讀入批量資料"
      ]
    },
    {
      "cell_type": "code",
      "metadata": {
        "id": "MHZaVGha9uTL"
      },
      "source": [
        "batch_size = 32 # 一次性讀入多少批量的資料\n",
        "\n",
        "# mack_csv_dataset 將CSV格式的文本文件解析為合適的格式\n",
        "train_dataset = tf.data.experimental.make_csv_dataset(\n",
        "    train_dataset_fp,\n",
        "    batch_size,\n",
        "    column_names=column_names,\n",
        "    label_name=label_name,\n",
        "    num_epochs=1)\n",
        "\n",
        "# num_epochs = N  表示將這個數據集中的資料讀取N遍"
      ],
      "execution_count": 162,
      "outputs": []
    },
    {
      "cell_type": "markdown",
      "metadata": {
        "id": "wog1Sk_5dpUM"
      },
      "source": [
        "## 輸出"
      ]
    },
    {
      "cell_type": "code",
      "metadata": {
        "colab": {
          "base_uri": "https://localhost:8080/"
        },
        "id": "yDgPKki49x6a",
        "outputId": "3422b2f5-a130-47f6-b1db-f50c1be8811a"
      },
      "source": [
        "# make_csv_dataset函數返回tf.data.Dataset的(features, label)對，其中features是一個字典：{‘feature_name’: value}\n",
        "features, labels = next(iter(train_dataset))\n",
        "\n",
        "print(features)\n",
        "# 查看batch裡的特徵\n",
        "# 相同的特徵被放在同一個數組中，數組維度爲batch_size大小\n",
        "print(labels)"
      ],
      "execution_count": 163,
      "outputs": [
        {
          "output_type": "stream",
          "text": [
            "OrderedDict([('meanfreq', <tf.Tensor: shape=(32,), dtype=float32, numpy=\n",
            "array([0.21459435, 0.19643237, 0.11072728, 0.1864035 , 0.18448438,\n",
            "       0.1554347 , 0.20631884, 0.19424975, 0.17062494, 0.20409602,\n",
            "       0.19638923, 0.09672528, 0.21014172, 0.1442573 , 0.20230962,\n",
            "       0.15507646, 0.19262883, 0.22971797, 0.14441854, 0.17246106,\n",
            "       0.20639285, 0.18596134, 0.18348125, 0.165553  , 0.22666882,\n",
            "       0.18662596, 0.16768473, 0.1527528 , 0.11777771, 0.22469819,\n",
            "       0.16274537, 0.21633205], dtype=float32)>), ('sd', <tf.Tensor: shape=(32,), dtype=float32, numpy=\n",
            "array([0.04153496, 0.03125658, 0.08755724, 0.0628012 , 0.04527246,\n",
            "       0.06193354, 0.04253769, 0.03711048, 0.07266748, 0.06719915,\n",
            "       0.05809684, 0.08379954, 0.03804022, 0.07759062, 0.03602827,\n",
            "       0.06075511, 0.0778487 , 0.03838037, 0.08697115, 0.05925776,\n",
            "       0.05319705, 0.06148264, 0.03157575, 0.05639552, 0.04084715,\n",
            "       0.06245802, 0.06114903, 0.0623871 , 0.07952756, 0.03329758,\n",
            "       0.06312488, 0.03971065], dtype=float32)>), ('median', <tf.Tensor: shape=(32,), dtype=float32, numpy=\n",
            "array([0.21994737, 0.19675675, 0.08836292, 0.16721678, 0.1786207 ,\n",
            "       0.14801413, 0.19783178, 0.19108635, 0.18530165, 0.22531986,\n",
            "       0.21723293, 0.08685864, 0.20616633, 0.13386862, 0.19730392,\n",
            "       0.14619654, 0.21456239, 0.23253562, 0.15601578, 0.17450902,\n",
            "       0.20505163, 0.18190688, 0.18108696, 0.18236712, 0.23133183,\n",
            "       0.20564315, 0.17461957, 0.14204082, 0.11117647, 0.22641651,\n",
            "       0.13122436, 0.21731153], dtype=float32)>), ('Q25', <tf.Tensor: shape=(32,), dtype=float32, numpy=\n",
            "array([0.19968422, 0.18162163, 0.02982249, 0.1354965 , 0.15549909,\n",
            "       0.10428268, 0.17271028, 0.1708078 , 0.11670932, 0.16781145,\n",
            "       0.14073555, 0.01759162, 0.18628803, 0.09180049, 0.18906863,\n",
            "       0.10355589, 0.16972066, 0.22495727, 0.06102564, 0.14682698,\n",
            "       0.18814932, 0.14900222, 0.17081521, 0.10517363, 0.20457487,\n",
            "       0.18821576, 0.11108696, 0.10408163, 0.04673529, 0.21801126,\n",
            "       0.11580551, 0.18641235], dtype=float32)>), ('Q75', <tf.Tensor: shape=(32,), dtype=float32, numpy=\n",
            "array([0.23873684, 0.21261954, 0.19495068, 0.24984616, 0.21127042,\n",
            "       0.20816961, 0.24650468, 0.22462395, 0.23137112, 0.26255894,\n",
            "       0.24518389, 0.17316754, 0.23740365, 0.21238443, 0.21651961,\n",
            "       0.2043811 , 0.25523278, 0.24809116, 0.22284023, 0.2079893 ,\n",
            "       0.25042096, 0.23964523, 0.19858696, 0.20697378, 0.2580888 ,\n",
            "       0.22345781, 0.22027174, 0.2077551 , 0.19682352, 0.23797373,\n",
            "       0.2283304 , 0.24910082], dtype=float32)>), ('IQR', <tf.Tensor: shape=(32,), dtype=float32, numpy=\n",
            "array([0.03905263, 0.03099792, 0.1651282 , 0.11434965, 0.05577132,\n",
            "       0.10388692, 0.07379439, 0.05381615, 0.11466179, 0.09474748,\n",
            "       0.10444833, 0.15557592, 0.05111562, 0.12058394, 0.02745098,\n",
            "       0.10082521, 0.0855121 , 0.0231339 , 0.1618146 , 0.06116233,\n",
            "       0.06227164, 0.09064302, 0.02777174, 0.10180014, 0.05351392,\n",
            "       0.03524205, 0.10918479, 0.10367347, 0.15008824, 0.01996248,\n",
            "       0.1125249 , 0.06268846], dtype=float32)>), ('skew', <tf.Tensor: shape=(32,), dtype=float32, numpy=\n",
            "array([ 1.9576248,  2.852864 ,  1.7220616,  1.4441447,  1.6981714,\n",
            "        3.3337643,  3.3257194,  1.6258142,  1.4084116,  1.7985456,\n",
            "        1.3625644, 20.307146 ,  1.7974626,  1.8183135,  3.9757886,\n",
            "        2.5692408,  2.245736 ,  3.4919052,  0.608371 ,  1.6721699,\n",
            "        2.1012383,  2.0167956,  3.2244835,  2.0915518,  1.7181046,\n",
            "        2.7125254,  1.3029375,  3.5743642, 23.538061 ,  3.1282945,\n",
            "        3.152212 ,  1.2807901], dtype=float32)>), ('kurt', <tf.Tensor: shape=(32,), dtype=float32, numpy=\n",
            "array([  6.4018106,  12.31542  ,   6.765329 ,   4.774041 ,   5.955017 ,\n",
            "        16.522459 ,  19.560522 ,   5.025591 ,   6.306749 ,   5.9168143,\n",
            "         4.518897 , 577.36975  ,   6.291106 ,   6.2029486,  23.927467 ,\n",
            "        12.0069685,  12.428735 ,  18.0906   ,   2.844063 ,   5.770758 ,\n",
            "         7.8242073,   8.353954 ,  15.510407 ,   8.017145 ,   5.4644146,\n",
            "        10.452441 ,   4.9321775,  17.664415 , 671.8342   ,  13.756715 ,\n",
            "        15.148047 ,   3.8450804], dtype=float32)>), ('sp.ent', <tf.Tensor: shape=(32,), dtype=float32, numpy=\n",
            "array([0.86515397, 0.8609731 , 0.9626815 , 0.91135347, 0.91266644,\n",
            "       0.9137255 , 0.85952055, 0.87124497, 0.9637558 , 0.906929  ,\n",
            "       0.90576947, 0.9399144 , 0.86092395, 0.9512526 , 0.8460182 ,\n",
            "       0.93340576, 0.9323521 , 0.8124332 , 0.97635543, 0.9427042 ,\n",
            "       0.88510484, 0.9064454 , 0.81559086, 0.9153756 , 0.87324494,\n",
            "       0.87273693, 0.93595517, 0.8984602 , 0.9019136 , 0.7918171 ,\n",
            "       0.9088878 , 0.8967991 ], dtype=float32)>), ('sfm', <tf.Tensor: shape=(32,), dtype=float32, numpy=\n",
            "array([0.28684103, 0.18337268, 0.7473737 , 0.4243552 , 0.33772236,\n",
            "       0.5250207 , 0.22090413, 0.2473436 , 0.7177812 , 0.44618645,\n",
            "       0.3344919 , 0.6876427 , 0.22283554, 0.6770427 , 0.2350261 ,\n",
            "       0.5422391 , 0.5638844 , 0.20636393, 0.8180563 , 0.6072604 ,\n",
            "       0.18152949, 0.39045054, 0.2031007 , 0.40837854, 0.1568169 ,\n",
            "       0.39890864, 0.4974117 , 0.494613  , 0.56283426, 0.18499096,\n",
            "       0.43506548, 0.17583466], dtype=float32)>), ('mode', <tf.Tensor: shape=(32,), dtype=float32, numpy=\n",
            "array([0.20373684, 0.19617464, 0.00883629, 0.1492028 , 0.15676951,\n",
            "       0.10289752, 0.17166355, 0.19069637, 0.23111518, 0.2653872 ,\n",
            "       0.24028021, 0.        , 0.18572009, 0.09469587, 0.19078432,\n",
            "       0.09935484, 0.05005587, 0.22735043, 0.19550295, 0.16366066,\n",
            "       0.        , 0.17631929, 0.17271739, 0.20558469, 0.27283671,\n",
            "       0.2238451 , 0.17842391, 0.10346939, 0.        , 0.22168855,\n",
            "       0.11498535, 0.2040872 ], dtype=float32)>), ('centroid', <tf.Tensor: shape=(32,), dtype=float32, numpy=\n",
            "array([0.21459435, 0.19643237, 0.11072728, 0.1864035 , 0.18448438,\n",
            "       0.1554347 , 0.20631884, 0.19424975, 0.17062494, 0.20409602,\n",
            "       0.19638923, 0.09672528, 0.21014172, 0.1442573 , 0.20230962,\n",
            "       0.15507646, 0.19262883, 0.22971797, 0.14441854, 0.17246106,\n",
            "       0.20639285, 0.18596134, 0.18348125, 0.165553  , 0.22666882,\n",
            "       0.18662596, 0.16768473, 0.1527528 , 0.11777771, 0.22469819,\n",
            "       0.16274537, 0.21633205], dtype=float32)>), ('meanfun', <tf.Tensor: shape=(32,), dtype=float32, numpy=\n",
            "array([0.17138125, 0.19198366, 0.18917213, 0.12722427, 0.15667772,\n",
            "       0.10823674, 0.16910806, 0.16696326, 0.12309633, 0.13045518,\n",
            "       0.13730736, 0.10079633, 0.15349324, 0.11804952, 0.1788487 ,\n",
            "       0.10214754, 0.1486587 , 0.19390415, 0.17842036, 0.14496791,\n",
            "       0.11497238, 0.12449103, 0.1717493 , 0.09858934, 0.1616541 ,\n",
            "       0.15644534, 0.09251045, 0.09718131, 0.09114659, 0.1899755 ,\n",
            "       0.11576904, 0.15219173], dtype=float32)>), ('minfun', <tf.Tensor: shape=(32,), dtype=float32, numpy=\n",
            "array([0.04757185, 0.13445379, 0.016     , 0.04743083, 0.01891253,\n",
            "       0.01663893, 0.04729064, 0.04766634, 0.0661157 , 0.02083333,\n",
            "       0.04912999, 0.01639344, 0.04696673, 0.0221914 , 0.04795205,\n",
            "       0.015625  , 0.01826484, 0.04863222, 0.01666667, 0.02881844,\n",
            "       0.02792321, 0.047105  , 0.04432133, 0.01574803, 0.01635992,\n",
            "       0.04907975, 0.02141901, 0.03508772, 0.01564027, 0.05423729,\n",
            "       0.06060606, 0.04319295], dtype=float32)>), ('maxfun', <tf.Tensor: shape=(32,), dtype=float32, numpy=\n",
            "array([0.27906978, 0.27118644, 0.26229507, 0.27906978, 0.2580645 ,\n",
            "       0.22222222, 0.27906978, 0.27745664, 0.27586207, 0.25      ,\n",
            "       0.27586207, 0.27118644, 0.27906978, 0.27118644, 0.27745664,\n",
            "       0.2777778 , 0.27586207, 0.27745664, 0.27586207, 0.25      ,\n",
            "       0.25      , 0.27906978, 0.21333334, 0.25      , 0.27586207,\n",
            "       0.27745664, 0.23188406, 0.11494253, 0.27586207, 0.26966292,\n",
            "       0.20408164, 0.2773585 ], dtype=float32)>), ('meandom', <tf.Tensor: shape=(32,), dtype=float32, numpy=\n",
            "array([1.566256  , 0.6923363 , 0.6807065 , 1.096875  , 0.79791665,\n",
            "       1.0541992 , 1.2564787 , 1.0325284 , 0.81825656, 0.25390625,\n",
            "       2.8052456 , 0.00818452, 1.1217448 , 0.41683468, 1.6878972 ,\n",
            "       1.0646751 , 0.30118534, 1.6333705 , 0.5093006 , 1.3727678 ,\n",
            "       0.25167412, 0.81225586, 0.7734375 , 0.8671875 , 0.3309659 ,\n",
            "       1.624566  , 0.9045139 , 0.609189  , 0.0078125 , 1.5809152 ,\n",
            "       0.38170856, 1.7766782 ], dtype=float32)>), ('mindom', <tf.Tensor: shape=(32,), dtype=float32, numpy=\n",
            "array([0.234375  , 0.0078125 , 0.0078125 , 0.0234375 , 0.0078125 ,\n",
            "       0.11230469, 0.0234375 , 0.0234375 , 0.0078125 , 0.0078125 ,\n",
            "       0.0234375 , 0.0078125 , 0.0234375 , 0.0078125 , 0.0234375 ,\n",
            "       0.09277344, 0.0546875 , 0.0234375 , 0.0078125 , 0.18554688,\n",
            "       0.0078125 , 0.0234375 , 0.1640625 , 0.0078125 , 0.0078125 ,\n",
            "       0.0234375 , 0.0078125 , 0.00488281, 0.0078125 , 0.234375  ,\n",
            "       0.08300781, 0.0215332 ], dtype=float32)>), ('maxdom', <tf.Tensor: shape=(32,), dtype=float32, numpy=\n",
            "array([7.75781250e+00, 3.64062500e+00, 4.91406250e+00, 4.96875000e+00,\n",
            "       5.95312500e+00, 3.95507812e+00, 9.30468750e+00, 1.16015625e+01,\n",
            "       5.06250000e+00, 5.70312500e-01, 1.02656250e+01, 2.34375000e-02,\n",
            "       8.57812500e+00, 1.74218750e+00, 8.29687500e+00, 3.15917969e+00,\n",
            "       7.34375000e-01, 1.12500000e+01, 3.89843750e+00, 3.69140625e+00,\n",
            "       4.37500000e-01, 5.20312500e+00, 6.88281250e+00, 7.00000000e+00,\n",
            "       1.39062500e+00, 8.15625000e+00, 6.50781250e+00, 2.72460938e+00,\n",
            "       7.81250000e-03, 8.48437500e+00, 1.18652344e+00, 7.60122061e+00],\n",
            "      dtype=float32)>), ('dfrange', <tf.Tensor: shape=(32,), dtype=float32, numpy=\n",
            "array([ 7.5234375,  3.6328125,  4.90625  ,  4.9453125,  5.9453125,\n",
            "        3.8427734,  9.28125  , 11.578125 ,  5.0546875,  0.5625   ,\n",
            "       10.2421875,  0.015625 ,  8.5546875,  1.734375 ,  8.2734375,\n",
            "        3.0664062,  0.6796875, 11.2265625,  3.890625 ,  3.5058594,\n",
            "        0.4296875,  5.1796875,  6.71875  ,  6.9921875,  1.3828125,\n",
            "        8.1328125,  6.5      ,  2.7197266,  0.       ,  8.25     ,\n",
            "        1.1035156,  7.5796876], dtype=float32)>), ('modindx', <tf.Tensor: shape=(32,), dtype=float32, numpy=\n",
            "array([0.1468915 , 0.17469956, 0.11313315, 0.1035442 , 0.21014455,\n",
            "       0.3517154 , 0.1393308 , 0.07941452, 0.18465315, 0.21153846,\n",
            "       0.16335152, 0.04878049, 0.13296233, 0.1509009 , 0.11352825,\n",
            "       0.46878982, 0.23727421, 0.13620548, 0.15176496, 0.3033426 ,\n",
            "       0.35353535, 0.09580278, 0.12804377, 0.21419296, 0.1645951 ,\n",
            "       0.13446686, 0.2449802 , 0.28954718, 0.        , 0.13586648,\n",
            "       0.2710177 , 0.13887987], dtype=float32)>)])\n",
            "tf.Tensor([1 1 1 0 1 0 1 1 0 0 0 0 1 0 1 0 1 1 1 1 0 0 1 0 1 1 0 0 0 1 0 1], shape=(32,), dtype=int32)\n"
          ],
          "name": "stdout"
        }
      ]
    },
    {
      "cell_type": "markdown",
      "metadata": {
        "id": "brY0i4eseAYA"
      },
      "source": [
        "## 輸出結果可視化"
      ]
    },
    {
      "cell_type": "code",
      "metadata": {
        "colab": {
          "base_uri": "https://localhost:8080/",
          "height": 279
        },
        "id": "9_bAPPb6cP6s",
        "outputId": "7bad1815-1f77-4cca-a402-9fe847afee02"
      },
      "source": [
        "plt.scatter(features['Q25'],\n",
        "      features['Q75'],\n",
        "      c=labels,\n",
        "      cmap='viridis')\n",
        "\n",
        "plt.xlabel(\"Q25\")\n",
        "plt.ylabel(\"Q75\")\n",
        "plt.show()"
      ],
      "execution_count": 164,
      "outputs": [
        {
          "output_type": "display_data",
          "data": {
            "image/png": "[encoded data removed]",
            "text/plain": [
              "<Figure size 432x288 with 1 Axes>"
            ]
          },
          "metadata": {
            "tags": [],
            "needs_background": "light"
          }
        }
      ]
    },
    {
      "cell_type": "markdown",
      "metadata": {
        "id": "HZWctzlZeMx3"
      },
      "source": [
        "# 重構features"
      ]
    },
    {
      "cell_type": "code",
      "metadata": {
        "id": "aHUr0D3YA1fe"
      },
      "source": [
        "# 把同一個數據的不同feature放在同一個數組中，我們使用tf.pack()來將features重構爲(batch_size, num_features)形狀\n",
        "def pack_features_vector(features, labels):\n",
        "    features = tf.stack(list(features.values()), axis=1)  # 將矩陣相同項重構為新的矩陣\n",
        "    return features, labels"
      ],
      "execution_count": 165,
      "outputs": []
    },
    {
      "cell_type": "code",
      "metadata": {
        "colab": {
          "base_uri": "https://localhost:8080/"
        },
        "id": "4pu7HbD8A-3k",
        "outputId": "57dfeab2-a21c-435d-c11b-ed7f69085a50"
      },
      "source": [
        "# 使用tf.data.Dataset.map將重構函數運用到每條數據中。\n",
        "train_dataset = train_dataset.map(pack_features_vector)\n",
        "# 查看前5個數據\n",
        "features, labels = next(iter(train_dataset))\n",
        "print(features[:5])"
      ],
      "execution_count": 166,
      "outputs": [
        {
          "output_type": "stream",
          "text": [
            "tf.Tensor(\n",
            "[[1.83464661e-01 7.43383244e-02 1.89102769e-01 1.29265904e-01\n",
            "  2.53964096e-01 1.24698207e-01 1.71073937e+00 5.77009821e+00\n",
            "  9.45124149e-01 6.30812645e-01 2.66296893e-01 1.83464661e-01\n",
            "  1.54437035e-01 4.76190485e-02 2.69662917e-01 9.27688956e-01\n",
            "  2.34375000e-02 5.32031250e+00 5.29687500e+00 1.44271076e-01]\n",
            " [1.24882638e-01 7.78078362e-02 1.13887638e-01 6.88988790e-02\n",
            "  2.01033711e-01 1.32134825e-01 3.99039030e+00 2.43606968e+01\n",
            "  9.27986562e-01 6.17385507e-01 0.00000000e+00 1.24882638e-01\n",
            "  1.16250895e-01 1.74102299e-02 2.58064508e-01 1.49414062e-01\n",
            "  7.81250000e-03 7.34375000e-01 7.26562500e-01 1.98156685e-01]\n",
            " [2.07022473e-01 6.26491457e-02 2.40117475e-01 1.39383256e-01\n",
            "  2.61908948e-01 1.22525699e-01 1.98664379e+00 6.62617731e+00\n",
            "  8.70279670e-01 2.74150103e-01 2.61497796e-01 2.07022473e-01\n",
            "  1.20236859e-01 4.69208211e-02 2.77456641e-01 6.90937519e-01\n",
            "  2.34375000e-02 2.67187500e+00 2.64843750e+00 1.06579453e-01]\n",
            " [1.96432367e-01 3.12565826e-02 1.96756750e-01 1.81621626e-01\n",
            "  2.12619543e-01 3.09979208e-02 2.85286403e+00 1.23154202e+01\n",
            "  8.60973120e-01 1.83372676e-01 1.96174636e-01 1.96432367e-01\n",
            "  1.91983655e-01 1.34453788e-01 2.71186441e-01 6.92336321e-01\n",
            "  7.81250000e-03 3.64062500e+00 3.63281250e+00 1.74699560e-01]\n",
            " [1.42297432e-01 8.31377804e-02 1.69746593e-01 5.84015585e-02\n",
            "  2.17595845e-01 1.59194276e-01 1.96370041e+00 7.24816084e+00\n",
            "  9.55879629e-01 7.00716317e-01 2.29603633e-01 1.42297432e-01\n",
            "  1.78167447e-01 1.78770944e-02 2.38805965e-01 3.08189660e-01\n",
            "  7.81250000e-03 7.81250000e-01 7.73437500e-01 3.87334883e-01]], shape=(5, 20), dtype=float32)\n"
          ],
          "name": "stdout"
        }
      ]
    },
    {
      "cell_type": "markdown",
      "metadata": {
        "id": "aRvmWcT-gNCi"
      },
      "source": [
        "# Keras創建模型"
      ]
    },
    {
      "cell_type": "markdown",
      "metadata": {
        "id": "f8JELIZeG35j"
      },
      "source": [
        "## 構建線性模型"
      ]
    },
    {
      "cell_type": "code",
      "metadata": {
        "id": "c2rWtdEoAnXf"
      },
      "source": [
        "# 構建線性模型\n",
        "# 兩個Dense層各有50個節點，一個輸出層有2個節點代表標籤預測，兩個隱藏層\n",
        "model = tf.keras.Sequential([\n",
        "    tf.keras.layers.Dense(7, activation='relu',input_shape=(20,)),  # input shape required. My dataset contains 20 features/variables\n",
        "    tf.keras.layers.Dense(7, activation='relu'),\n",
        "    tf.keras.layers.Dense(2)\n",
        "])"
      ],
      "execution_count": 167,
      "outputs": []
    },
    {
      "cell_type": "code",
      "metadata": {
        "colab": {
          "base_uri": "https://localhost:8080/"
        },
        "id": "p6lhXUGfvyy1",
        "outputId": "6639170a-f51f-4f55-e8c7-894fdedcd5cc"
      },
      "source": [
        "# 預測前5項\n",
        "prediction = model(features)\n",
        "prediction[:5]"
      ],
      "execution_count": 168,
      "outputs": [
        {
          "output_type": "execute_result",
          "data": {
            "text/plain": [
              "<tf.Tensor: shape=(5, 2), dtype=float32, numpy=\n",
              "array([[3.1683288 , 1.3372567 ],\n",
              "       [4.485548  , 0.54793143],\n",
              "       [2.416274  , 0.6775751 ],\n",
              "       [3.691671  , 1.0580223 ],\n",
              "       [1.6445477 , 0.22364467]], dtype=float32)>"
            ]
          },
          "metadata": {
            "tags": []
          },
          "execution_count": 168
        }
      ]
    },
    {
      "cell_type": "markdown",
      "metadata": {
        "id": "j8Z7l18PHBTo"
      },
      "source": [
        "## 多分類任務 softmax進行歸一化"
      ]
    },
    {
      "cell_type": "code",
      "metadata": {
        "colab": {
          "base_uri": "https://localhost:8080/"
        },
        "id": "e3343TuBxHGs",
        "outputId": "5349ef7a-4c8e-4760-8e70-9e9db16b6727"
      },
      "source": [
        "# 多分類任務需要使用softmax進行歸一化\n",
        "# softmax 使每一個元素範圍都在(0,1)之間，且所有元素和為1\n",
        "tf.nn.softmax(prediction)[:5]"
      ],
      "execution_count": 169,
      "outputs": [
        {
          "output_type": "execute_result",
          "data": {
            "text/plain": [
              "<tf.Tensor: shape=(5, 2), dtype=float32, numpy=\n",
              "array([[0.86188936, 0.1381106 ],\n",
              "       [0.9808781 , 0.01912185],\n",
              "       [0.8505217 , 0.14947826],\n",
              "       [0.932996  , 0.067004  ],\n",
              "       [0.80547994, 0.19452007]], dtype=float32)>"
            ]
          },
          "metadata": {
            "tags": []
          },
          "execution_count": 169
        }
      ]
    },
    {
      "cell_type": "markdown",
      "metadata": {
        "id": "lSr3EpxjHamM"
      },
      "source": [
        "## argmax獲取概率最大的類標籤"
      ]
    },
    {
      "cell_type": "code",
      "metadata": {
        "colab": {
          "base_uri": "https://localhost:8080/"
        },
        "id": "EQ5j8kNXEOfC",
        "outputId": "f86f89c6-4dc9-49b8-ac8f-575f6be83083"
      },
      "source": [
        "# 使用tf.argmax獲取概率最大的類標籤\n",
        "print('prediction:', tf.argmax(prediction, axis=1))\n",
        "print('label:', labels)"
      ],
      "execution_count": 170,
      "outputs": [
        {
          "output_type": "stream",
          "text": [
            "prediction: tf.Tensor([0 0 0 0 0 0 0 0 0 0 0 0 0 0 0 0 0 0 0 0 0 0 0 0 0 0 0 0 0 0 0 0], shape=(32,), dtype=int64)\n",
            "label: tf.Tensor([0 0 0 1 1 0 1 0 1 1 1 1 1 1 0 0 1 0 1 1 1 1 0 0 1 0 0 0 0 0 0 1], shape=(32,), dtype=int32)\n"
          ],
          "name": "stdout"
        }
      ]
    },
    {
      "cell_type": "markdown",
      "metadata": {
        "id": "FoStXpmpIEzv"
      },
      "source": [
        "# 訓練模型"
      ]
    },
    {
      "cell_type": "markdown",
      "metadata": {
        "id": "ikeGliWhIJMm"
      },
      "source": [
        "## 損失函數"
      ]
    },
    {
      "cell_type": "code",
      "metadata": {
        "id": "ZewGDMppERdk",
        "colab": {
          "base_uri": "https://localhost:8080/",
          "height": 52
        },
        "outputId": "2190d36e-a5a0-4e9f-b08e-5914e1ef0638"
      },
      "source": [
        "# 損失函數\n",
        "loss_object=tf.keras.losses.SparseCategoricalCrossentropy(from_logits=True)\n",
        "'''\n",
        "from_logits=True 網路預測值y_pred 須為還沒經過softmax函數的輸出值\n",
        "將softmax激活函數實現在損失函數中，便不須手動添加softmax損失函數，提升數值運算穩定性\n",
        "'''"
      ],
      "execution_count": 171,
      "outputs": [
        {
          "output_type": "execute_result",
          "data": {
            "application/vnd.google.colaboratory.intrinsic+json": {
              "type": "string"
            },
            "text/plain": [
              "'\\nfrom_logits=True 網路預測值y_pred 須為還沒經過softmax函數的輸出值\\n將softmax激活函數實現在損失函數中，便不須手動添加softmax損失函數，提升數值運算穩定性\\n'"
            ]
          },
          "metadata": {
            "tags": []
          },
          "execution_count": 171
        }
      ]
    },
    {
      "cell_type": "markdown",
      "metadata": {
        "id": "rG8241RVIMKh"
      },
      "source": [
        "## 獲取損失函數"
      ]
    },
    {
      "cell_type": "code",
      "metadata": {
        "colab": {
          "base_uri": "https://localhost:8080/"
        },
        "id": "UXeW9FsdRFzK",
        "outputId": "aa8665af-8259-4684-dc99-444285d874a9"
      },
      "source": [
        "# 獲取損失\n",
        "# train_dataset_fp = pd.read_csv(train_dataset_fp, names=column_names, skipinitialspace=True, skiprows=1, engine=\"python\")\n",
        "\n",
        "def loss(model, x, y):\n",
        "    y_ = model(x)\n",
        "    return loss_object(y_true=y, y_pred=y_)\n",
        "l = loss(model, features, labels)\n",
        "print(l)"
      ],
      "execution_count": 172,
      "outputs": [
        {
          "output_type": "stream",
          "text": [
            "tf.Tensor(1.2925699, shape=(), dtype=float32)\n"
          ],
          "name": "stdout"
        }
      ]
    },
    {
      "cell_type": "markdown",
      "metadata": {
        "id": "O8YJyd29IUrl"
      },
      "source": [
        "## GradientTape計算loss對所有變量的梯度"
      ]
    },
    {
      "cell_type": "code",
      "metadata": {
        "id": "SdIVHthJPGqg"
      },
      "source": [
        "def grad(model, inputs, targets):\n",
        "    with tf.GradientTape() as tape:\n",
        "        loss_value = loss(model, inputs, targets)\n",
        "    return loss_value, tape.gradient(loss_value, model.trainable_variables)"
      ],
      "execution_count": 173,
      "outputs": []
    },
    {
      "cell_type": "markdown",
      "metadata": {
        "id": "O5BznteQJ14E"
      },
      "source": [
        "# 創建優化器"
      ]
    },
    {
      "cell_type": "markdown",
      "metadata": {
        "id": "R0N-D37YKE77"
      },
      "source": [
        "## 設置迭代"
      ]
    },
    {
      "cell_type": "code",
      "metadata": {
        "id": "YQ4oeI4rBTSq"
      },
      "source": [
        "optimizer = tf.keras.optimizers.Adam(learning_rate=0.01)"
      ],
      "execution_count": 174,
      "outputs": []
    },
    {
      "cell_type": "markdown",
      "metadata": {
        "id": "2MjMQlnlKP3k"
      },
      "source": [
        "## 優化器使用"
      ]
    },
    {
      "cell_type": "code",
      "metadata": {
        "colab": {
          "base_uri": "https://localhost:8080/"
        },
        "id": "p6s-7gfBBhZB",
        "outputId": "e9d70fc8-52c7-409c-a1ae-438a99eb0365"
      },
      "source": [
        "loss_value, grads = grad(model, features, labels)\n",
        "print('步數：{}, 初始loss值：{}'.format(optimizer.iterations.numpy(),\n",
        "                                loss_value.numpy()))\n",
        "optimizer.apply_gradients(zip(grads, model.trainable_variables))\n",
        "print('步數：{}, loss值：{}'.format(optimizer.iterations.numpy(),\n",
        "                                loss(model,features, labels).numpy()))"
      ],
      "execution_count": 175,
      "outputs": [
        {
          "output_type": "stream",
          "text": [
            "步數：0, 初始loss值：1.292569875717163\n",
            "步數：1, loss值：1.0054258108139038\n"
          ],
          "name": "stdout"
        }
      ]
    },
    {
      "cell_type": "markdown",
      "metadata": {
        "id": "oBOK19zMKVPL"
      },
      "source": [
        "# 訓練循環"
      ]
    },
    {
      "cell_type": "markdown",
      "metadata": {
        "id": "aypRb2eCKdV8"
      },
      "source": [
        "## 訓練每個epoch數據"
      ]
    },
    {
      "cell_type": "code",
      "metadata": {
        "colab": {
          "base_uri": "https://localhost:8080/"
        },
        "id": "nbZyMkUpBlgA",
        "outputId": "8aea35d7-c472-481a-bf57-ba6c954bc27f"
      },
      "source": [
        "# 保存loss和acc\n",
        "train_loss_results=[]\n",
        "train_accuracy_results=[]\n",
        "\n",
        "num_epochs =201 # epoch 為所有樣本訓練過N遍\n",
        "for epoch in range(num_epochs):\n",
        "    # 用於記錄loss和acc的類\n",
        "    epoch_loss_avg = tf.keras.metrics.Mean()\n",
        "    epoch_accuracy = tf.keras.metrics.SparseCategoricalAccuracy()\n",
        "    \n",
        "    # 訓練循環\n",
        "    for x, y in train_dataset:\n",
        "        # 獲取loss和梯度\n",
        "        loss_value, grads = grad(model, x, y)\n",
        "        # 梯度優化\n",
        "        optimizer.apply_gradients(zip(grads, model.trainable_variables))\n",
        "        \n",
        "        # 記錄loss均值\n",
        "        epoch_loss_avg(loss_value)\n",
        "        # 記錄準確率\n",
        "        epoch_accuracy(y, model(x))\n",
        "\n",
        "    # 保存每個epoch的loss和acc\n",
        "    train_loss_results.append(epoch_loss_avg.result())\n",
        "    train_accuracy_results.append(epoch_accuracy.result())\n",
        "\n",
        "    if epoch % 50 == 0:\n",
        "        print(\"Epoch {:03d}: Loss: {:.3f}, Accuracy: {:.3%}\".format(epoch,\n",
        "                                        epoch_loss_avg.result(),\n",
        "                                        epoch_accuracy.result()))"
      ],
      "execution_count": 176,
      "outputs": [
        {
          "output_type": "stream",
          "text": [
            "Epoch 000: Loss: 0.929, Accuracy: 50.126%\n",
            "Epoch 050: Loss: 0.168, Accuracy: 95.202%\n",
            "Epoch 100: Loss: 0.146, Accuracy: 95.486%\n",
            "Epoch 150: Loss: 0.128, Accuracy: 96.402%\n",
            "Epoch 200: Loss: 0.114, Accuracy: 96.780%\n"
          ],
          "name": "stdout"
        }
      ]
    },
    {
      "cell_type": "markdown",
      "metadata": {
        "id": "WEtCRfwjKmZX"
      },
      "source": [
        "## 可視化訓練過程"
      ]
    },
    {
      "cell_type": "code",
      "metadata": {
        "colab": {
          "base_uri": "https://localhost:8080/",
          "height": 558
        },
        "id": "E_T1LhKEDPiR",
        "outputId": "58b73146-60e0-47dc-c2cd-ee2a283cd5ad"
      },
      "source": [
        "fig, axes = plt.subplots(2, sharex=True, figsize=(12, 8))\n",
        "fig.suptitle('Training Metrics')\n",
        "\n",
        "axes[0].set_ylabel(\"Loss\", fontsize=14)\n",
        "axes[0].plot(train_loss_results)\n",
        "\n",
        "axes[1].set_ylabel(\"Accuracy\", fontsize=14)\n",
        "axes[1].set_xlabel(\"Epoch\", fontsize=14)\n",
        "axes[1].plot(train_accuracy_results)\n",
        "plt.show()"
      ],
      "execution_count": 177,
      "outputs": [
        {
          "output_type": "display_data",
          "data": {
            "image/png": "[encoded data removed]",
            "text/plain": [
              "<Figure size 864x576 with 2 Axes>"
            ]
          },
          "metadata": {
            "tags": [],
            "needs_background": "light"
          }
        }
      ]
    },
    {
      "cell_type": "markdown",
      "metadata": {
        "id": "3e3aFqJf-Hcp"
      },
      "source": [
        "# 使用訓練的模型進行預測"
      ]
    },
    {
      "cell_type": "code",
      "metadata": {
        "colab": {
          "base_uri": "https://localhost:8080/"
        },
        "id": "4WMc2-Rn6fpI",
        "outputId": "11d1fe00-b1ea-4245-fe86-8a5e37788f0a"
      },
      "source": [
        "predict_dataset = tf.convert_to_tensor([\n",
        "    [0.151228092,\t0.072110587,\t0.158011187,\t0.096581728,\t0.207955252,\t0.111373524,\t1.232831276,\t4.17729621,\t0.963322462,\t0.727231799,\t0.083878185,\t0.151228092,\t0.088964849,\t0.017797553,\t0.25,\t0.201497396,\t0.0078125,\t0.5625,\t0.5546875,\t0.247119078,],\n",
        "    [0.164310868,\t0.053803364,\t0.173873874,\t0.165585586,\t0.185405405,\t0.01981982,\t4.928656441,\t32.09187455,\t0.867461182,\t0.423831175,\t0.173693694,\t0.164310868,\t0.15177942,\t0.011037528,\t0.181818182,\t0.229130498,\t0.034179688,\t0.712890625,\t0.678710938,\t0.223851688,],\n",
        "    [0.190235564,\t0.057793186,\t0.205779087,\t0.138271605,\t0.236790123,\t0.198518564,\t1.09306769,\t42.577716836,\t1.924571293,\t3.361180501,\t0.305728336,\t0.190235564,\t0.116813538,\t0.047058824,\t0.277456647,\t1.262222782,\t0.140625,\t1.1640625,\t0.0234375,\t0.111100228,]\n",
        "])\n",
        "\n",
        "predictions = model(predict_dataset)\n",
        "\n",
        "for i, logits in enumerate(predictions):\n",
        "  class_idx = tf.argmax(logits).numpy()\n",
        "  p = tf.nn.softmax(logits)[class_idx]\n",
        "  name = class_names[class_idx]\n",
        "  print(\"Example {} prediction: {} ({:4.1f}%)\".format(i, name, 100*p))"
      ],
      "execution_count": 178,
      "outputs": [
        {
          "output_type": "stream",
          "text": [
            "Example 0 prediction: male (97.4%)\n",
            "Example 1 prediction: female (100.0%)\n",
            "Example 2 prediction: female (100.0%)\n"
          ],
          "name": "stdout"
        }
      ]
    },
    {
      "cell_type": "code",
      "metadata": {
        "id": "p2GVip54-ACm"
      },
      "source": [
        ""
      ],
      "execution_count": 178,
      "outputs": []
    }
  ]
}