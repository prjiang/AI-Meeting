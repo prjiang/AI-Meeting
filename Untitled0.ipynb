{
  "nbformat": 4,
  "nbformat_minor": 0,
  "metadata": {
    "colab": {
      "name": "Untitled0.ipynb",
      "provenance": [],
      "collapsed_sections": [],
      "mount_file_id": "1-SS7N3lbG-mFlPJwvKYhq0Uzn0mG316b",
      "authorship_tag": "ABX9TyOei7ZOc0pcKhP1U4EMvKxT",
      "include_colab_link": true
    },
    "kernelspec": {
      "name": "python3",
      "display_name": "Python 3"
    }
  },
  "cells": [
    {
      "cell_type": "markdown",
      "metadata": {
        "id": "view-in-github",
        "colab_type": "text"
      },
      "source": [
        "<a href=\"https://colab.research.google.com/github/prjiang/AI-Seminar/blob/main/Untitled0.ipynb\" target=\"_parent\"><img src=\"https://colab.research.google.com/assets/colab-badge.svg\" alt=\"Open In Colab\"/></a>"
      ]
    },
    {
      "cell_type": "markdown",
      "metadata": {
        "id": "0hwOh-swbfYq"
      },
      "source": [
        "# 學生基本資料"
      ]
    },
    {
      "cell_type": "code",
      "metadata": {
        "colab": {
          "base_uri": "https://localhost:8080/"
        },
        "id": "NRLJITTb7LWl",
        "outputId": "4397c23b-28d9-49b6-aab9-29a74858cb87"
      },
      "source": [
        "print(\"資管二甲 江品叡  B0809084  2020-11-19\")"
      ],
      "execution_count": 25,
      "outputs": [
        {
          "output_type": "stream",
          "text": [
            "資管二甲 江品叡  B0809084  2020-11-19\n"
          ],
          "name": "stdout"
        }
      ]
    },
    {
      "cell_type": "markdown",
      "metadata": {
        "id": "X-_V7U0SbxH8"
      },
      "source": [
        "# 上傳檔案"
      ]
    },
    {
      "cell_type": "code",
      "metadata": {
        "id": "cl65ziBR8ZSC",
        "colab": {
          "base_uri": "https://localhost:8080/"
        },
        "outputId": "1a387e52-cebd-43d7-fed3-6aa224cad32f"
      },
      "source": [
        "'''\n",
        "from google.colab import files\n",
        "uploaded = files.upload()\n",
        "'''\n",
        "print('Please connent to google drive!')"
      ],
      "execution_count": 26,
      "outputs": [
        {
          "output_type": "stream",
          "text": [
            "Please connent to google drive!\n"
          ],
          "name": "stdout"
        }
      ]
    },
    {
      "cell_type": "markdown",
      "metadata": {
        "id": "wEUo44NGb5li"
      },
      "source": [
        "# 導入模組 及 csv檔案"
      ]
    },
    {
      "cell_type": "code",
      "metadata": {
        "colab": {
          "base_uri": "https://localhost:8080/"
        },
        "id": "H6aEWvybA3YA",
        "outputId": "67144c46-9150-4aad-bc1a-725a5c96e905"
      },
      "source": [
        "import os\n",
        "import matplotlib.pyplot as plt\n",
        "import tensorflow as tf\n",
        "import pandas as pd\n",
        "from __future__ import absolute_import, division, print_function, unicode_literals\n",
        "\n",
        "print(\"Tensor version: {}\" .format(tf.__version__))\n",
        "print(\"Eager execution: {}\" .format(tf.executing_eagerly()))  # Tensorflow預設的開發環境"
      ],
      "execution_count": 27,
      "outputs": [
        {
          "output_type": "stream",
          "text": [
            "Tensor version: 2.3.0\n",
            "Eager execution: True\n"
          ],
          "name": "stdout"
        }
      ]
    },
    {
      "cell_type": "code",
      "metadata": {
        "colab": {
          "base_uri": "https://localhost:8080/"
        },
        "id": "WRmNXYRg8b5x",
        "outputId": "cc042888-9619-499c-ccf1-0c390db0fa1a"
      },
      "source": [
        "'''\n",
        "train_dataset_url = \"http://mldata.io/get-data/dataset/original-data/gender_voice\"\n",
        "\n",
        "train_dataset_fp = tf.keras.utils.get_file(fname=os.path.basename(train_dataset_url),\n",
        "                                           origin=train_dataset_url)\n",
        "'''\n",
        "\n",
        "train_dataset_fp = \"/content/drive/MyDrive/Colab_Notebooks/Gender_Voice/gender_voice_weka_dataset.csv\"\n",
        "print(\"Local copy of the dataset file: {}\".format(train_dataset_fp))"
      ],
      "execution_count": 28,
      "outputs": [
        {
          "output_type": "stream",
          "text": [
            "Local copy of the dataset file: /content/drive/MyDrive/Colab_Notebooks/Gender_Voice/gender_voice_weka_dataset.csv\n"
          ],
          "name": "stdout"
        }
      ]
    },
    {
      "cell_type": "markdown",
      "metadata": {
        "id": "EeYjR8XqcFKk"
      },
      "source": [
        "## 查看資料 前5行"
      ]
    },
    {
      "cell_type": "code",
      "metadata": {
        "colab": {
          "base_uri": "https://localhost:8080/"
        },
        "id": "2dMHcEkZDckE",
        "outputId": "59a19015-f6e4-4813-cdf1-4e9d761134f6"
      },
      "source": [
        "!head -n5 {train_dataset_fp}\n",
        "# 查看前5行"
      ],
      "execution_count": 29,
      "outputs": [
        {
          "output_type": "stream",
          "text": [
            "meanfreq,sd,median,Q25,Q75,IQR,skew,kurt,sp.ent,sfm,mode,centroid,meanfun,minfun,maxfun,meandom,mindom,maxdom,dfrange,modindx,label\r\n",
            "0.059780985,0.064241268,0.032026913,0.015071489,0.09019344,0.075121951,12.86346184,274.4029055,0.893369417,0.491917766,0,0.059780985,0.084279106,0.015701668,0.275862069,0.0078125,0.0078125,0.0078125,0,0,0\r\n",
            "0.06600874,0.067310029,0.040228735,0.019413867,0.09266619,0.073252323,22.42328536,634.6138545,0.892193242,0.513723843,0,0.06600874,0.107936554,0.015825915,0.25,0.009014423,0.0078125,0.0546875,0.046875,0.052631579,0\r\n",
            "0.077315503,0.083829421,0.036718459,0.008701057,0.131908017,0.123206961,30.75715458,1024.927705,0.846389092,0.478904979,0,0.077315503,0.098706262,0.015655577,0.271186441,0.007990057,0.0078125,0.015625,0.0078125,0.046511628,0\r\n",
            "0.151228092,0.072110587,0.158011187,0.096581728,0.207955252,0.111373524,1.232831276,4.17729621,0.963322462,0.727231799,0.083878185,0.151228092,0.088964849,0.017797553,0.25,0.201497396,0.0078125,0.5625,0.5546875,0.247119078,0\r\n"
          ],
          "name": "stdout"
        }
      ]
    },
    {
      "cell_type": "markdown",
      "metadata": {
        "id": "FPI2nt_KchKb"
      },
      "source": [
        "# column_names, features, label"
      ]
    },
    {
      "cell_type": "markdown",
      "metadata": {
        "id": "y56EzXm2cnW_"
      },
      "source": [
        "## 建立column_names 及 features與labels"
      ]
    },
    {
      "cell_type": "code",
      "metadata": {
        "colab": {
          "base_uri": "https://localhost:8080/"
        },
        "id": "G_KR-mXa81r_",
        "outputId": "c0e2840c-834c-4b54-c697-bca342953423"
      },
      "source": [
        "# column order in CSV file\n",
        "column_names = ['meanfreq', 'sd', 'median', 'Q25', 'Q75', 'IQR', 'skew', 'kurt', 'sp.ent', 'sfm', 'mode', 'centroid', 'meanfun', 'minfun', 'maxfun', 'meandom', 'mindom', 'maxdom', 'dfrange', 'modindx', 'label']\n",
        "\n",
        "feature_names = column_names[:-1]\n",
        "label_name = column_names[-1]\n",
        "\n",
        "print(\"Features: {}\".format(feature_names))\n",
        "print(\"Label: {}\".format(label_name))"
      ],
      "execution_count": 30,
      "outputs": [
        {
          "output_type": "stream",
          "text": [
            "Features: ['meanfreq', 'sd', 'median', 'Q25', 'Q75', 'IQR', 'skew', 'kurt', 'sp.ent', 'sfm', 'mode', 'centroid', 'meanfun', 'minfun', 'maxfun', 'meandom', 'mindom', 'maxdom', 'dfrange', 'modindx']\n",
            "Label: label\n"
          ],
          "name": "stdout"
        }
      ]
    },
    {
      "cell_type": "markdown",
      "metadata": {
        "id": "emBJK0xQdBcw"
      },
      "source": [
        "## 建立class_names"
      ]
    },
    {
      "cell_type": "code",
      "metadata": {
        "id": "AeqsPrMJ9irP"
      },
      "source": [
        "class_names = ['male', 'female']"
      ],
      "execution_count": 31,
      "outputs": []
    },
    {
      "cell_type": "markdown",
      "metadata": {
        "id": "e_PD6fCjddcP"
      },
      "source": [
        "# 批量資料"
      ]
    },
    {
      "cell_type": "markdown",
      "metadata": {
        "id": "jIyyZU6cdl7w"
      },
      "source": [
        "## 讀入批量資料"
      ]
    },
    {
      "cell_type": "code",
      "metadata": {
        "id": "MHZaVGha9uTL"
      },
      "source": [
        "batch_size = 32 # 一次性讀入多少批量的資料\n",
        "\n",
        "# mack_csv_dataset 將CSV格式的文本文件解析為合適的格式\n",
        "train_dataset = tf.data.experimental.make_csv_dataset(\n",
        "    train_dataset_fp,\n",
        "    batch_size,\n",
        "    column_names=column_names,\n",
        "    label_name=label_name,\n",
        "    num_epochs=1)\n",
        "\n",
        "# num_epochs = N  表示將這個數據集中的資料讀取N遍"
      ],
      "execution_count": 32,
      "outputs": []
    },
    {
      "cell_type": "markdown",
      "metadata": {
        "id": "wog1Sk_5dpUM"
      },
      "source": [
        "## 輸出"
      ]
    },
    {
      "cell_type": "code",
      "metadata": {
        "id": "yDgPKki49x6a",
        "colab": {
          "base_uri": "https://localhost:8080/"
        },
        "outputId": "52e5e630-c5c1-47d3-81aa-b975b699dc50"
      },
      "source": [
        "# make_csv_dataset函數返回tf.data.Dataset的(features, label)對，其中features是一個字典：{‘feature_name’: value}\n",
        "features, labels = next(iter(train_dataset))\n",
        "\n",
        "print(features)\n",
        "# 查看batch裡的特徵\n",
        "# 相同的特徵被放在同一個數組中，數組維度爲batch_size大小\n",
        "print(labels)"
      ],
      "execution_count": 33,
      "outputs": [
        {
          "output_type": "stream",
          "text": [
            "OrderedDict([('meanfreq', <tf.Tensor: shape=(32,), dtype=float32, numpy=\n",
            "array([0.15146272, 0.08969338, 0.19221   , 0.18913937, 0.11820653,\n",
            "       0.1727297 , 0.17624897, 0.17364155, 0.2110169 , 0.16862254,\n",
            "       0.19289866, 0.21104449, 0.16874112, 0.17480554, 0.17175612,\n",
            "       0.18664707, 0.20190017, 0.23245524, 0.17729805, 0.19305083,\n",
            "       0.17046285, 0.21261981, 0.21348773, 0.20330702, 0.21497811,\n",
            "       0.19342421, 0.14196482, 0.152196  , 0.20395516, 0.1773261 ,\n",
            "       0.23309784, 0.18001248], dtype=float32)>), ('sd', <tf.Tensor: shape=(32,), dtype=float32, numpy=\n",
            "array([0.06756206, 0.06906973, 0.05939889, 0.04128119, 0.06779853,\n",
            "       0.06384647, 0.07647731, 0.03638381, 0.05191419, 0.06978328,\n",
            "       0.05798551, 0.04907159, 0.05588105, 0.06114864, 0.06443706,\n",
            "       0.04236132, 0.04856089, 0.03149731, 0.04050495, 0.0547277 ,\n",
            "       0.07554767, 0.04983301, 0.03462861, 0.05544013, 0.03532237,\n",
            "       0.05977916, 0.08108237, 0.08323804, 0.06171772, 0.06439108,\n",
            "       0.03617439, 0.06015364], dtype=float32)>), ('median', <tf.Tensor: shape=(32,), dtype=float32, numpy=\n",
            "array([0.1755961 , 0.06346667, 0.20784615, 0.18799432, 0.10646059,\n",
            "       0.16757576, 0.18952647, 0.17296329, 0.22533707, 0.18223844,\n",
            "       0.20551457, 0.2157862 , 0.17122045, 0.19820711, 0.20327199,\n",
            "       0.18441495, 0.19380456, 0.23791583, 0.17783415, 0.20809524,\n",
            "       0.16976772, 0.22605854, 0.21024561, 0.21107693, 0.21893618,\n",
            "       0.22309352, 0.12790576, 0.14948623, 0.23061225, 0.18632163,\n",
            "       0.23813084, 0.1805948 ], dtype=float32)>), ('Q25', <tf.Tensor: shape=(32,), dtype=float32, numpy=\n",
            "array([0.10508516, 0.03973333, 0.13030769, 0.17923187, 0.06404946,\n",
            "       0.14035353, 0.11816156, 0.15967771, 0.20803371, 0.09742092,\n",
            "       0.13891262, 0.17349906, 0.14563578, 0.11706337, 0.11366053,\n",
            "       0.17158021, 0.15692545, 0.21771543, 0.16308293, 0.14571428,\n",
            "       0.11256701, 0.16392103, 0.1994386 , 0.15453847, 0.18765958,\n",
            "       0.12892087, 0.07439791, 0.09110945, 0.14122449, 0.13456562,\n",
            "       0.22542056, 0.12855019], dtype=float32)>), ('Q75', <tf.Tensor: shape=(32,), dtype=float32, numpy=\n",
            "array([0.19722627, 0.12826666, 0.24176922, 0.2114936 , 0.17397217,\n",
            "       0.22290404, 0.25153202, 0.1852462 , 0.2335955 , 0.22703163,\n",
            "       0.24384466, 0.25441888, 0.1978786 , 0.22330758, 0.22331288,\n",
            "       0.20704463, 0.25123215, 0.2519439 , 0.19777562, 0.24      ,\n",
            "       0.24030972, 0.25636488, 0.22842105, 0.25038463, 0.24202128,\n",
            "       0.2432374 , 0.21256545, 0.23788533, 0.26408163, 0.23083179,\n",
            "       0.24971962, 0.2336803 ], dtype=float32)>), ('IQR', <tf.Tensor: shape=(32,), dtype=float32, numpy=\n",
            "array([0.09214112, 0.08853333, 0.11146154, 0.03226174, 0.10992272,\n",
            "       0.0825505 , 0.13337047, 0.02556849, 0.0255618 , 0.1296107 ,\n",
            "       0.10493204, 0.08091982, 0.05224281, 0.10624421, 0.10965236,\n",
            "       0.03546441, 0.09430669, 0.03422846, 0.03469268, 0.09428571,\n",
            "       0.12774271, 0.09244384, 0.02898246, 0.09584615, 0.0543617 ,\n",
            "       0.11431655, 0.13816755, 0.14677587, 0.12285715, 0.09626617,\n",
            "       0.02429906, 0.10513011], dtype=float32)>), ('skew', <tf.Tensor: shape=(32,), dtype=float32, numpy=\n",
            "array([ 2.303377  ,  1.6447536 ,  1.4268447 ,  3.8635406 ,  0.14173542,\n",
            "        2.1485574 ,  2.2588212 ,  3.0202432 ,  3.6693702 , 15.480388  ,\n",
            "        1.1399263 ,  1.3987615 ,  2.1632755 ,  2.5221605 ,  2.2597103 ,\n",
            "        2.7329185 ,  1.064004  ,  2.1211853 ,  2.6910062 ,  1.4326468 ,\n",
            "        1.301147  ,  1.2772242 ,  3.4590206 ,  1.0210863 ,  2.1216693 ,\n",
            "        1.9633063 ,  1.3739175 ,  3.9536703 ,  1.9078728 ,  0.8049131 ,\n",
            "        3.1663325 ,  1.6933286 ], dtype=float32)>), ('kurt', <tf.Tensor: shape=(32,), dtype=float32, numpy=\n",
            "array([  8.258878 ,   5.022465 ,   4.458301 ,  21.610878 ,   2.2096727,\n",
            "         8.95901  ,   9.384604 ,  12.54912  ,  19.258085 , 351.44427  ,\n",
            "         3.830644 ,   4.859347 ,   8.285902 ,  11.762188 ,   7.888392 ,\n",
            "        11.16206  ,   3.5229466,   7.578427 ,  10.40788  ,   4.601248 ,\n",
            "         4.114986 ,   4.127832 ,  17.834707 ,   3.3903422,   8.614262 ,\n",
            "         6.749477 ,   5.514572 ,  43.24614  ,   6.207222 ,   2.757656 ,\n",
            "        14.537412 ,   7.132243 ], dtype=float32)>), ('sp.ent', <tf.Tensor: shape=(32,), dtype=float32, numpy=\n",
            "array([0.93201   , 0.9458677 , 0.90897524, 0.8538056 , 0.9744259 ,\n",
            "       0.94291383, 0.94065934, 0.84348786, 0.8462613 , 0.9137658 ,\n",
            "       0.9255835 , 0.9139824 , 0.93267095, 0.92032576, 0.9049834 ,\n",
            "       0.844339  , 0.91500896, 0.818791  , 0.8535804 , 0.9052844 ,\n",
            "       0.96377814, 0.90678257, 0.81972605, 0.9068959 , 0.856401  ,\n",
            "       0.8846403 , 0.9749001 , 0.96321636, 0.86176825, 0.94807774,\n",
            "       0.8041461 , 0.9234787 ], dtype=float32)>), ('sfm', <tf.Tensor: shape=(32,), dtype=float32, numpy=\n",
            "array([0.59416264, 0.655976  , 0.40272376, 0.3454401 , 0.7624585 ,\n",
            "       0.60547507, 0.58465403, 0.28539786, 0.31317624, 0.46716633,\n",
            "       0.4145823 , 0.22182676, 0.56247693, 0.48029366, 0.479155  ,\n",
            "       0.23112357, 0.10518271, 0.14504991, 0.31734955, 0.32561332,\n",
            "       0.73482203, 0.1808128 , 0.18826169, 0.32434204, 0.182983  ,\n",
            "       0.31901413, 0.8130876 , 0.75475776, 0.23179297, 0.62063277,\n",
            "       0.17905192, 0.41376063], dtype=float32)>), ('mode', <tf.Tensor: shape=(32,), dtype=float32, numpy=\n",
            "array([0.18513381, 0.04826667, 0.24338461, 0.1832148 , 0.03591963,\n",
            "       0.14565657, 0.25816157, 0.17572068, 0.22730337, 0.06012166,\n",
            "       0.24493204, 0.26468614, 0.17139935, 0.22330758, 0.20871165,\n",
            "       0.17495778, 0.154438  , 0.2424048 , 0.16909268, 0.2152381 ,\n",
            "       0.2423109 , 0.23844792, 0.1994386 , 0.27676922, 0.18617022,\n",
            "       0.11582734, 0.1260733 , 0.12050633, 0.27020407, 0.23600739,\n",
            "       0.24074766, 0.16862454], dtype=float32)>), ('centroid', <tf.Tensor: shape=(32,), dtype=float32, numpy=\n",
            "array([0.15146272, 0.08969338, 0.19221   , 0.18913937, 0.11820653,\n",
            "       0.1727297 , 0.17624897, 0.17364155, 0.2110169 , 0.16862254,\n",
            "       0.19289866, 0.21104449, 0.16874112, 0.17480554, 0.17175612,\n",
            "       0.18664707, 0.20190017, 0.23245524, 0.17729805, 0.19305083,\n",
            "       0.17046285, 0.21261981, 0.21348773, 0.20330702, 0.21497811,\n",
            "       0.19342421, 0.14196482, 0.152196  , 0.20395516, 0.1773261 ,\n",
            "       0.23309784, 0.18001248], dtype=float32)>), ('meanfun', <tf.Tensor: shape=(32,), dtype=float32, numpy=\n",
            "array([0.17776974, 0.17771311, 0.12578352, 0.17485881, 0.19336899,\n",
            "       0.1523888 , 0.13073453, 0.16396046, 0.18421978, 0.08185826,\n",
            "       0.11963307, 0.11020434, 0.11592471, 0.10512784, 0.11360386,\n",
            "       0.17959811, 0.14908598, 0.18554339, 0.17631496, 0.11927435,\n",
            "       0.12927583, 0.11902404, 0.17409952, 0.12061968, 0.16493858,\n",
            "       0.12915301, 0.10318699, 0.17550616, 0.1293528 , 0.11378305,\n",
            "       0.19950499, 0.13023978], dtype=float32)>), ('minfun', <tf.Tensor: shape=(32,), dtype=float32, numpy=\n",
            "array([0.01836969, 0.02007528, 0.04747774, 0.01897983, 0.02605863,\n",
            "       0.02604167, 0.048     , 0.01960784, 0.04878049, 0.01617796,\n",
            "       0.0197775 , 0.01700319, 0.01801802, 0.01577909, 0.02067184,\n",
            "       0.02416918, 0.01895735, 0.05047319, 0.04733728, 0.04752475,\n",
            "       0.03125   , 0.02048656, 0.04963806, 0.04848485, 0.04724409,\n",
            "       0.04771372, 0.01658031, 0.01611279, 0.04701273, 0.04705882,\n",
            "       0.04729064, 0.05042017], dtype=float32)>), ('maxfun', <tf.Tensor: shape=(32,), dtype=float32, numpy=\n",
            "array([0.26229507, 0.27118644, 0.27745664, 0.22857143, 0.25      ,\n",
            "       0.25641024, 0.27906978, 0.21917808, 0.27745664, 0.27118644,\n",
            "       0.26666668, 0.27586207, 0.18181819, 0.23188406, 0.25      ,\n",
            "       0.25      , 0.25396827, 0.27745664, 0.25396827, 0.27906978,\n",
            "       0.26666668, 0.23880596, 0.27745664, 0.27745664, 0.27906978,\n",
            "       0.27906978, 0.23188406, 0.27586207, 0.27745664, 0.27745664,\n",
            "       0.27906978, 0.26815644], dtype=float32)>), ('meandom', <tf.Tensor: shape=(32,), dtype=float32, numpy=\n",
            "array([1.4114584 , 2.2535512 , 0.9799409 , 0.8023897 , 0.3722826 ,\n",
            "       1.076416  , 0.4640625 , 0.6349677 , 0.9662642 , 0.165625  ,\n",
            "       0.921875  , 0.7106771 , 0.8125444 , 0.4934896 , 0.59453124,\n",
            "       0.9496094 , 0.9714949 , 1.169807  , 0.18359375, 0.8507314 ,\n",
            "       1.25      , 0.671875  , 1.1662947 , 0.9423077 , 1.803786  ,\n",
            "       1.7700639 , 0.69100213, 0.32004312, 1.73122   , 0.86328125,\n",
            "       1.2331731 , 0.8780048 ], dtype=float32)>), ('mindom', <tf.Tensor: shape=(32,), dtype=float32, numpy=\n",
            "array([0.0078125 , 0.0078125 , 0.0234375 , 0.1796875 , 0.015625  ,\n",
            "       0.40039062, 0.0234375 , 0.140625  , 0.046875  , 0.0703125 ,\n",
            "       0.0078125 , 0.0078125 , 0.17578125, 0.0078125 , 0.0078125 ,\n",
            "       0.171875  , 0.1640625 , 0.0234375 , 0.0078125 , 0.0234375 ,\n",
            "       0.0078125 , 0.0078125 , 0.2109375 , 0.0234375 , 0.1875    ,\n",
            "       0.0234375 , 0.0078125 , 0.0078125 , 0.0234375 , 0.0234375 ,\n",
            "       0.234375  , 0.0234375 ], dtype=float32)>), ('maxdom', <tf.Tensor: shape=(32,), dtype=float32, numpy=\n",
            "array([ 6.125    ,  5.3828125,  4.640625 ,  6.6484375,  0.90625  ,\n",
            "        1.7529297,  3.0703125,  6.796875 ,  6.2109375,  3.1640625,\n",
            "        4.8671875,  5.4765625,  1.3427734,  2.765625 ,  5.390625 ,\n",
            "        6.8671875,  5.546875 ,  5.4609375,  0.34375  ,  5.3203125,\n",
            "        7.       ,  5.90625  ,  6.140625 ,  5.9765625,  6.75     ,\n",
            "        6.4453125,  4.890625 ,  1.5      , 11.1328125,  4.21875  ,\n",
            "        7.875    ,  4.3828125], dtype=float32)>), ('dfrange', <tf.Tensor: shape=(32,), dtype=float32, numpy=\n",
            "array([ 6.1171875,  5.375    ,  4.6171875,  6.46875  ,  0.890625 ,\n",
            "        1.3525391,  3.046875 ,  6.65625  ,  6.1640625,  3.09375  ,\n",
            "        4.859375 ,  5.46875  ,  1.1669922,  2.7578125,  5.3828125,\n",
            "        6.6953125,  5.3828125,  5.4375   ,  0.3359375,  5.296875 ,\n",
            "        6.9921875,  5.8984375,  5.9296875,  5.953125 ,  6.5625   ,\n",
            "        6.421875 ,  4.8828125,  1.4921875, 11.109375 ,  4.1953125,\n",
            "        7.640625 ,  4.359375 ], dtype=float32)>), ('modindx', <tf.Tensor: shape=(32,), dtype=float32, numpy=\n",
            "array([0.2771005 , 0.29422757, 0.1586657 , 0.19987923, 0.3125997 ,\n",
            "       0.34596872, 0.06748252, 0.14352784, 0.05878121, 0.05922865,\n",
            "       0.1746457 , 0.12339901, 0.5313808 , 0.20458184, 0.12812449,\n",
            "       0.21998402, 0.15940143, 0.15301724, 0.08042636, 0.14483775,\n",
            "       0.17001863, 0.12479764, 0.11337125, 0.08453631, 0.18990684,\n",
            "       0.1483316 , 0.21143703, 0.1647201 , 0.08705761, 0.15694833,\n",
            "       0.09202454, 0.14024578], dtype=float32)>)])\n",
            "tf.Tensor([0 1 0 1 1 1 0 1 1 0 0 0 1 0 0 1 0 1 1 0 0 0 1 0 1 0 0 1 0 0 1 0], shape=(32,), dtype=int32)\n"
          ],
          "name": "stdout"
        }
      ]
    },
    {
      "cell_type": "markdown",
      "metadata": {
        "id": "brY0i4eseAYA"
      },
      "source": [
        "## 輸出結果可視化"
      ]
    },
    {
      "cell_type": "code",
      "metadata": {
        "colab": {
          "base_uri": "https://localhost:8080/",
          "height": 279
        },
        "id": "9_bAPPb6cP6s",
        "outputId": "9b637601-b0d5-4e67-9d34-e653bbd8536c"
      },
      "source": [
        "plt.scatter(features['Q25'],\n",
        "      features['Q75'],\n",
        "      c=labels,\n",
        "      cmap='viridis')\n",
        "\n",
        "plt.xlabel(\"Q25\")\n",
        "plt.ylabel(\"Q75\")\n",
        "plt.show()"
      ],
      "execution_count": 34,
      "outputs": [
        {
          "output_type": "display_data",
          "data": {
            "image/png": "[encoded data removed]",
            "text/plain": [
              "<Figure size 432x288 with 1 Axes>"
            ]
          },
          "metadata": {
            "tags": [],
            "needs_background": "light"
          }
        }
      ]
    },
    {
      "cell_type": "markdown",
      "metadata": {
        "id": "HZWctzlZeMx3"
      },
      "source": [
        "# 重構features"
      ]
    },
    {
      "cell_type": "code",
      "metadata": {
        "id": "aHUr0D3YA1fe"
      },
      "source": [
        "# 把同一個數據的不同feature放在同一個數組中，我們使用tf.pack()來將features重構爲(batch_size, num_features)形狀\n",
        "def pack_features_vector(features, labels):\n",
        "    features = tf.stack(list(features.values()), axis=1)  # 將矩陣相同項重構為新的矩陣\n",
        "    return features, labels"
      ],
      "execution_count": 35,
      "outputs": []
    },
    {
      "cell_type": "code",
      "metadata": {
        "colab": {
          "base_uri": "https://localhost:8080/"
        },
        "id": "4pu7HbD8A-3k",
        "outputId": "848d49a8-24c9-4001-da86-f086149c7cf3"
      },
      "source": [
        "# 使用tf.data.Dataset.map將重構函數運用到每條數據中。\n",
        "train_dataset = train_dataset.map(pack_features_vector)\n",
        "# 查看前5個數據\n",
        "features, labels = next(iter(train_dataset))\n",
        "print(features[:5])"
      ],
      "execution_count": 36,
      "outputs": [
        {
          "output_type": "stream",
          "text": [
            "tf.Tensor(\n",
            "[[1.47380710e-01 7.07755387e-02 1.40692681e-01 9.51291919e-02\n",
            "  2.10269377e-01 1.15140185e-01 1.77364218e+00 6.83230734e+00\n",
            "  9.57589030e-01 6.95730686e-01 9.66684967e-02 1.47380710e-01\n",
            "  1.02929927e-01 1.58572849e-02 2.75862068e-01 3.70463699e-01\n",
            "  1.56250000e-02 3.49218750e+00 3.47656250e+00 9.78690460e-02]\n",
            " [1.78187445e-01 4.38491814e-02 1.62731960e-01 1.51185572e-01\n",
            "  2.03144327e-01 5.19587621e-02 3.43402004e+00 1.77798920e+01\n",
            "  8.65040958e-01 2.82078475e-01 1.55154645e-01 1.78187445e-01\n",
            "  1.58931777e-01 4.83870953e-02 2.79069781e-01 9.25531924e-01\n",
            "  2.34375000e-02 3.67968750e+00 3.65625000e+00 9.21052620e-02]\n",
            " [2.31282741e-01 2.79027056e-02 2.35789478e-01 2.18694732e-01\n",
            "  2.46989474e-01 2.82947365e-02 2.16454864e+00 7.56484175e+00\n",
            "  8.12225878e-01 1.20788693e-01 2.45221049e-01 2.31282741e-01\n",
            "  1.88998371e-01 4.69208211e-02 2.77456641e-01 9.00965095e-01\n",
            "  2.34375000e-02 3.82031250e+00 3.79687500e+00 9.83796269e-02]\n",
            " [2.25668326e-01 3.39658223e-02 2.33194023e-01 2.04776123e-01\n",
            "  2.48656720e-01 4.38805968e-02 2.04677773e+00 7.16901875e+00\n",
            "  8.43486607e-01 1.82467416e-01 2.33194023e-01 2.25668326e-01\n",
            "  1.75208554e-01 4.75718528e-02 2.74285704e-01 1.41222429e+00\n",
            "  2.34375000e-02 1.76250000e+01 1.76015625e+01 8.98801610e-02]\n",
            " [1.79039821e-01 6.49623573e-02 1.89334795e-01 1.45310611e-01\n",
            "  2.26893902e-01 8.15832913e-02 2.17785788e+00 1.48810539e+01\n",
            "  9.40317333e-01 5.59499204e-01 0.00000000e+00 1.79039821e-01\n",
            "  1.58308819e-01 2.15924438e-02 2.62295067e-01 1.45507812e-01\n",
            "  7.81250000e-03 2.42187500e-01 2.34375000e-01 2.27272734e-01]], shape=(5, 20), dtype=float32)\n"
          ],
          "name": "stdout"
        }
      ]
    },
    {
      "cell_type": "markdown",
      "metadata": {
        "id": "aRvmWcT-gNCi"
      },
      "source": [
        "# Keras創建模型"
      ]
    },
    {
      "cell_type": "markdown",
      "metadata": {
        "id": "f8JELIZeG35j"
      },
      "source": [
        "## 構建線性模型"
      ]
    },
    {
      "cell_type": "code",
      "metadata": {
        "id": "c2rWtdEoAnXf"
      },
      "source": [
        "# 構建線性模型\n",
        "# 兩個Dense層各有50個節點，一個輸出層有2個節點代表標籤預測，兩個隱藏層\n",
        "# 節點數 與 features，影響softmax result\n",
        "model = tf.keras.Sequential([\n",
        "    tf.keras.layers.Dense(50, activation='relu',input_shape=(20,)),  # input shape required. My dataset contains 20 features/variables\n",
        "    tf.keras.layers.Dense(50, activation='relu'),\n",
        "    tf.keras.layers.Dense(2)\n",
        "])"
      ],
      "execution_count": 37,
      "outputs": []
    },
    {
      "cell_type": "code",
      "metadata": {
        "colab": {
          "base_uri": "https://localhost:8080/"
        },
        "id": "p6lhXUGfvyy1",
        "outputId": "1deb18d0-d84e-4abb-f0f6-275038a45a72"
      },
      "source": [
        "# 預測前5項\n",
        "prediction = model(features)\n",
        "prediction[:5]"
      ],
      "execution_count": 38,
      "outputs": [
        {
          "output_type": "execute_result",
          "data": {
            "text/plain": [
              "<tf.Tensor: shape=(5, 2), dtype=float32, numpy=\n",
              "array([[-0.6826634 , -1.9788966 ],\n",
              "       [-0.70064545, -3.5391607 ],\n",
              "       [-0.8617556 , -2.1990967 ],\n",
              "       [-2.0368323 , -4.474773  ],\n",
              "       [-0.35097253, -1.5333924 ]], dtype=float32)>"
            ]
          },
          "metadata": {
            "tags": []
          },
          "execution_count": 38
        }
      ]
    },
    {
      "cell_type": "markdown",
      "metadata": {
        "id": "j8Z7l18PHBTo"
      },
      "source": [
        "## 多分類任務 softmax進行歸一化"
      ]
    },
    {
      "cell_type": "code",
      "metadata": {
        "id": "e3343TuBxHGs",
        "colab": {
          "base_uri": "https://localhost:8080/"
        },
        "outputId": "03a022c2-b8c9-4330-e89e-b04eb31c0d90"
      },
      "source": [
        "# 多分類任務需要使用softmax進行歸一化\n",
        "# softmax 使每一個元素範圍都在(0,1)之間，且所有元素和為1\n",
        "tf.nn.softmax(prediction)[:5]"
      ],
      "execution_count": 39,
      "outputs": [
        {
          "output_type": "execute_result",
          "data": {
            "text/plain": [
              "<tf.Tensor: shape=(5, 2), dtype=float32, numpy=\n",
              "array([[0.78520036, 0.21479966],\n",
              "       [0.944722  , 0.05527802],\n",
              "       [0.7920523 , 0.20794764],\n",
              "       [0.91967505, 0.08032491],\n",
              "       [0.7653826 , 0.23461735]], dtype=float32)>"
            ]
          },
          "metadata": {
            "tags": []
          },
          "execution_count": 39
        }
      ]
    },
    {
      "cell_type": "markdown",
      "metadata": {
        "id": "lSr3EpxjHamM"
      },
      "source": [
        "## argmax獲取概率最大的類標籤"
      ]
    },
    {
      "cell_type": "code",
      "metadata": {
        "colab": {
          "base_uri": "https://localhost:8080/"
        },
        "id": "EQ5j8kNXEOfC",
        "outputId": "44a3afcd-00fe-4fbb-b579-1e2049e961d8"
      },
      "source": [
        "# 使用tf.argmax獲取概率最大的類標籤\n",
        "print('prediction:', tf.argmax(prediction, axis=1))\n",
        "print('label:', labels)"
      ],
      "execution_count": 40,
      "outputs": [
        {
          "output_type": "stream",
          "text": [
            "prediction: tf.Tensor([0 0 0 0 0 0 0 0 0 0 0 0 0 0 0 0 0 0 0 0 0 0 0 0 0 0 0 0 0 0 0 0], shape=(32,), dtype=int64)\n",
            "label: tf.Tensor([0 1 1 1 1 1 0 0 0 0 1 1 1 0 0 1 0 0 0 1 0 1 0 0 0 1 1 0 0 0 0 1], shape=(32,), dtype=int32)\n"
          ],
          "name": "stdout"
        }
      ]
    },
    {
      "cell_type": "markdown",
      "metadata": {
        "id": "FoStXpmpIEzv"
      },
      "source": [
        "# 訓練模型"
      ]
    },
    {
      "cell_type": "markdown",
      "metadata": {
        "id": "ikeGliWhIJMm"
      },
      "source": [
        "## 損失函數"
      ]
    },
    {
      "cell_type": "code",
      "metadata": {
        "id": "ZewGDMppERdk"
      },
      "source": [
        "# 損失函數\n",
        "loss_object=tf.keras.losses.SparseCategoricalCrossentropy(from_logits=True)"
      ],
      "execution_count": 41,
      "outputs": []
    },
    {
      "cell_type": "markdown",
      "metadata": {
        "id": "rG8241RVIMKh"
      },
      "source": [
        "## 獲取損失函數"
      ]
    },
    {
      "cell_type": "code",
      "metadata": {
        "colab": {
          "base_uri": "https://localhost:8080/"
        },
        "id": "UXeW9FsdRFzK",
        "outputId": "4efc58fd-e939-42c2-a6c7-e53563a5695d"
      },
      "source": [
        "# 獲取損失\n",
        "# train_dataset_fp = pd.read_csv(train_dataset_fp, names=column_names, skipinitialspace=True, skiprows=1, engine=\"python\")\n",
        "\n",
        "def loss(model, x, y):\n",
        "    y_ = model(x)\n",
        "    return loss_object(y_true=y, y_pred=y_)\n",
        "l = loss(model, features, labels)\n",
        "print(l)"
      ],
      "execution_count": 42,
      "outputs": [
        {
          "output_type": "stream",
          "text": [
            "tf.Tensor(0.9519056, shape=(), dtype=float32)\n"
          ],
          "name": "stdout"
        }
      ]
    },
    {
      "cell_type": "markdown",
      "metadata": {
        "id": "O8YJyd29IUrl"
      },
      "source": [
        "## GradientTape計算loss對所有變量的梯度"
      ]
    },
    {
      "cell_type": "code",
      "metadata": {
        "id": "SdIVHthJPGqg"
      },
      "source": [
        "def grad(model, inputs, targets):\n",
        "    with tf.GradientTape() as tape:\n",
        "        loss_value = loss(model, inputs, targets)\n",
        "    return loss_value, tape.gradient(loss_value, model.trainable_variables)"
      ],
      "execution_count": 43,
      "outputs": []
    },
    {
      "cell_type": "markdown",
      "metadata": {
        "id": "O5BznteQJ14E"
      },
      "source": [
        "# 創建優化器"
      ]
    },
    {
      "cell_type": "markdown",
      "metadata": {
        "id": "R0N-D37YKE77"
      },
      "source": [
        "## 設置迭代"
      ]
    },
    {
      "cell_type": "code",
      "metadata": {
        "id": "YQ4oeI4rBTSq"
      },
      "source": [
        "optimizer = tf.keras.optimizers.Adam(learning_rate=0.01)"
      ],
      "execution_count": 44,
      "outputs": []
    },
    {
      "cell_type": "markdown",
      "metadata": {
        "id": "2MjMQlnlKP3k"
      },
      "source": [
        "## 優化器使用"
      ]
    },
    {
      "cell_type": "code",
      "metadata": {
        "colab": {
          "base_uri": "https://localhost:8080/"
        },
        "id": "p6s-7gfBBhZB",
        "outputId": "b781dfd9-1352-4aad-9c07-28ad3fd21b8b"
      },
      "source": [
        "loss_value, grads = grad(model, features, labels)\n",
        "print('步數：{}, 初始loss值：{}'.format(optimizer.iterations.numpy(),\n",
        "                                loss_value.numpy()))\n",
        "optimizer.apply_gradients(zip(grads, model.trainable_variables))\n",
        "print('步數：{}, loss值：{}'.format(optimizer.iterations.numpy(),\n",
        "                                loss(model,features, labels).numpy()))"
      ],
      "execution_count": 45,
      "outputs": [
        {
          "output_type": "stream",
          "text": [
            "步數：0, 初始loss值：0.9519056081771851\n",
            "步數：1, loss值：5.1347856521606445\n"
          ],
          "name": "stdout"
        }
      ]
    },
    {
      "cell_type": "markdown",
      "metadata": {
        "id": "oBOK19zMKVPL"
      },
      "source": [
        "# 訓練循環"
      ]
    },
    {
      "cell_type": "markdown",
      "metadata": {
        "id": "aypRb2eCKdV8"
      },
      "source": [
        "## 訓練每個epoch數據"
      ]
    },
    {
      "cell_type": "code",
      "metadata": {
        "colab": {
          "base_uri": "https://localhost:8080/"
        },
        "id": "nbZyMkUpBlgA",
        "outputId": "0a443ad9-bff1-41f5-a254-2ff4aff93afe"
      },
      "source": [
        "# 保存loss和acc\n",
        "train_loss_results=[]\n",
        "train_accuracy_results=[]\n",
        "\n",
        "num_epochs =201 # epoch 為所有樣本訓練過N遍\n",
        "for epoch in range(num_epochs):\n",
        "    # 用於記錄loss和acc的類\n",
        "    epoch_loss_avg = tf.keras.metrics.Mean()\n",
        "    epoch_accuracy = tf.keras.metrics.SparseCategoricalAccuracy()\n",
        "    \n",
        "    # 訓練循環\n",
        "    for x, y in train_dataset:\n",
        "        # 獲取loss和梯度\n",
        "        loss_value, grads = grad(model, x, y)\n",
        "        # 梯度優化\n",
        "        optimizer.apply_gradients(zip(grads, model.trainable_variables))\n",
        "        \n",
        "        # 記錄loss均值\n",
        "        epoch_loss_avg(loss_value)\n",
        "        # 記錄準確率\n",
        "        epoch_accuracy(y, model(x))\n",
        "\n",
        "    # 保存每個epoch的loss和acc\n",
        "    train_loss_results.append(epoch_loss_avg.result())\n",
        "    train_accuracy_results.append(epoch_accuracy.result())\n",
        "\n",
        "    if epoch % 50 == 0:\n",
        "        print(\"Epoch {:03d}: Loss: {:.3f}, Accuracy: {:.3%}\".format(epoch,\n",
        "                                        epoch_loss_avg.result(),\n",
        "                                        epoch_accuracy.result()))"
      ],
      "execution_count": 46,
      "outputs": [
        {
          "output_type": "stream",
          "text": [
            "Epoch 000: Loss: 1.679, Accuracy: 56.155%\n",
            "Epoch 050: Loss: 0.172, Accuracy: 94.255%\n",
            "Epoch 100: Loss: 0.124, Accuracy: 95.991%\n",
            "Epoch 150: Loss: 0.087, Accuracy: 97.348%\n",
            "Epoch 200: Loss: 0.099, Accuracy: 96.938%\n"
          ],
          "name": "stdout"
        }
      ]
    },
    {
      "cell_type": "markdown",
      "metadata": {
        "id": "WEtCRfwjKmZX"
      },
      "source": [
        "## 可視化訓練過程"
      ]
    },
    {
      "cell_type": "code",
      "metadata": {
        "colab": {
          "base_uri": "https://localhost:8080/",
          "height": 558
        },
        "id": "E_T1LhKEDPiR",
        "outputId": "59240b17-af36-4066-ca34-a93f65e97d44"
      },
      "source": [
        "fig, axes = plt.subplots(2, sharex=True, figsize=(12, 8))\n",
        "fig.suptitle('Training Metrics')\n",
        "\n",
        "axes[0].set_ylabel(\"Loss\", fontsize=14)\n",
        "axes[0].plot(train_loss_results)\n",
        "\n",
        "axes[1].set_ylabel(\"Accuracy\", fontsize=14)\n",
        "axes[1].set_xlabel(\"Epoch\", fontsize=14)\n",
        "axes[1].plot(train_accuracy_results)\n",
        "plt.show()"
      ],
      "execution_count": 47,
      "outputs": [
        {
          "output_type": "display_data",
          "data": {
            "image/png": "[encoded data removed]",
            "text/plain": [
              "<Figure size 864x576 with 2 Axes>"
            ]
          },
          "metadata": {
            "tags": [],
            "needs_background": "light"
          }
        }
      ]
    },
    {
      "cell_type": "markdown",
      "metadata": {
        "id": "3e3aFqJf-Hcp"
      },
      "source": [
        "# 使用訓練的模型進行預測"
      ]
    },
    {
      "cell_type": "code",
      "metadata": {
        "colab": {
          "base_uri": "https://localhost:8080/"
        },
        "id": "4WMc2-Rn6fpI",
        "outputId": "1b63ac67-06ca-4062-fab1-de1a8dd41414"
      },
      "source": [
        "predict_dataset = tf.convert_to_tensor([\n",
        "    [0.151228092,\t0.072110587,\t0.158011187,\t0.096581728,\t0.207955252,\t0.111373524,\t1.232831276,\t4.17729621,\t0.963322462,\t0.727231799,\t0.083878185,\t0.151228092,\t0.088964849,\t0.017797553,\t0.25,\t0.201497396,\t0.0078125,\t0.5625,\t0.5546875,\t0.247119078,],\n",
        "    [0.164310868,\t0.053803364,\t0.173873874,\t0.165585586,\t0.185405405,\t0.01981982,\t4.928656441,\t32.09187455,\t0.867461182,\t0.423831175,\t0.173693694,\t0.164310868,\t0.15177942,\t0.011037528,\t0.181818182,\t0.229130498,\t0.034179688,\t0.712890625,\t0.678710938,\t0.223851688,],\n",
        "    [0.190235564,\t0.056793186,\t0.205679012,\t0.138271605,\t0.236790123,\t0.098518519,\t1.09306769,\t3.577716832,\t0.924571293,\t0.361180501,\t0.225728395,\t0.190235564,\t0.116813538,\t0.047058824,\t0.277456647,\t1.262222782,\t0.140625,\t6.1640625,\t6.0234375,\t0.101100228]\n",
        "])\n",
        "\n",
        "predictions = model(predict_dataset)\n",
        "\n",
        "for i, logits in enumerate(predictions):\n",
        "  class_idx = tf.argmax(logits).numpy()\n",
        "  p = tf.nn.softmax(logits)[class_idx]\n",
        "  name = class_names[class_idx]\n",
        "  print(\"Example {} prediction: {} ({:4.1f}%)\".format(i, name, 100*p))"
      ],
      "execution_count": 52,
      "outputs": [
        {
          "output_type": "stream",
          "text": [
            "Example 0 prediction: male (100.0%)\n",
            "Example 1 prediction: female (99.7%)\n",
            "Example 2 prediction: male (99.9%)\n"
          ],
          "name": "stdout"
        }
      ]
    },
    {
      "cell_type": "code",
      "metadata": {
        "id": "p2GVip54-ACm"
      },
      "source": [
        ""
      ],
      "execution_count": null,
      "outputs": []
    }
  ]
}