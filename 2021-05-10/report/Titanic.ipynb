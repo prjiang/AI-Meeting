{
  "nbformat": 4,
  "nbformat_minor": 0,
  "metadata": {
    "colab": {
      "name": "Titanic.ipynb",
      "provenance": [],
      "collapsed_sections": [],
      "toc_visible": true
    },
    "kernelspec": {
      "name": "python3",
      "display_name": "Python 3"
    },
    "language_info": {
      "name": "python"
    }
  },
  "cells": [
    {
      "cell_type": "markdown",
      "metadata": {
        "id": "HKNnWFK6wJAw"
      },
      "source": [
        "# Titanic - Machine Learning from Disaster."
      ]
    },
    {
      "cell_type": "markdown",
      "metadata": {
        "id": "VV9KaQm2LBif"
      },
      "source": [
        "## 載入套件及資料"
      ]
    },
    {
      "cell_type": "code",
      "metadata": {
        "id": "J6hznaI1Jv5-"
      },
      "source": [
        "from sklearn import preprocessing\n",
        "from sklearn.model_selection import GridSearchCV\n",
        "from sklearn.ensemble import RandomForestClassifier\n",
        "from sklearn.ensemble import RandomForestRegressor\n",
        "\n",
        "import warnings\n",
        "import pandas as pd\n",
        "import numpy as np\n",
        "import matplotlib.pyplot as plt\n",
        "import seaborn as sns\n",
        "\n",
        "%matplotlib inline"
      ],
      "execution_count": null,
      "outputs": []
    },
    {
      "cell_type": "code",
      "metadata": {
        "colab": {
          "base_uri": "https://localhost:8080/",
          "height": 36
        },
        "id": "aelBznaWLqmZ",
        "outputId": "0b3b73ed-68e3-4f85-e348-a3037d7e0051"
      },
      "source": [
        "'''\n",
        "from google.colab import files\n",
        "\n",
        "uploaded = files.upload()\n",
        "'''"
      ],
      "execution_count": null,
      "outputs": [
        {
          "output_type": "execute_result",
          "data": {
            "application/vnd.google.colaboratory.intrinsic+json": {
              "type": "string"
            },
            "text/plain": [
              "'\\nfrom google.colab import files\\n\\nuploaded = files.upload()\\n'"
            ]
          },
          "metadata": {
            "tags": []
          },
          "execution_count": 191
        }
      ]
    },
    {
      "cell_type": "code",
      "metadata": {
        "id": "x91qf3M-Ls6O"
      },
      "source": [
        "train = pd.read_csv('train.csv')\n",
        "test = pd.read_csv('test.csv')\n",
        "submit = pd.read_csv('gender_submission.csv')"
      ],
      "execution_count": null,
      "outputs": []
    },
    {
      "cell_type": "markdown",
      "metadata": {
        "id": "gp3OEzrMk_rK"
      },
      "source": [
        "##  檢查空值"
      ]
    },
    {
      "cell_type": "code",
      "metadata": {
        "colab": {
          "base_uri": "https://localhost:8080/"
        },
        "id": "Gk1dpKqplDUD",
        "outputId": "b16df459-87e8-4e73-9829-a45af315f1b5"
      },
      "source": [
        "# info() 查看dataframe 的摘要\n",
        "train.info()"
      ],
      "execution_count": null,
      "outputs": [
        {
          "output_type": "stream",
          "text": [
            "<class 'pandas.core.frame.DataFrame'>\n",
            "RangeIndex: 891 entries, 0 to 890\n",
            "Data columns (total 12 columns):\n",
            " #   Column       Non-Null Count  Dtype  \n",
            "---  ------       --------------  -----  \n",
            " 0   PassengerId  891 non-null    int64  \n",
            " 1   Survived     891 non-null    int64  \n",
            " 2   Pclass       891 non-null    int64  \n",
            " 3   Name         891 non-null    object \n",
            " 4   Sex          891 non-null    object \n",
            " 5   Age          714 non-null    float64\n",
            " 6   SibSp        891 non-null    int64  \n",
            " 7   Parch        891 non-null    int64  \n",
            " 8   Ticket       891 non-null    object \n",
            " 9   Fare         891 non-null    float64\n",
            " 10  Cabin        204 non-null    object \n",
            " 11  Embarked     889 non-null    object \n",
            "dtypes: float64(2), int64(5), object(5)\n",
            "memory usage: 83.7+ KB\n"
          ],
          "name": "stdout"
        }
      ]
    },
    {
      "cell_type": "code",
      "metadata": {
        "colab": {
          "base_uri": "https://localhost:8080/"
        },
        "id": "c5cYeIhplHDg",
        "outputId": "94c8c9f5-ec14-4c06-a37b-035d5a9e019c"
      },
      "source": [
        "test.info()"
      ],
      "execution_count": null,
      "outputs": [
        {
          "output_type": "stream",
          "text": [
            "<class 'pandas.core.frame.DataFrame'>\n",
            "RangeIndex: 418 entries, 0 to 417\n",
            "Data columns (total 11 columns):\n",
            " #   Column       Non-Null Count  Dtype  \n",
            "---  ------       --------------  -----  \n",
            " 0   PassengerId  418 non-null    int64  \n",
            " 1   Pclass       418 non-null    int64  \n",
            " 2   Name         418 non-null    object \n",
            " 3   Sex          418 non-null    object \n",
            " 4   Age          332 non-null    float64\n",
            " 5   SibSp        418 non-null    int64  \n",
            " 6   Parch        418 non-null    int64  \n",
            " 7   Ticket       418 non-null    object \n",
            " 8   Fare         417 non-null    float64\n",
            " 9   Cabin        91 non-null     object \n",
            " 10  Embarked     418 non-null    object \n",
            "dtypes: float64(2), int64(4), object(5)\n",
            "memory usage: 36.0+ KB\n"
          ],
          "name": "stdout"
        }
      ]
    },
    {
      "cell_type": "markdown",
      "metadata": {
        "id": "cRuDAv9gl1-K"
      },
      "source": [
        "## 觀察資料分布"
      ]
    },
    {
      "cell_type": "code",
      "metadata": {
        "colab": {
          "base_uri": "https://localhost:8080/",
          "height": 300
        },
        "id": "e2DHsH9Glgf5",
        "outputId": "f5484987-5b05-4bbd-b96a-310701595dba"
      },
      "source": [
        "# describe() 查看統計資訊\n",
        "train.describe()"
      ],
      "execution_count": null,
      "outputs": [
        {
          "output_type": "execute_result",
          "data": {
            "text/html": [
              "<div>\n",
              "<style scoped>\n",
              "    .dataframe tbody tr th:only-of-type {\n",
              "        vertical-align: middle;\n",
              "    }\n",
              "\n",
              "    .dataframe tbody tr th {\n",
              "        vertical-align: top;\n",
              "    }\n",
              "\n",
              "    .dataframe thead th {\n",
              "        text-align: right;\n",
              "    }\n",
              "</style>\n",
              "<table border=\"1\" class=\"dataframe\">\n",
              "  <thead>\n",
              "    <tr style=\"text-align: right;\">\n",
              "      <th></th>\n",
              "      <th>PassengerId</th>\n",
              "      <th>Survived</th>\n",
              "      <th>Pclass</th>\n",
              "      <th>Age</th>\n",
              "      <th>SibSp</th>\n",
              "      <th>Parch</th>\n",
              "      <th>Fare</th>\n",
              "    </tr>\n",
              "  </thead>\n",
              "  <tbody>\n",
              "    <tr>\n",
              "      <th>count</th>\n",
              "      <td>891.000000</td>\n",
              "      <td>891.000000</td>\n",
              "      <td>891.000000</td>\n",
              "      <td>714.000000</td>\n",
              "      <td>891.000000</td>\n",
              "      <td>891.000000</td>\n",
              "      <td>891.000000</td>\n",
              "    </tr>\n",
              "    <tr>\n",
              "      <th>mean</th>\n",
              "      <td>446.000000</td>\n",
              "      <td>0.383838</td>\n",
              "      <td>2.308642</td>\n",
              "      <td>29.699118</td>\n",
              "      <td>0.523008</td>\n",
              "      <td>0.381594</td>\n",
              "      <td>32.204208</td>\n",
              "    </tr>\n",
              "    <tr>\n",
              "      <th>std</th>\n",
              "      <td>257.353842</td>\n",
              "      <td>0.486592</td>\n",
              "      <td>0.836071</td>\n",
              "      <td>14.526497</td>\n",
              "      <td>1.102743</td>\n",
              "      <td>0.806057</td>\n",
              "      <td>49.693429</td>\n",
              "    </tr>\n",
              "    <tr>\n",
              "      <th>min</th>\n",
              "      <td>1.000000</td>\n",
              "      <td>0.000000</td>\n",
              "      <td>1.000000</td>\n",
              "      <td>0.420000</td>\n",
              "      <td>0.000000</td>\n",
              "      <td>0.000000</td>\n",
              "      <td>0.000000</td>\n",
              "    </tr>\n",
              "    <tr>\n",
              "      <th>25%</th>\n",
              "      <td>223.500000</td>\n",
              "      <td>0.000000</td>\n",
              "      <td>2.000000</td>\n",
              "      <td>20.125000</td>\n",
              "      <td>0.000000</td>\n",
              "      <td>0.000000</td>\n",
              "      <td>7.910400</td>\n",
              "    </tr>\n",
              "    <tr>\n",
              "      <th>50%</th>\n",
              "      <td>446.000000</td>\n",
              "      <td>0.000000</td>\n",
              "      <td>3.000000</td>\n",
              "      <td>28.000000</td>\n",
              "      <td>0.000000</td>\n",
              "      <td>0.000000</td>\n",
              "      <td>14.454200</td>\n",
              "    </tr>\n",
              "    <tr>\n",
              "      <th>75%</th>\n",
              "      <td>668.500000</td>\n",
              "      <td>1.000000</td>\n",
              "      <td>3.000000</td>\n",
              "      <td>38.000000</td>\n",
              "      <td>1.000000</td>\n",
              "      <td>0.000000</td>\n",
              "      <td>31.000000</td>\n",
              "    </tr>\n",
              "    <tr>\n",
              "      <th>max</th>\n",
              "      <td>891.000000</td>\n",
              "      <td>1.000000</td>\n",
              "      <td>3.000000</td>\n",
              "      <td>80.000000</td>\n",
              "      <td>8.000000</td>\n",
              "      <td>6.000000</td>\n",
              "      <td>512.329200</td>\n",
              "    </tr>\n",
              "  </tbody>\n",
              "</table>\n",
              "</div>"
            ],
            "text/plain": [
              "       PassengerId    Survived      Pclass  ...       SibSp       Parch        Fare\n",
              "count   891.000000  891.000000  891.000000  ...  891.000000  891.000000  891.000000\n",
              "mean    446.000000    0.383838    2.308642  ...    0.523008    0.381594   32.204208\n",
              "std     257.353842    0.486592    0.836071  ...    1.102743    0.806057   49.693429\n",
              "min       1.000000    0.000000    1.000000  ...    0.000000    0.000000    0.000000\n",
              "25%     223.500000    0.000000    2.000000  ...    0.000000    0.000000    7.910400\n",
              "50%     446.000000    0.000000    3.000000  ...    0.000000    0.000000   14.454200\n",
              "75%     668.500000    1.000000    3.000000  ...    1.000000    0.000000   31.000000\n",
              "max     891.000000    1.000000    3.000000  ...    8.000000    6.000000  512.329200\n",
              "\n",
              "[8 rows x 7 columns]"
            ]
          },
          "metadata": {
            "tags": []
          },
          "execution_count": 195
        }
      ]
    },
    {
      "cell_type": "code",
      "metadata": {
        "colab": {
          "base_uri": "https://localhost:8080/",
          "height": 300
        },
        "id": "qYgCbd4-l1KX",
        "outputId": "86f6ba08-9567-48c9-c2dd-2413e4aeed36"
      },
      "source": [
        "test.describe()"
      ],
      "execution_count": null,
      "outputs": [
        {
          "output_type": "execute_result",
          "data": {
            "text/html": [
              "<div>\n",
              "<style scoped>\n",
              "    .dataframe tbody tr th:only-of-type {\n",
              "        vertical-align: middle;\n",
              "    }\n",
              "\n",
              "    .dataframe tbody tr th {\n",
              "        vertical-align: top;\n",
              "    }\n",
              "\n",
              "    .dataframe thead th {\n",
              "        text-align: right;\n",
              "    }\n",
              "</style>\n",
              "<table border=\"1\" class=\"dataframe\">\n",
              "  <thead>\n",
              "    <tr style=\"text-align: right;\">\n",
              "      <th></th>\n",
              "      <th>PassengerId</th>\n",
              "      <th>Pclass</th>\n",
              "      <th>Age</th>\n",
              "      <th>SibSp</th>\n",
              "      <th>Parch</th>\n",
              "      <th>Fare</th>\n",
              "    </tr>\n",
              "  </thead>\n",
              "  <tbody>\n",
              "    <tr>\n",
              "      <th>count</th>\n",
              "      <td>418.000000</td>\n",
              "      <td>418.000000</td>\n",
              "      <td>332.000000</td>\n",
              "      <td>418.000000</td>\n",
              "      <td>418.000000</td>\n",
              "      <td>417.000000</td>\n",
              "    </tr>\n",
              "    <tr>\n",
              "      <th>mean</th>\n",
              "      <td>1100.500000</td>\n",
              "      <td>2.265550</td>\n",
              "      <td>30.272590</td>\n",
              "      <td>0.447368</td>\n",
              "      <td>0.392344</td>\n",
              "      <td>35.627188</td>\n",
              "    </tr>\n",
              "    <tr>\n",
              "      <th>std</th>\n",
              "      <td>120.810458</td>\n",
              "      <td>0.841838</td>\n",
              "      <td>14.181209</td>\n",
              "      <td>0.896760</td>\n",
              "      <td>0.981429</td>\n",
              "      <td>55.907576</td>\n",
              "    </tr>\n",
              "    <tr>\n",
              "      <th>min</th>\n",
              "      <td>892.000000</td>\n",
              "      <td>1.000000</td>\n",
              "      <td>0.170000</td>\n",
              "      <td>0.000000</td>\n",
              "      <td>0.000000</td>\n",
              "      <td>0.000000</td>\n",
              "    </tr>\n",
              "    <tr>\n",
              "      <th>25%</th>\n",
              "      <td>996.250000</td>\n",
              "      <td>1.000000</td>\n",
              "      <td>21.000000</td>\n",
              "      <td>0.000000</td>\n",
              "      <td>0.000000</td>\n",
              "      <td>7.895800</td>\n",
              "    </tr>\n",
              "    <tr>\n",
              "      <th>50%</th>\n",
              "      <td>1100.500000</td>\n",
              "      <td>3.000000</td>\n",
              "      <td>27.000000</td>\n",
              "      <td>0.000000</td>\n",
              "      <td>0.000000</td>\n",
              "      <td>14.454200</td>\n",
              "    </tr>\n",
              "    <tr>\n",
              "      <th>75%</th>\n",
              "      <td>1204.750000</td>\n",
              "      <td>3.000000</td>\n",
              "      <td>39.000000</td>\n",
              "      <td>1.000000</td>\n",
              "      <td>0.000000</td>\n",
              "      <td>31.500000</td>\n",
              "    </tr>\n",
              "    <tr>\n",
              "      <th>max</th>\n",
              "      <td>1309.000000</td>\n",
              "      <td>3.000000</td>\n",
              "      <td>76.000000</td>\n",
              "      <td>8.000000</td>\n",
              "      <td>9.000000</td>\n",
              "      <td>512.329200</td>\n",
              "    </tr>\n",
              "  </tbody>\n",
              "</table>\n",
              "</div>"
            ],
            "text/plain": [
              "       PassengerId      Pclass         Age       SibSp       Parch        Fare\n",
              "count   418.000000  418.000000  332.000000  418.000000  418.000000  417.000000\n",
              "mean   1100.500000    2.265550   30.272590    0.447368    0.392344   35.627188\n",
              "std     120.810458    0.841838   14.181209    0.896760    0.981429   55.907576\n",
              "min     892.000000    1.000000    0.170000    0.000000    0.000000    0.000000\n",
              "25%     996.250000    1.000000   21.000000    0.000000    0.000000    7.895800\n",
              "50%    1100.500000    3.000000   27.000000    0.000000    0.000000   14.454200\n",
              "75%    1204.750000    3.000000   39.000000    1.000000    0.000000   31.500000\n",
              "max    1309.000000    3.000000   76.000000    8.000000    9.000000  512.329200"
            ]
          },
          "metadata": {
            "tags": []
          },
          "execution_count": 196
        }
      ]
    },
    {
      "cell_type": "markdown",
      "metadata": {
        "id": "uCSMi_lVmbYQ"
      },
      "source": [
        "## 資料合併"
      ]
    },
    {
      "cell_type": "code",
      "metadata": {
        "colab": {
          "base_uri": "https://localhost:8080/",
          "height": 458
        },
        "id": "UkPj9Hdtl795",
        "outputId": "645ad7a7-f134-434c-883d-a8d7d38159b2"
      },
      "source": [
        "data = train.append(test)\n",
        "data"
      ],
      "execution_count": null,
      "outputs": [
        {
          "output_type": "execute_result",
          "data": {
            "text/html": [
              "<div>\n",
              "<style scoped>\n",
              "    .dataframe tbody tr th:only-of-type {\n",
              "        vertical-align: middle;\n",
              "    }\n",
              "\n",
              "    .dataframe tbody tr th {\n",
              "        vertical-align: top;\n",
              "    }\n",
              "\n",
              "    .dataframe thead th {\n",
              "        text-align: right;\n",
              "    }\n",
              "</style>\n",
              "<table border=\"1\" class=\"dataframe\">\n",
              "  <thead>\n",
              "    <tr style=\"text-align: right;\">\n",
              "      <th></th>\n",
              "      <th>PassengerId</th>\n",
              "      <th>Survived</th>\n",
              "      <th>Pclass</th>\n",
              "      <th>Name</th>\n",
              "      <th>Sex</th>\n",
              "      <th>Age</th>\n",
              "      <th>SibSp</th>\n",
              "      <th>Parch</th>\n",
              "      <th>Ticket</th>\n",
              "      <th>Fare</th>\n",
              "      <th>Cabin</th>\n",
              "      <th>Embarked</th>\n",
              "    </tr>\n",
              "  </thead>\n",
              "  <tbody>\n",
              "    <tr>\n",
              "      <th>0</th>\n",
              "      <td>1</td>\n",
              "      <td>0.0</td>\n",
              "      <td>3</td>\n",
              "      <td>Braund, Mr. Owen Harris</td>\n",
              "      <td>male</td>\n",
              "      <td>22.0</td>\n",
              "      <td>1</td>\n",
              "      <td>0</td>\n",
              "      <td>A/5 21171</td>\n",
              "      <td>7.2500</td>\n",
              "      <td>NaN</td>\n",
              "      <td>S</td>\n",
              "    </tr>\n",
              "    <tr>\n",
              "      <th>1</th>\n",
              "      <td>2</td>\n",
              "      <td>1.0</td>\n",
              "      <td>1</td>\n",
              "      <td>Cumings, Mrs. John Bradley (Florence Briggs Th...</td>\n",
              "      <td>female</td>\n",
              "      <td>38.0</td>\n",
              "      <td>1</td>\n",
              "      <td>0</td>\n",
              "      <td>PC 17599</td>\n",
              "      <td>71.2833</td>\n",
              "      <td>C85</td>\n",
              "      <td>C</td>\n",
              "    </tr>\n",
              "    <tr>\n",
              "      <th>2</th>\n",
              "      <td>3</td>\n",
              "      <td>1.0</td>\n",
              "      <td>3</td>\n",
              "      <td>Heikkinen, Miss. Laina</td>\n",
              "      <td>female</td>\n",
              "      <td>26.0</td>\n",
              "      <td>0</td>\n",
              "      <td>0</td>\n",
              "      <td>STON/O2. 3101282</td>\n",
              "      <td>7.9250</td>\n",
              "      <td>NaN</td>\n",
              "      <td>S</td>\n",
              "    </tr>\n",
              "    <tr>\n",
              "      <th>3</th>\n",
              "      <td>4</td>\n",
              "      <td>1.0</td>\n",
              "      <td>1</td>\n",
              "      <td>Futrelle, Mrs. Jacques Heath (Lily May Peel)</td>\n",
              "      <td>female</td>\n",
              "      <td>35.0</td>\n",
              "      <td>1</td>\n",
              "      <td>0</td>\n",
              "      <td>113803</td>\n",
              "      <td>53.1000</td>\n",
              "      <td>C123</td>\n",
              "      <td>S</td>\n",
              "    </tr>\n",
              "    <tr>\n",
              "      <th>4</th>\n",
              "      <td>5</td>\n",
              "      <td>0.0</td>\n",
              "      <td>3</td>\n",
              "      <td>Allen, Mr. William Henry</td>\n",
              "      <td>male</td>\n",
              "      <td>35.0</td>\n",
              "      <td>0</td>\n",
              "      <td>0</td>\n",
              "      <td>373450</td>\n",
              "      <td>8.0500</td>\n",
              "      <td>NaN</td>\n",
              "      <td>S</td>\n",
              "    </tr>\n",
              "    <tr>\n",
              "      <th>...</th>\n",
              "      <td>...</td>\n",
              "      <td>...</td>\n",
              "      <td>...</td>\n",
              "      <td>...</td>\n",
              "      <td>...</td>\n",
              "      <td>...</td>\n",
              "      <td>...</td>\n",
              "      <td>...</td>\n",
              "      <td>...</td>\n",
              "      <td>...</td>\n",
              "      <td>...</td>\n",
              "      <td>...</td>\n",
              "    </tr>\n",
              "    <tr>\n",
              "      <th>413</th>\n",
              "      <td>1305</td>\n",
              "      <td>NaN</td>\n",
              "      <td>3</td>\n",
              "      <td>Spector, Mr. Woolf</td>\n",
              "      <td>male</td>\n",
              "      <td>NaN</td>\n",
              "      <td>0</td>\n",
              "      <td>0</td>\n",
              "      <td>A.5. 3236</td>\n",
              "      <td>8.0500</td>\n",
              "      <td>NaN</td>\n",
              "      <td>S</td>\n",
              "    </tr>\n",
              "    <tr>\n",
              "      <th>414</th>\n",
              "      <td>1306</td>\n",
              "      <td>NaN</td>\n",
              "      <td>1</td>\n",
              "      <td>Oliva y Ocana, Dona. Fermina</td>\n",
              "      <td>female</td>\n",
              "      <td>39.0</td>\n",
              "      <td>0</td>\n",
              "      <td>0</td>\n",
              "      <td>PC 17758</td>\n",
              "      <td>108.9000</td>\n",
              "      <td>C105</td>\n",
              "      <td>C</td>\n",
              "    </tr>\n",
              "    <tr>\n",
              "      <th>415</th>\n",
              "      <td>1307</td>\n",
              "      <td>NaN</td>\n",
              "      <td>3</td>\n",
              "      <td>Saether, Mr. Simon Sivertsen</td>\n",
              "      <td>male</td>\n",
              "      <td>38.5</td>\n",
              "      <td>0</td>\n",
              "      <td>0</td>\n",
              "      <td>SOTON/O.Q. 3101262</td>\n",
              "      <td>7.2500</td>\n",
              "      <td>NaN</td>\n",
              "      <td>S</td>\n",
              "    </tr>\n",
              "    <tr>\n",
              "      <th>416</th>\n",
              "      <td>1308</td>\n",
              "      <td>NaN</td>\n",
              "      <td>3</td>\n",
              "      <td>Ware, Mr. Frederick</td>\n",
              "      <td>male</td>\n",
              "      <td>NaN</td>\n",
              "      <td>0</td>\n",
              "      <td>0</td>\n",
              "      <td>359309</td>\n",
              "      <td>8.0500</td>\n",
              "      <td>NaN</td>\n",
              "      <td>S</td>\n",
              "    </tr>\n",
              "    <tr>\n",
              "      <th>417</th>\n",
              "      <td>1309</td>\n",
              "      <td>NaN</td>\n",
              "      <td>3</td>\n",
              "      <td>Peter, Master. Michael J</td>\n",
              "      <td>male</td>\n",
              "      <td>NaN</td>\n",
              "      <td>1</td>\n",
              "      <td>1</td>\n",
              "      <td>2668</td>\n",
              "      <td>22.3583</td>\n",
              "      <td>NaN</td>\n",
              "      <td>C</td>\n",
              "    </tr>\n",
              "  </tbody>\n",
              "</table>\n",
              "<p>1309 rows × 12 columns</p>\n",
              "</div>"
            ],
            "text/plain": [
              "     PassengerId  Survived  Pclass  ...      Fare Cabin  Embarked\n",
              "0              1       0.0       3  ...    7.2500   NaN         S\n",
              "1              2       1.0       1  ...   71.2833   C85         C\n",
              "2              3       1.0       3  ...    7.9250   NaN         S\n",
              "3              4       1.0       1  ...   53.1000  C123         S\n",
              "4              5       0.0       3  ...    8.0500   NaN         S\n",
              "..           ...       ...     ...  ...       ...   ...       ...\n",
              "413         1305       NaN       3  ...    8.0500   NaN         S\n",
              "414         1306       NaN       1  ...  108.9000  C105         C\n",
              "415         1307       NaN       3  ...    7.2500   NaN         S\n",
              "416         1308       NaN       3  ...    8.0500   NaN         S\n",
              "417         1309       NaN       3  ...   22.3583   NaN         C\n",
              "\n",
              "[1309 rows x 12 columns]"
            ]
          },
          "metadata": {
            "tags": []
          },
          "execution_count": 197
        }
      ]
    },
    {
      "cell_type": "markdown",
      "metadata": {
        "id": "37p7MMO3nZwZ"
      },
      "source": [
        "### reset_index\n",
        "由於使用append合併之後會造成index重複問題，因此要將index重新設定"
      ]
    },
    {
      "cell_type": "code",
      "metadata": {
        "colab": {
          "base_uri": "https://localhost:8080/",
          "height": 458
        },
        "id": "DTKyCKV4mkpN",
        "outputId": "4c1d2adc-c70e-4c96-9c8b-57d210216e80"
      },
      "source": [
        "# inplace=True: 不建立新資料，直接使用原始資料進行修改。 若=False, 原始index值依舊是亂的。\n",
        "# drop=True: 將原本(可能是亂的)的index 列去掉。 若=False, 亂的index列會保留下來。\n",
        "data.reset_index(inplace=True, drop=True)\n",
        "data"
      ],
      "execution_count": null,
      "outputs": [
        {
          "output_type": "execute_result",
          "data": {
            "text/html": [
              "<div>\n",
              "<style scoped>\n",
              "    .dataframe tbody tr th:only-of-type {\n",
              "        vertical-align: middle;\n",
              "    }\n",
              "\n",
              "    .dataframe tbody tr th {\n",
              "        vertical-align: top;\n",
              "    }\n",
              "\n",
              "    .dataframe thead th {\n",
              "        text-align: right;\n",
              "    }\n",
              "</style>\n",
              "<table border=\"1\" class=\"dataframe\">\n",
              "  <thead>\n",
              "    <tr style=\"text-align: right;\">\n",
              "      <th></th>\n",
              "      <th>PassengerId</th>\n",
              "      <th>Survived</th>\n",
              "      <th>Pclass</th>\n",
              "      <th>Name</th>\n",
              "      <th>Sex</th>\n",
              "      <th>Age</th>\n",
              "      <th>SibSp</th>\n",
              "      <th>Parch</th>\n",
              "      <th>Ticket</th>\n",
              "      <th>Fare</th>\n",
              "      <th>Cabin</th>\n",
              "      <th>Embarked</th>\n",
              "    </tr>\n",
              "  </thead>\n",
              "  <tbody>\n",
              "    <tr>\n",
              "      <th>0</th>\n",
              "      <td>1</td>\n",
              "      <td>0.0</td>\n",
              "      <td>3</td>\n",
              "      <td>Braund, Mr. Owen Harris</td>\n",
              "      <td>male</td>\n",
              "      <td>22.0</td>\n",
              "      <td>1</td>\n",
              "      <td>0</td>\n",
              "      <td>A/5 21171</td>\n",
              "      <td>7.2500</td>\n",
              "      <td>NaN</td>\n",
              "      <td>S</td>\n",
              "    </tr>\n",
              "    <tr>\n",
              "      <th>1</th>\n",
              "      <td>2</td>\n",
              "      <td>1.0</td>\n",
              "      <td>1</td>\n",
              "      <td>Cumings, Mrs. John Bradley (Florence Briggs Th...</td>\n",
              "      <td>female</td>\n",
              "      <td>38.0</td>\n",
              "      <td>1</td>\n",
              "      <td>0</td>\n",
              "      <td>PC 17599</td>\n",
              "      <td>71.2833</td>\n",
              "      <td>C85</td>\n",
              "      <td>C</td>\n",
              "    </tr>\n",
              "    <tr>\n",
              "      <th>2</th>\n",
              "      <td>3</td>\n",
              "      <td>1.0</td>\n",
              "      <td>3</td>\n",
              "      <td>Heikkinen, Miss. Laina</td>\n",
              "      <td>female</td>\n",
              "      <td>26.0</td>\n",
              "      <td>0</td>\n",
              "      <td>0</td>\n",
              "      <td>STON/O2. 3101282</td>\n",
              "      <td>7.9250</td>\n",
              "      <td>NaN</td>\n",
              "      <td>S</td>\n",
              "    </tr>\n",
              "    <tr>\n",
              "      <th>3</th>\n",
              "      <td>4</td>\n",
              "      <td>1.0</td>\n",
              "      <td>1</td>\n",
              "      <td>Futrelle, Mrs. Jacques Heath (Lily May Peel)</td>\n",
              "      <td>female</td>\n",
              "      <td>35.0</td>\n",
              "      <td>1</td>\n",
              "      <td>0</td>\n",
              "      <td>113803</td>\n",
              "      <td>53.1000</td>\n",
              "      <td>C123</td>\n",
              "      <td>S</td>\n",
              "    </tr>\n",
              "    <tr>\n",
              "      <th>4</th>\n",
              "      <td>5</td>\n",
              "      <td>0.0</td>\n",
              "      <td>3</td>\n",
              "      <td>Allen, Mr. William Henry</td>\n",
              "      <td>male</td>\n",
              "      <td>35.0</td>\n",
              "      <td>0</td>\n",
              "      <td>0</td>\n",
              "      <td>373450</td>\n",
              "      <td>8.0500</td>\n",
              "      <td>NaN</td>\n",
              "      <td>S</td>\n",
              "    </tr>\n",
              "    <tr>\n",
              "      <th>...</th>\n",
              "      <td>...</td>\n",
              "      <td>...</td>\n",
              "      <td>...</td>\n",
              "      <td>...</td>\n",
              "      <td>...</td>\n",
              "      <td>...</td>\n",
              "      <td>...</td>\n",
              "      <td>...</td>\n",
              "      <td>...</td>\n",
              "      <td>...</td>\n",
              "      <td>...</td>\n",
              "      <td>...</td>\n",
              "    </tr>\n",
              "    <tr>\n",
              "      <th>1304</th>\n",
              "      <td>1305</td>\n",
              "      <td>NaN</td>\n",
              "      <td>3</td>\n",
              "      <td>Spector, Mr. Woolf</td>\n",
              "      <td>male</td>\n",
              "      <td>NaN</td>\n",
              "      <td>0</td>\n",
              "      <td>0</td>\n",
              "      <td>A.5. 3236</td>\n",
              "      <td>8.0500</td>\n",
              "      <td>NaN</td>\n",
              "      <td>S</td>\n",
              "    </tr>\n",
              "    <tr>\n",
              "      <th>1305</th>\n",
              "      <td>1306</td>\n",
              "      <td>NaN</td>\n",
              "      <td>1</td>\n",
              "      <td>Oliva y Ocana, Dona. Fermina</td>\n",
              "      <td>female</td>\n",
              "      <td>39.0</td>\n",
              "      <td>0</td>\n",
              "      <td>0</td>\n",
              "      <td>PC 17758</td>\n",
              "      <td>108.9000</td>\n",
              "      <td>C105</td>\n",
              "      <td>C</td>\n",
              "    </tr>\n",
              "    <tr>\n",
              "      <th>1306</th>\n",
              "      <td>1307</td>\n",
              "      <td>NaN</td>\n",
              "      <td>3</td>\n",
              "      <td>Saether, Mr. Simon Sivertsen</td>\n",
              "      <td>male</td>\n",
              "      <td>38.5</td>\n",
              "      <td>0</td>\n",
              "      <td>0</td>\n",
              "      <td>SOTON/O.Q. 3101262</td>\n",
              "      <td>7.2500</td>\n",
              "      <td>NaN</td>\n",
              "      <td>S</td>\n",
              "    </tr>\n",
              "    <tr>\n",
              "      <th>1307</th>\n",
              "      <td>1308</td>\n",
              "      <td>NaN</td>\n",
              "      <td>3</td>\n",
              "      <td>Ware, Mr. Frederick</td>\n",
              "      <td>male</td>\n",
              "      <td>NaN</td>\n",
              "      <td>0</td>\n",
              "      <td>0</td>\n",
              "      <td>359309</td>\n",
              "      <td>8.0500</td>\n",
              "      <td>NaN</td>\n",
              "      <td>S</td>\n",
              "    </tr>\n",
              "    <tr>\n",
              "      <th>1308</th>\n",
              "      <td>1309</td>\n",
              "      <td>NaN</td>\n",
              "      <td>3</td>\n",
              "      <td>Peter, Master. Michael J</td>\n",
              "      <td>male</td>\n",
              "      <td>NaN</td>\n",
              "      <td>1</td>\n",
              "      <td>1</td>\n",
              "      <td>2668</td>\n",
              "      <td>22.3583</td>\n",
              "      <td>NaN</td>\n",
              "      <td>C</td>\n",
              "    </tr>\n",
              "  </tbody>\n",
              "</table>\n",
              "<p>1309 rows × 12 columns</p>\n",
              "</div>"
            ],
            "text/plain": [
              "      PassengerId  Survived  Pclass  ...      Fare Cabin  Embarked\n",
              "0               1       0.0       3  ...    7.2500   NaN         S\n",
              "1               2       1.0       1  ...   71.2833   C85         C\n",
              "2               3       1.0       3  ...    7.9250   NaN         S\n",
              "3               4       1.0       1  ...   53.1000  C123         S\n",
              "4               5       0.0       3  ...    8.0500   NaN         S\n",
              "...           ...       ...     ...  ...       ...   ...       ...\n",
              "1304         1305       NaN       3  ...    8.0500   NaN         S\n",
              "1305         1306       NaN       1  ...  108.9000  C105         C\n",
              "1306         1307       NaN       3  ...    7.2500   NaN         S\n",
              "1307         1308       NaN       3  ...    8.0500   NaN         S\n",
              "1308         1309       NaN       3  ...   22.3583   NaN         C\n",
              "\n",
              "[1309 rows x 12 columns]"
            ]
          },
          "metadata": {
            "tags": []
          },
          "execution_count": 198
        }
      ]
    },
    {
      "cell_type": "markdown",
      "metadata": {
        "id": "ySItzVDLnduH"
      },
      "source": [
        "## 資料分析"
      ]
    },
    {
      "cell_type": "markdown",
      "metadata": {
        "id": "DXU0sAgPnvbB"
      },
      "source": [
        "### 生存與死亡比例\n",
        "死亡約六成，生存約四成。"
      ]
    },
    {
      "cell_type": "code",
      "metadata": {
        "colab": {
          "base_uri": "https://localhost:8080/",
          "height": 354
        },
        "id": "iG39bbenm2cm",
        "outputId": "d6ed407f-9388-464f-a0f4-3a42f0907673"
      },
      "source": [
        "sns.countplot(data['Survived'])"
      ],
      "execution_count": null,
      "outputs": [
        {
          "output_type": "stream",
          "text": [
            "/usr/local/lib/python3.7/dist-packages/seaborn/_decorators.py:43: FutureWarning: Pass the following variable as a keyword arg: x. From version 0.12, the only valid positional argument will be `data`, and passing other arguments without an explicit keyword will result in an error or misinterpretation.\n",
            "  FutureWarning\n"
          ],
          "name": "stderr"
        },
        {
          "output_type": "execute_result",
          "data": {
            "text/plain": [
              "<matplotlib.axes._subplots.AxesSubplot at 0x7f7b0c817ed0>"
            ]
          },
          "metadata": {
            "tags": []
          },
          "execution_count": 199
        },
        {
          "output_type": "display_data",
          "data": {
            "image/png": "[encoded data removed]",
            "text/plain": [
              "<Figure size 432x288 with 1 Axes>"
            ]
          },
          "metadata": {
            "tags": [],
            "needs_background": "light"
          }
        }
      ]
    },
    {
      "cell_type": "markdown",
      "metadata": {
        "id": "_8Z0memvo033"
      },
      "source": [
        "### 艙等與生存率之關係\n",
        "1艙等生存率最高，艙等愈小死亡率愈低。"
      ]
    },
    {
      "cell_type": "code",
      "metadata": {
        "colab": {
          "base_uri": "https://localhost:8080/",
          "height": 354
        },
        "id": "s_XqSCvlnmJf",
        "outputId": "9fb34c37-f15c-48e2-cc22-136c1e49ef47"
      },
      "source": [
        "sns.countplot(data['Pclass'], hue=data['Survived'])"
      ],
      "execution_count": null,
      "outputs": [
        {
          "output_type": "stream",
          "text": [
            "/usr/local/lib/python3.7/dist-packages/seaborn/_decorators.py:43: FutureWarning: Pass the following variable as a keyword arg: x. From version 0.12, the only valid positional argument will be `data`, and passing other arguments without an explicit keyword will result in an error or misinterpretation.\n",
            "  FutureWarning\n"
          ],
          "name": "stderr"
        },
        {
          "output_type": "execute_result",
          "data": {
            "text/plain": [
              "<matplotlib.axes._subplots.AxesSubplot at 0x7f7b0c134490>"
            ]
          },
          "metadata": {
            "tags": []
          },
          "execution_count": 200
        },
        {
          "output_type": "display_data",
          "data": {
            "image/png": "[encoded data removed]",
            "text/plain": [
              "<Figure size 432x288 with 1 Axes>"
            ]
          },
          "metadata": {
            "tags": [],
            "needs_background": "light"
          }
        }
      ]
    },
    {
      "cell_type": "markdown",
      "metadata": {
        "id": "XuC_1DYpqCJA"
      },
      "source": [
        "### 年齡與生存率之關係\n",
        "年齡小的存活比例高出許多。"
      ]
    },
    {
      "cell_type": "code",
      "metadata": {
        "colab": {
          "base_uri": "https://localhost:8080/",
          "height": 1000
        },
        "id": "bW93g5OyorLF",
        "outputId": "ccca2097-1ef9-4e3d-b91d-bbe9902a8dab"
      },
      "source": [
        "# kde 為趨勢線\n",
        "g = sns.FacetGrid(data, col='Survived')\n",
        "g.map(sns.displot, 'Age', kde=True)  "
      ],
      "execution_count": null,
      "outputs": [
        {
          "output_type": "stream",
          "text": [
            "/usr/local/lib/python3.7/dist-packages/seaborn/distributions.py:2164: UserWarning: `displot` is a figure-level function and does not accept the ax= paramter. You may wish to try histplot.\n",
            "  warnings.warn(msg, UserWarning)\n",
            "/usr/local/lib/python3.7/dist-packages/seaborn/distributions.py:2164: UserWarning: `displot` is a figure-level function and does not accept the ax= paramter. You may wish to try histplot.\n",
            "  warnings.warn(msg, UserWarning)\n"
          ],
          "name": "stderr"
        },
        {
          "output_type": "execute_result",
          "data": {
            "text/plain": [
              "<seaborn.axisgrid.FacetGrid at 0x7f7b0c02ca50>"
            ]
          },
          "metadata": {
            "tags": []
          },
          "execution_count": 201
        },
        {
          "output_type": "display_data",
          "data": {
            "image/png": "[encoded data removed]",
            "text/plain": [
              "<Figure size 432x216 with 2 Axes>"
            ]
          },
          "metadata": {
            "tags": [],
            "needs_background": "light"
          }
        },
        {
          "output_type": "display_data",
          "data": {
            "image/png": "[encoded data removed]",
            "text/plain": [
              "<Figure size 360x360 with 1 Axes>"
            ]
          },
          "metadata": {
            "tags": [],
            "needs_background": "light"
          }
        },
        {
          "output_type": "display_data",
          "data": {
            "image/png": "[encoded data removed]",
            "text/plain": [
              "<Figure size 360x360 with 1 Axes>"
            ]
          },
          "metadata": {
            "tags": [],
            "needs_background": "light"
          }
        }
      ]
    },
    {
      "cell_type": "code",
      "metadata": {
        "id": "wBDZpQvYN4C1"
      },
      "source": [
        "# 經過一些反覆的測試把“父母＋小孩”加上“兄弟姊妹＋丈夫妻子”的數量變成一個新的欄位叫做家庭大小，在預測上會更為準確\n",
        "data['Family_Size'] = data['Parch'] + data['SibSp']"
      ],
      "execution_count": null,
      "outputs": []
    },
    {
      "cell_type": "code",
      "metadata": {
        "colab": {
          "base_uri": "https://localhost:8080/",
          "height": 300
        },
        "id": "VlvJqeG_N7cY",
        "outputId": "d1f5374d-2a9b-4caa-bff0-a848e0aefc6f"
      },
      "source": [
        "g = sns.FacetGrid(data, col='Survived')\n",
        "g.map(sns.distplot, 'Family_Size', kde=False)"
      ],
      "execution_count": null,
      "outputs": [
        {
          "output_type": "stream",
          "text": [
            "/usr/local/lib/python3.7/dist-packages/seaborn/distributions.py:2557: FutureWarning: `distplot` is a deprecated function and will be removed in a future version. Please adapt your code to use either `displot` (a figure-level function with similar flexibility) or `histplot` (an axes-level function for histograms).\n",
            "  warnings.warn(msg, FutureWarning)\n"
          ],
          "name": "stderr"
        },
        {
          "output_type": "execute_result",
          "data": {
            "text/plain": [
              "<seaborn.axisgrid.FacetGrid at 0x7f7b0c049050>"
            ]
          },
          "metadata": {
            "tags": []
          },
          "execution_count": 203
        },
        {
          "output_type": "display_data",
          "data": {
            "image/png": "[encoded data removed]",
            "text/plain": [
              "<Figure size 432x216 with 2 Axes>"
            ]
          },
          "metadata": {
            "tags": [],
            "needs_background": "light"
          }
        }
      ]
    },
    {
      "cell_type": "markdown",
      "metadata": {
        "id": "3VUysEdasawh"
      },
      "source": [
        "## 提取稱謂\n",
        "將 Name 中的稱謂提取出來，提升預測的準確度。"
      ]
    },
    {
      "cell_type": "code",
      "metadata": {
        "id": "zd8ZklNnp3Ge"
      },
      "source": [
        "# str.split(', ') 以, 為分列基準。\n",
        "# expand=True, 將資料分列。\n",
        "data['Title1'] = data['Name'].str.split(', ', expand=True)[1]"
      ],
      "execution_count": null,
      "outputs": []
    },
    {
      "cell_type": "code",
      "metadata": {
        "colab": {
          "base_uri": "https://localhost:8080/",
          "height": 143
        },
        "id": "b5umgA_nrYx8",
        "outputId": "abe6d0cc-20be-4aeb-b9a7-ee29a18676f2"
      },
      "source": [
        "data['Name'].str.split(', ', expand=True).head(3)"
      ],
      "execution_count": null,
      "outputs": [
        {
          "output_type": "execute_result",
          "data": {
            "text/html": [
              "<div>\n",
              "<style scoped>\n",
              "    .dataframe tbody tr th:only-of-type {\n",
              "        vertical-align: middle;\n",
              "    }\n",
              "\n",
              "    .dataframe tbody tr th {\n",
              "        vertical-align: top;\n",
              "    }\n",
              "\n",
              "    .dataframe thead th {\n",
              "        text-align: right;\n",
              "    }\n",
              "</style>\n",
              "<table border=\"1\" class=\"dataframe\">\n",
              "  <thead>\n",
              "    <tr style=\"text-align: right;\">\n",
              "      <th></th>\n",
              "      <th>0</th>\n",
              "      <th>1</th>\n",
              "    </tr>\n",
              "  </thead>\n",
              "  <tbody>\n",
              "    <tr>\n",
              "      <th>0</th>\n",
              "      <td>Braund</td>\n",
              "      <td>Mr. Owen Harris</td>\n",
              "    </tr>\n",
              "    <tr>\n",
              "      <th>1</th>\n",
              "      <td>Cumings</td>\n",
              "      <td>Mrs. John Bradley (Florence Briggs Thayer)</td>\n",
              "    </tr>\n",
              "    <tr>\n",
              "      <th>2</th>\n",
              "      <td>Heikkinen</td>\n",
              "      <td>Miss. Laina</td>\n",
              "    </tr>\n",
              "  </tbody>\n",
              "</table>\n",
              "</div>"
            ],
            "text/plain": [
              "           0                                           1\n",
              "0     Braund                             Mr. Owen Harris\n",
              "1    Cumings  Mrs. John Bradley (Florence Briggs Thayer)\n",
              "2  Heikkinen                                 Miss. Laina"
            ]
          },
          "metadata": {
            "tags": []
          },
          "execution_count": 205
        }
      ]
    },
    {
      "cell_type": "code",
      "metadata": {
        "colab": {
          "base_uri": "https://localhost:8080/"
        },
        "id": "VYJYgY0FrxAi",
        "outputId": "a9bbc5e5-0eec-402a-af8c-710ca60f7a3a"
      },
      "source": [
        "data['Title1'].head(3)"
      ],
      "execution_count": null,
      "outputs": [
        {
          "output_type": "execute_result",
          "data": {
            "text/plain": [
              "0                               Mr. Owen Harris\n",
              "1    Mrs. John Bradley (Florence Briggs Thayer)\n",
              "2                                   Miss. Laina\n",
              "Name: Title1, dtype: object"
            ]
          },
          "metadata": {
            "tags": []
          },
          "execution_count": 206
        }
      ]
    },
    {
      "cell_type": "code",
      "metadata": {
        "id": "sIFJs4Bqr2PH"
      },
      "source": [
        "data['Title1'] = data['Title1'].str.split('.', expand=True)[0]"
      ],
      "execution_count": null,
      "outputs": []
    },
    {
      "cell_type": "code",
      "metadata": {
        "colab": {
          "base_uri": "https://localhost:8080/"
        },
        "id": "89R8nDgzsFN1",
        "outputId": "054dc2e5-1bdf-498a-8fad-8e70eb044c55"
      },
      "source": [
        "data['Title1'].head(3)"
      ],
      "execution_count": null,
      "outputs": [
        {
          "output_type": "execute_result",
          "data": {
            "text/plain": [
              "0      Mr\n",
              "1     Mrs\n",
              "2    Miss\n",
              "Name: Title1, dtype: object"
            ]
          },
          "metadata": {
            "tags": []
          },
          "execution_count": 208
        }
      ]
    },
    {
      "cell_type": "code",
      "metadata": {
        "colab": {
          "base_uri": "https://localhost:8080/"
        },
        "id": "dO412XMBsI5N",
        "outputId": "95186858-f9a3-4990-bc92-a40f475df1ac"
      },
      "source": [
        "data['Title1'].unique()"
      ],
      "execution_count": null,
      "outputs": [
        {
          "output_type": "execute_result",
          "data": {
            "text/plain": [
              "array(['Mr', 'Mrs', 'Miss', 'Master', 'Don', 'Rev', 'Dr', 'Mme', 'Ms',\n",
              "       'Major', 'Lady', 'Sir', 'Mlle', 'Col', 'Capt', 'the Countess',\n",
              "       'Jonkheer', 'Dona'], dtype=object)"
            ]
          },
          "metadata": {
            "tags": []
          },
          "execution_count": 209
        }
      ]
    },
    {
      "cell_type": "markdown",
      "metadata": {
        "id": "kuSEUBhjuI0Q"
      },
      "source": [
        "### 使用稱謂做分析"
      ]
    },
    {
      "cell_type": "markdown",
      "metadata": {
        "id": "WCNGW-hOudwV"
      },
      "source": [
        "####  各個稱謂的性別數\n",
        "如: Master皆為男性。"
      ]
    },
    {
      "cell_type": "code",
      "metadata": {
        "colab": {
          "base_uri": "https://localhost:8080/",
          "height": 104
        },
        "id": "dLGXAMiqsUmj",
        "outputId": "7407d53b-4458-40df-dd59-cb829c2c90e7"
      },
      "source": [
        "pd.crosstab(data['Title1'], data['Sex']).T.style.background_gradient(cmap='summer_r')"
      ],
      "execution_count": null,
      "outputs": [
        {
          "output_type": "execute_result",
          "data": {
            "text/html": [
              "<style  type=\"text/css\" >\n",
              "#T_c7efbe68_b13c_11eb_b3c5_0242ac1c0002row0_col0,#T_c7efbe68_b13c_11eb_b3c5_0242ac1c0002row0_col1,#T_c7efbe68_b13c_11eb_b3c5_0242ac1c0002row0_col2,#T_c7efbe68_b13c_11eb_b3c5_0242ac1c0002row0_col4,#T_c7efbe68_b13c_11eb_b3c5_0242ac1c0002row0_col5,#T_c7efbe68_b13c_11eb_b3c5_0242ac1c0002row0_col7,#T_c7efbe68_b13c_11eb_b3c5_0242ac1c0002row0_col8,#T_c7efbe68_b13c_11eb_b3c5_0242ac1c0002row0_col12,#T_c7efbe68_b13c_11eb_b3c5_0242ac1c0002row0_col15,#T_c7efbe68_b13c_11eb_b3c5_0242ac1c0002row0_col16,#T_c7efbe68_b13c_11eb_b3c5_0242ac1c0002row1_col3,#T_c7efbe68_b13c_11eb_b3c5_0242ac1c0002row1_col6,#T_c7efbe68_b13c_11eb_b3c5_0242ac1c0002row1_col9,#T_c7efbe68_b13c_11eb_b3c5_0242ac1c0002row1_col10,#T_c7efbe68_b13c_11eb_b3c5_0242ac1c0002row1_col11,#T_c7efbe68_b13c_11eb_b3c5_0242ac1c0002row1_col13,#T_c7efbe68_b13c_11eb_b3c5_0242ac1c0002row1_col14,#T_c7efbe68_b13c_11eb_b3c5_0242ac1c0002row1_col17{\n",
              "            background-color:  #ffff66;\n",
              "            color:  #000000;\n",
              "        }#T_c7efbe68_b13c_11eb_b3c5_0242ac1c0002row0_col3,#T_c7efbe68_b13c_11eb_b3c5_0242ac1c0002row0_col6,#T_c7efbe68_b13c_11eb_b3c5_0242ac1c0002row0_col9,#T_c7efbe68_b13c_11eb_b3c5_0242ac1c0002row0_col10,#T_c7efbe68_b13c_11eb_b3c5_0242ac1c0002row0_col11,#T_c7efbe68_b13c_11eb_b3c5_0242ac1c0002row0_col13,#T_c7efbe68_b13c_11eb_b3c5_0242ac1c0002row0_col14,#T_c7efbe68_b13c_11eb_b3c5_0242ac1c0002row0_col17,#T_c7efbe68_b13c_11eb_b3c5_0242ac1c0002row1_col0,#T_c7efbe68_b13c_11eb_b3c5_0242ac1c0002row1_col1,#T_c7efbe68_b13c_11eb_b3c5_0242ac1c0002row1_col2,#T_c7efbe68_b13c_11eb_b3c5_0242ac1c0002row1_col4,#T_c7efbe68_b13c_11eb_b3c5_0242ac1c0002row1_col5,#T_c7efbe68_b13c_11eb_b3c5_0242ac1c0002row1_col7,#T_c7efbe68_b13c_11eb_b3c5_0242ac1c0002row1_col8,#T_c7efbe68_b13c_11eb_b3c5_0242ac1c0002row1_col12,#T_c7efbe68_b13c_11eb_b3c5_0242ac1c0002row1_col15,#T_c7efbe68_b13c_11eb_b3c5_0242ac1c0002row1_col16{\n",
              "            background-color:  #008066;\n",
              "            color:  #f1f1f1;\n",
              "        }</style><table id=\"T_c7efbe68_b13c_11eb_b3c5_0242ac1c0002\" ><thead>    <tr>        <th class=\"index_name level0\" >Title1</th>        <th class=\"col_heading level0 col0\" >Capt</th>        <th class=\"col_heading level0 col1\" >Col</th>        <th class=\"col_heading level0 col2\" >Don</th>        <th class=\"col_heading level0 col3\" >Dona</th>        <th class=\"col_heading level0 col4\" >Dr</th>        <th class=\"col_heading level0 col5\" >Jonkheer</th>        <th class=\"col_heading level0 col6\" >Lady</th>        <th class=\"col_heading level0 col7\" >Major</th>        <th class=\"col_heading level0 col8\" >Master</th>        <th class=\"col_heading level0 col9\" >Miss</th>        <th class=\"col_heading level0 col10\" >Mlle</th>        <th class=\"col_heading level0 col11\" >Mme</th>        <th class=\"col_heading level0 col12\" >Mr</th>        <th class=\"col_heading level0 col13\" >Mrs</th>        <th class=\"col_heading level0 col14\" >Ms</th>        <th class=\"col_heading level0 col15\" >Rev</th>        <th class=\"col_heading level0 col16\" >Sir</th>        <th class=\"col_heading level0 col17\" >the Countess</th>    </tr>    <tr>        <th class=\"index_name level0\" >Sex</th>        <th class=\"blank\" ></th>        <th class=\"blank\" ></th>        <th class=\"blank\" ></th>        <th class=\"blank\" ></th>        <th class=\"blank\" ></th>        <th class=\"blank\" ></th>        <th class=\"blank\" ></th>        <th class=\"blank\" ></th>        <th class=\"blank\" ></th>        <th class=\"blank\" ></th>        <th class=\"blank\" ></th>        <th class=\"blank\" ></th>        <th class=\"blank\" ></th>        <th class=\"blank\" ></th>        <th class=\"blank\" ></th>        <th class=\"blank\" ></th>        <th class=\"blank\" ></th>        <th class=\"blank\" ></th>    </tr></thead><tbody>\n",
              "                <tr>\n",
              "                        <th id=\"T_c7efbe68_b13c_11eb_b3c5_0242ac1c0002level0_row0\" class=\"row_heading level0 row0\" >female</th>\n",
              "                        <td id=\"T_c7efbe68_b13c_11eb_b3c5_0242ac1c0002row0_col0\" class=\"data row0 col0\" >0</td>\n",
              "                        <td id=\"T_c7efbe68_b13c_11eb_b3c5_0242ac1c0002row0_col1\" class=\"data row0 col1\" >0</td>\n",
              "                        <td id=\"T_c7efbe68_b13c_11eb_b3c5_0242ac1c0002row0_col2\" class=\"data row0 col2\" >0</td>\n",
              "                        <td id=\"T_c7efbe68_b13c_11eb_b3c5_0242ac1c0002row0_col3\" class=\"data row0 col3\" >1</td>\n",
              "                        <td id=\"T_c7efbe68_b13c_11eb_b3c5_0242ac1c0002row0_col4\" class=\"data row0 col4\" >1</td>\n",
              "                        <td id=\"T_c7efbe68_b13c_11eb_b3c5_0242ac1c0002row0_col5\" class=\"data row0 col5\" >0</td>\n",
              "                        <td id=\"T_c7efbe68_b13c_11eb_b3c5_0242ac1c0002row0_col6\" class=\"data row0 col6\" >1</td>\n",
              "                        <td id=\"T_c7efbe68_b13c_11eb_b3c5_0242ac1c0002row0_col7\" class=\"data row0 col7\" >0</td>\n",
              "                        <td id=\"T_c7efbe68_b13c_11eb_b3c5_0242ac1c0002row0_col8\" class=\"data row0 col8\" >0</td>\n",
              "                        <td id=\"T_c7efbe68_b13c_11eb_b3c5_0242ac1c0002row0_col9\" class=\"data row0 col9\" >260</td>\n",
              "                        <td id=\"T_c7efbe68_b13c_11eb_b3c5_0242ac1c0002row0_col10\" class=\"data row0 col10\" >2</td>\n",
              "                        <td id=\"T_c7efbe68_b13c_11eb_b3c5_0242ac1c0002row0_col11\" class=\"data row0 col11\" >1</td>\n",
              "                        <td id=\"T_c7efbe68_b13c_11eb_b3c5_0242ac1c0002row0_col12\" class=\"data row0 col12\" >0</td>\n",
              "                        <td id=\"T_c7efbe68_b13c_11eb_b3c5_0242ac1c0002row0_col13\" class=\"data row0 col13\" >197</td>\n",
              "                        <td id=\"T_c7efbe68_b13c_11eb_b3c5_0242ac1c0002row0_col14\" class=\"data row0 col14\" >2</td>\n",
              "                        <td id=\"T_c7efbe68_b13c_11eb_b3c5_0242ac1c0002row0_col15\" class=\"data row0 col15\" >0</td>\n",
              "                        <td id=\"T_c7efbe68_b13c_11eb_b3c5_0242ac1c0002row0_col16\" class=\"data row0 col16\" >0</td>\n",
              "                        <td id=\"T_c7efbe68_b13c_11eb_b3c5_0242ac1c0002row0_col17\" class=\"data row0 col17\" >1</td>\n",
              "            </tr>\n",
              "            <tr>\n",
              "                        <th id=\"T_c7efbe68_b13c_11eb_b3c5_0242ac1c0002level0_row1\" class=\"row_heading level0 row1\" >male</th>\n",
              "                        <td id=\"T_c7efbe68_b13c_11eb_b3c5_0242ac1c0002row1_col0\" class=\"data row1 col0\" >1</td>\n",
              "                        <td id=\"T_c7efbe68_b13c_11eb_b3c5_0242ac1c0002row1_col1\" class=\"data row1 col1\" >4</td>\n",
              "                        <td id=\"T_c7efbe68_b13c_11eb_b3c5_0242ac1c0002row1_col2\" class=\"data row1 col2\" >1</td>\n",
              "                        <td id=\"T_c7efbe68_b13c_11eb_b3c5_0242ac1c0002row1_col3\" class=\"data row1 col3\" >0</td>\n",
              "                        <td id=\"T_c7efbe68_b13c_11eb_b3c5_0242ac1c0002row1_col4\" class=\"data row1 col4\" >7</td>\n",
              "                        <td id=\"T_c7efbe68_b13c_11eb_b3c5_0242ac1c0002row1_col5\" class=\"data row1 col5\" >1</td>\n",
              "                        <td id=\"T_c7efbe68_b13c_11eb_b3c5_0242ac1c0002row1_col6\" class=\"data row1 col6\" >0</td>\n",
              "                        <td id=\"T_c7efbe68_b13c_11eb_b3c5_0242ac1c0002row1_col7\" class=\"data row1 col7\" >2</td>\n",
              "                        <td id=\"T_c7efbe68_b13c_11eb_b3c5_0242ac1c0002row1_col8\" class=\"data row1 col8\" >61</td>\n",
              "                        <td id=\"T_c7efbe68_b13c_11eb_b3c5_0242ac1c0002row1_col9\" class=\"data row1 col9\" >0</td>\n",
              "                        <td id=\"T_c7efbe68_b13c_11eb_b3c5_0242ac1c0002row1_col10\" class=\"data row1 col10\" >0</td>\n",
              "                        <td id=\"T_c7efbe68_b13c_11eb_b3c5_0242ac1c0002row1_col11\" class=\"data row1 col11\" >0</td>\n",
              "                        <td id=\"T_c7efbe68_b13c_11eb_b3c5_0242ac1c0002row1_col12\" class=\"data row1 col12\" >757</td>\n",
              "                        <td id=\"T_c7efbe68_b13c_11eb_b3c5_0242ac1c0002row1_col13\" class=\"data row1 col13\" >0</td>\n",
              "                        <td id=\"T_c7efbe68_b13c_11eb_b3c5_0242ac1c0002row1_col14\" class=\"data row1 col14\" >0</td>\n",
              "                        <td id=\"T_c7efbe68_b13c_11eb_b3c5_0242ac1c0002row1_col15\" class=\"data row1 col15\" >8</td>\n",
              "                        <td id=\"T_c7efbe68_b13c_11eb_b3c5_0242ac1c0002row1_col16\" class=\"data row1 col16\" >1</td>\n",
              "                        <td id=\"T_c7efbe68_b13c_11eb_b3c5_0242ac1c0002row1_col17\" class=\"data row1 col17\" >0</td>\n",
              "            </tr>\n",
              "    </tbody></table>"
            ],
            "text/plain": [
              "<pandas.io.formats.style.Styler at 0x7f7b09ba0710>"
            ]
          },
          "metadata": {
            "tags": []
          },
          "execution_count": 210
        }
      ]
    },
    {
      "cell_type": "markdown",
      "metadata": {
        "id": "_GLd0kJZujX0"
      },
      "source": [
        "####  各個稱謂的生存率\n",
        "如: Master 的生存率為約6成。"
      ]
    },
    {
      "cell_type": "code",
      "metadata": {
        "colab": {
          "base_uri": "https://localhost:8080/",
          "height": 104
        },
        "id": "LPRJZlhjt6TF",
        "outputId": "dc10307a-09e5-4dd0-cc8b-5a42e6e41170"
      },
      "source": [
        "pd.crosstab(data['Title1'], data['Survived']).T.style.background_gradient(cmap='summer_r')"
      ],
      "execution_count": null,
      "outputs": [
        {
          "output_type": "execute_result",
          "data": {
            "text/html": [
              "<style  type=\"text/css\" >\n",
              "#T_c7fcf39e_b13c_11eb_b3c5_0242ac1c0002row0_col0,#T_c7fcf39e_b13c_11eb_b3c5_0242ac1c0002row0_col2,#T_c7fcf39e_b13c_11eb_b3c5_0242ac1c0002row0_col3,#T_c7fcf39e_b13c_11eb_b3c5_0242ac1c0002row0_col4,#T_c7fcf39e_b13c_11eb_b3c5_0242ac1c0002row0_col11,#T_c7fcf39e_b13c_11eb_b3c5_0242ac1c0002row0_col14,#T_c7fcf39e_b13c_11eb_b3c5_0242ac1c0002row1_col5,#T_c7fcf39e_b13c_11eb_b3c5_0242ac1c0002row1_col7,#T_c7fcf39e_b13c_11eb_b3c5_0242ac1c0002row1_col8,#T_c7fcf39e_b13c_11eb_b3c5_0242ac1c0002row1_col9,#T_c7fcf39e_b13c_11eb_b3c5_0242ac1c0002row1_col10,#T_c7fcf39e_b13c_11eb_b3c5_0242ac1c0002row1_col12,#T_c7fcf39e_b13c_11eb_b3c5_0242ac1c0002row1_col13,#T_c7fcf39e_b13c_11eb_b3c5_0242ac1c0002row1_col15,#T_c7fcf39e_b13c_11eb_b3c5_0242ac1c0002row1_col16{\n",
              "            background-color:  #008066;\n",
              "            color:  #f1f1f1;\n",
              "        }#T_c7fcf39e_b13c_11eb_b3c5_0242ac1c0002row0_col1,#T_c7fcf39e_b13c_11eb_b3c5_0242ac1c0002row0_col5,#T_c7fcf39e_b13c_11eb_b3c5_0242ac1c0002row0_col6,#T_c7fcf39e_b13c_11eb_b3c5_0242ac1c0002row0_col7,#T_c7fcf39e_b13c_11eb_b3c5_0242ac1c0002row0_col8,#T_c7fcf39e_b13c_11eb_b3c5_0242ac1c0002row0_col9,#T_c7fcf39e_b13c_11eb_b3c5_0242ac1c0002row0_col10,#T_c7fcf39e_b13c_11eb_b3c5_0242ac1c0002row0_col12,#T_c7fcf39e_b13c_11eb_b3c5_0242ac1c0002row0_col13,#T_c7fcf39e_b13c_11eb_b3c5_0242ac1c0002row0_col15,#T_c7fcf39e_b13c_11eb_b3c5_0242ac1c0002row0_col16,#T_c7fcf39e_b13c_11eb_b3c5_0242ac1c0002row1_col0,#T_c7fcf39e_b13c_11eb_b3c5_0242ac1c0002row1_col1,#T_c7fcf39e_b13c_11eb_b3c5_0242ac1c0002row1_col2,#T_c7fcf39e_b13c_11eb_b3c5_0242ac1c0002row1_col3,#T_c7fcf39e_b13c_11eb_b3c5_0242ac1c0002row1_col4,#T_c7fcf39e_b13c_11eb_b3c5_0242ac1c0002row1_col6,#T_c7fcf39e_b13c_11eb_b3c5_0242ac1c0002row1_col11,#T_c7fcf39e_b13c_11eb_b3c5_0242ac1c0002row1_col14{\n",
              "            background-color:  #ffff66;\n",
              "            color:  #000000;\n",
              "        }</style><table id=\"T_c7fcf39e_b13c_11eb_b3c5_0242ac1c0002\" ><thead>    <tr>        <th class=\"index_name level0\" >Title1</th>        <th class=\"col_heading level0 col0\" >Capt</th>        <th class=\"col_heading level0 col1\" >Col</th>        <th class=\"col_heading level0 col2\" >Don</th>        <th class=\"col_heading level0 col3\" >Dr</th>        <th class=\"col_heading level0 col4\" >Jonkheer</th>        <th class=\"col_heading level0 col5\" >Lady</th>        <th class=\"col_heading level0 col6\" >Major</th>        <th class=\"col_heading level0 col7\" >Master</th>        <th class=\"col_heading level0 col8\" >Miss</th>        <th class=\"col_heading level0 col9\" >Mlle</th>        <th class=\"col_heading level0 col10\" >Mme</th>        <th class=\"col_heading level0 col11\" >Mr</th>        <th class=\"col_heading level0 col12\" >Mrs</th>        <th class=\"col_heading level0 col13\" >Ms</th>        <th class=\"col_heading level0 col14\" >Rev</th>        <th class=\"col_heading level0 col15\" >Sir</th>        <th class=\"col_heading level0 col16\" >the Countess</th>    </tr>    <tr>        <th class=\"index_name level0\" >Survived</th>        <th class=\"blank\" ></th>        <th class=\"blank\" ></th>        <th class=\"blank\" ></th>        <th class=\"blank\" ></th>        <th class=\"blank\" ></th>        <th class=\"blank\" ></th>        <th class=\"blank\" ></th>        <th class=\"blank\" ></th>        <th class=\"blank\" ></th>        <th class=\"blank\" ></th>        <th class=\"blank\" ></th>        <th class=\"blank\" ></th>        <th class=\"blank\" ></th>        <th class=\"blank\" ></th>        <th class=\"blank\" ></th>        <th class=\"blank\" ></th>        <th class=\"blank\" ></th>    </tr></thead><tbody>\n",
              "                <tr>\n",
              "                        <th id=\"T_c7fcf39e_b13c_11eb_b3c5_0242ac1c0002level0_row0\" class=\"row_heading level0 row0\" >0.0</th>\n",
              "                        <td id=\"T_c7fcf39e_b13c_11eb_b3c5_0242ac1c0002row0_col0\" class=\"data row0 col0\" >1</td>\n",
              "                        <td id=\"T_c7fcf39e_b13c_11eb_b3c5_0242ac1c0002row0_col1\" class=\"data row0 col1\" >1</td>\n",
              "                        <td id=\"T_c7fcf39e_b13c_11eb_b3c5_0242ac1c0002row0_col2\" class=\"data row0 col2\" >1</td>\n",
              "                        <td id=\"T_c7fcf39e_b13c_11eb_b3c5_0242ac1c0002row0_col3\" class=\"data row0 col3\" >4</td>\n",
              "                        <td id=\"T_c7fcf39e_b13c_11eb_b3c5_0242ac1c0002row0_col4\" class=\"data row0 col4\" >1</td>\n",
              "                        <td id=\"T_c7fcf39e_b13c_11eb_b3c5_0242ac1c0002row0_col5\" class=\"data row0 col5\" >0</td>\n",
              "                        <td id=\"T_c7fcf39e_b13c_11eb_b3c5_0242ac1c0002row0_col6\" class=\"data row0 col6\" >1</td>\n",
              "                        <td id=\"T_c7fcf39e_b13c_11eb_b3c5_0242ac1c0002row0_col7\" class=\"data row0 col7\" >17</td>\n",
              "                        <td id=\"T_c7fcf39e_b13c_11eb_b3c5_0242ac1c0002row0_col8\" class=\"data row0 col8\" >55</td>\n",
              "                        <td id=\"T_c7fcf39e_b13c_11eb_b3c5_0242ac1c0002row0_col9\" class=\"data row0 col9\" >0</td>\n",
              "                        <td id=\"T_c7fcf39e_b13c_11eb_b3c5_0242ac1c0002row0_col10\" class=\"data row0 col10\" >0</td>\n",
              "                        <td id=\"T_c7fcf39e_b13c_11eb_b3c5_0242ac1c0002row0_col11\" class=\"data row0 col11\" >436</td>\n",
              "                        <td id=\"T_c7fcf39e_b13c_11eb_b3c5_0242ac1c0002row0_col12\" class=\"data row0 col12\" >26</td>\n",
              "                        <td id=\"T_c7fcf39e_b13c_11eb_b3c5_0242ac1c0002row0_col13\" class=\"data row0 col13\" >0</td>\n",
              "                        <td id=\"T_c7fcf39e_b13c_11eb_b3c5_0242ac1c0002row0_col14\" class=\"data row0 col14\" >6</td>\n",
              "                        <td id=\"T_c7fcf39e_b13c_11eb_b3c5_0242ac1c0002row0_col15\" class=\"data row0 col15\" >0</td>\n",
              "                        <td id=\"T_c7fcf39e_b13c_11eb_b3c5_0242ac1c0002row0_col16\" class=\"data row0 col16\" >0</td>\n",
              "            </tr>\n",
              "            <tr>\n",
              "                        <th id=\"T_c7fcf39e_b13c_11eb_b3c5_0242ac1c0002level0_row1\" class=\"row_heading level0 row1\" >1.0</th>\n",
              "                        <td id=\"T_c7fcf39e_b13c_11eb_b3c5_0242ac1c0002row1_col0\" class=\"data row1 col0\" >0</td>\n",
              "                        <td id=\"T_c7fcf39e_b13c_11eb_b3c5_0242ac1c0002row1_col1\" class=\"data row1 col1\" >1</td>\n",
              "                        <td id=\"T_c7fcf39e_b13c_11eb_b3c5_0242ac1c0002row1_col2\" class=\"data row1 col2\" >0</td>\n",
              "                        <td id=\"T_c7fcf39e_b13c_11eb_b3c5_0242ac1c0002row1_col3\" class=\"data row1 col3\" >3</td>\n",
              "                        <td id=\"T_c7fcf39e_b13c_11eb_b3c5_0242ac1c0002row1_col4\" class=\"data row1 col4\" >0</td>\n",
              "                        <td id=\"T_c7fcf39e_b13c_11eb_b3c5_0242ac1c0002row1_col5\" class=\"data row1 col5\" >1</td>\n",
              "                        <td id=\"T_c7fcf39e_b13c_11eb_b3c5_0242ac1c0002row1_col6\" class=\"data row1 col6\" >1</td>\n",
              "                        <td id=\"T_c7fcf39e_b13c_11eb_b3c5_0242ac1c0002row1_col7\" class=\"data row1 col7\" >23</td>\n",
              "                        <td id=\"T_c7fcf39e_b13c_11eb_b3c5_0242ac1c0002row1_col8\" class=\"data row1 col8\" >127</td>\n",
              "                        <td id=\"T_c7fcf39e_b13c_11eb_b3c5_0242ac1c0002row1_col9\" class=\"data row1 col9\" >2</td>\n",
              "                        <td id=\"T_c7fcf39e_b13c_11eb_b3c5_0242ac1c0002row1_col10\" class=\"data row1 col10\" >1</td>\n",
              "                        <td id=\"T_c7fcf39e_b13c_11eb_b3c5_0242ac1c0002row1_col11\" class=\"data row1 col11\" >81</td>\n",
              "                        <td id=\"T_c7fcf39e_b13c_11eb_b3c5_0242ac1c0002row1_col12\" class=\"data row1 col12\" >99</td>\n",
              "                        <td id=\"T_c7fcf39e_b13c_11eb_b3c5_0242ac1c0002row1_col13\" class=\"data row1 col13\" >1</td>\n",
              "                        <td id=\"T_c7fcf39e_b13c_11eb_b3c5_0242ac1c0002row1_col14\" class=\"data row1 col14\" >0</td>\n",
              "                        <td id=\"T_c7fcf39e_b13c_11eb_b3c5_0242ac1c0002row1_col15\" class=\"data row1 col15\" >1</td>\n",
              "                        <td id=\"T_c7fcf39e_b13c_11eb_b3c5_0242ac1c0002row1_col16\" class=\"data row1 col16\" >1</td>\n",
              "            </tr>\n",
              "    </tbody></table>"
            ],
            "text/plain": [
              "<pandas.io.formats.style.Styler at 0x7f7b0c2e3d90>"
            ]
          },
          "metadata": {
            "tags": []
          },
          "execution_count": 211
        }
      ]
    },
    {
      "cell_type": "markdown",
      "metadata": {
        "id": "GdQ0B0FTu5bM"
      },
      "source": [
        "####  各個稱謂的平均年齡\n",
        "如: Master 的平均年齡為5歲。"
      ]
    },
    {
      "cell_type": "code",
      "metadata": {
        "colab": {
          "base_uri": "https://localhost:8080/"
        },
        "id": "1ExbvK4OurY-",
        "outputId": "7c642b1b-efd1-4ffd-b38d-459528f02f79"
      },
      "source": [
        "data.groupby(['Title1'])['Age'].mean()"
      ],
      "execution_count": null,
      "outputs": [
        {
          "output_type": "execute_result",
          "data": {
            "text/plain": [
              "Title1\n",
              "Capt            70.000000\n",
              "Col             54.000000\n",
              "Don             40.000000\n",
              "Dona            39.000000\n",
              "Dr              43.571429\n",
              "Jonkheer        38.000000\n",
              "Lady            48.000000\n",
              "Major           48.500000\n",
              "Master           5.482642\n",
              "Miss            21.774238\n",
              "Mlle            24.000000\n",
              "Mme             24.000000\n",
              "Mr              32.252151\n",
              "Mrs             36.994118\n",
              "Ms              28.000000\n",
              "Rev             41.250000\n",
              "Sir             49.000000\n",
              "the Countess    33.000000\n",
              "Name: Age, dtype: float64"
            ]
          },
          "metadata": {
            "tags": []
          },
          "execution_count": 212
        }
      ]
    },
    {
      "cell_type": "markdown",
      "metadata": {
        "id": "meKEBnnkv8Jn"
      },
      "source": [
        "###  稱謂合併\n",
        "將較少數量的稱謂與多數的稱謂合併。"
      ]
    },
    {
      "cell_type": "code",
      "metadata": {
        "id": "WlxuuzM9u0fZ"
      },
      "source": [
        "data['Title2'] = data['Title1'].replace(['Mlle','Mme','Ms','Dr','Major','Lady','the Countess','Jonkheer','Col','Rev','Capt','Sir','Don','Dona'],\n",
        "          ['Miss','Mrs','Miss','Mr','Mr','Mrs','Mrs','Mr','Mr','Mr','Mr','Mr','Mr','Mrs'])"
      ],
      "execution_count": null,
      "outputs": []
    },
    {
      "cell_type": "code",
      "metadata": {
        "colab": {
          "base_uri": "https://localhost:8080/"
        },
        "id": "anWn_oBMwl11",
        "outputId": "f65867aa-9f1d-443f-97cc-b1cd14db2ca3"
      },
      "source": [
        "data['Title2'].unique()"
      ],
      "execution_count": null,
      "outputs": [
        {
          "output_type": "execute_result",
          "data": {
            "text/plain": [
              "array(['Mr', 'Mrs', 'Miss', 'Master'], dtype=object)"
            ]
          },
          "metadata": {
            "tags": []
          },
          "execution_count": 214
        }
      ]
    },
    {
      "cell_type": "code",
      "metadata": {
        "colab": {
          "base_uri": "https://localhost:8080/",
          "height": 104
        },
        "id": "tjwpsildwrxp",
        "outputId": "f22194ac-0b08-448d-8b18-41ecd787d7fc"
      },
      "source": [
        "pd.crosstab(data['Title2'], data['Sex']).T.style.background_gradient(cmap='summer_r')"
      ],
      "execution_count": null,
      "outputs": [
        {
          "output_type": "execute_result",
          "data": {
            "text/html": [
              "<style  type=\"text/css\" >\n",
              "#T_c80df054_b13c_11eb_b3c5_0242ac1c0002row0_col0,#T_c80df054_b13c_11eb_b3c5_0242ac1c0002row0_col2,#T_c80df054_b13c_11eb_b3c5_0242ac1c0002row1_col1,#T_c80df054_b13c_11eb_b3c5_0242ac1c0002row1_col3{\n",
              "            background-color:  #ffff66;\n",
              "            color:  #000000;\n",
              "        }#T_c80df054_b13c_11eb_b3c5_0242ac1c0002row0_col1,#T_c80df054_b13c_11eb_b3c5_0242ac1c0002row0_col3,#T_c80df054_b13c_11eb_b3c5_0242ac1c0002row1_col0,#T_c80df054_b13c_11eb_b3c5_0242ac1c0002row1_col2{\n",
              "            background-color:  #008066;\n",
              "            color:  #f1f1f1;\n",
              "        }</style><table id=\"T_c80df054_b13c_11eb_b3c5_0242ac1c0002\" ><thead>    <tr>        <th class=\"index_name level0\" >Title2</th>        <th class=\"col_heading level0 col0\" >Master</th>        <th class=\"col_heading level0 col1\" >Miss</th>        <th class=\"col_heading level0 col2\" >Mr</th>        <th class=\"col_heading level0 col3\" >Mrs</th>    </tr>    <tr>        <th class=\"index_name level0\" >Sex</th>        <th class=\"blank\" ></th>        <th class=\"blank\" ></th>        <th class=\"blank\" ></th>        <th class=\"blank\" ></th>    </tr></thead><tbody>\n",
              "                <tr>\n",
              "                        <th id=\"T_c80df054_b13c_11eb_b3c5_0242ac1c0002level0_row0\" class=\"row_heading level0 row0\" >female</th>\n",
              "                        <td id=\"T_c80df054_b13c_11eb_b3c5_0242ac1c0002row0_col0\" class=\"data row0 col0\" >0</td>\n",
              "                        <td id=\"T_c80df054_b13c_11eb_b3c5_0242ac1c0002row0_col1\" class=\"data row0 col1\" >264</td>\n",
              "                        <td id=\"T_c80df054_b13c_11eb_b3c5_0242ac1c0002row0_col2\" class=\"data row0 col2\" >1</td>\n",
              "                        <td id=\"T_c80df054_b13c_11eb_b3c5_0242ac1c0002row0_col3\" class=\"data row0 col3\" >201</td>\n",
              "            </tr>\n",
              "            <tr>\n",
              "                        <th id=\"T_c80df054_b13c_11eb_b3c5_0242ac1c0002level0_row1\" class=\"row_heading level0 row1\" >male</th>\n",
              "                        <td id=\"T_c80df054_b13c_11eb_b3c5_0242ac1c0002row1_col0\" class=\"data row1 col0\" >61</td>\n",
              "                        <td id=\"T_c80df054_b13c_11eb_b3c5_0242ac1c0002row1_col1\" class=\"data row1 col1\" >0</td>\n",
              "                        <td id=\"T_c80df054_b13c_11eb_b3c5_0242ac1c0002row1_col2\" class=\"data row1 col2\" >782</td>\n",
              "                        <td id=\"T_c80df054_b13c_11eb_b3c5_0242ac1c0002row1_col3\" class=\"data row1 col3\" >0</td>\n",
              "            </tr>\n",
              "    </tbody></table>"
            ],
            "text/plain": [
              "<pandas.io.formats.style.Styler at 0x7f7b09ba3150>"
            ]
          },
          "metadata": {
            "tags": []
          },
          "execution_count": 215
        }
      ]
    },
    {
      "cell_type": "code",
      "metadata": {
        "colab": {
          "base_uri": "https://localhost:8080/",
          "height": 104
        },
        "id": "jZ2Bpl4C8AoF",
        "outputId": "a5426eaf-8ef8-4c2f-de5c-3d481a26ac62"
      },
      "source": [
        "pd.crosstab(data['Title2'], data['Survived']).T.style.background_gradient(cmap='summer_r')"
      ],
      "execution_count": null,
      "outputs": [
        {
          "output_type": "execute_result",
          "data": {
            "text/html": [
              "<style  type=\"text/css\" >\n",
              "#T_c8147834_b13c_11eb_b3c5_0242ac1c0002row0_col0,#T_c8147834_b13c_11eb_b3c5_0242ac1c0002row0_col1,#T_c8147834_b13c_11eb_b3c5_0242ac1c0002row0_col3,#T_c8147834_b13c_11eb_b3c5_0242ac1c0002row1_col2{\n",
              "            background-color:  #ffff66;\n",
              "            color:  #000000;\n",
              "        }#T_c8147834_b13c_11eb_b3c5_0242ac1c0002row0_col2,#T_c8147834_b13c_11eb_b3c5_0242ac1c0002row1_col0,#T_c8147834_b13c_11eb_b3c5_0242ac1c0002row1_col1,#T_c8147834_b13c_11eb_b3c5_0242ac1c0002row1_col3{\n",
              "            background-color:  #008066;\n",
              "            color:  #f1f1f1;\n",
              "        }</style><table id=\"T_c8147834_b13c_11eb_b3c5_0242ac1c0002\" ><thead>    <tr>        <th class=\"index_name level0\" >Title2</th>        <th class=\"col_heading level0 col0\" >Master</th>        <th class=\"col_heading level0 col1\" >Miss</th>        <th class=\"col_heading level0 col2\" >Mr</th>        <th class=\"col_heading level0 col3\" >Mrs</th>    </tr>    <tr>        <th class=\"index_name level0\" >Survived</th>        <th class=\"blank\" ></th>        <th class=\"blank\" ></th>        <th class=\"blank\" ></th>        <th class=\"blank\" ></th>    </tr></thead><tbody>\n",
              "                <tr>\n",
              "                        <th id=\"T_c8147834_b13c_11eb_b3c5_0242ac1c0002level0_row0\" class=\"row_heading level0 row0\" >0.0</th>\n",
              "                        <td id=\"T_c8147834_b13c_11eb_b3c5_0242ac1c0002row0_col0\" class=\"data row0 col0\" >17</td>\n",
              "                        <td id=\"T_c8147834_b13c_11eb_b3c5_0242ac1c0002row0_col1\" class=\"data row0 col1\" >55</td>\n",
              "                        <td id=\"T_c8147834_b13c_11eb_b3c5_0242ac1c0002row0_col2\" class=\"data row0 col2\" >451</td>\n",
              "                        <td id=\"T_c8147834_b13c_11eb_b3c5_0242ac1c0002row0_col3\" class=\"data row0 col3\" >26</td>\n",
              "            </tr>\n",
              "            <tr>\n",
              "                        <th id=\"T_c8147834_b13c_11eb_b3c5_0242ac1c0002level0_row1\" class=\"row_heading level0 row1\" >1.0</th>\n",
              "                        <td id=\"T_c8147834_b13c_11eb_b3c5_0242ac1c0002row1_col0\" class=\"data row1 col0\" >23</td>\n",
              "                        <td id=\"T_c8147834_b13c_11eb_b3c5_0242ac1c0002row1_col1\" class=\"data row1 col1\" >130</td>\n",
              "                        <td id=\"T_c8147834_b13c_11eb_b3c5_0242ac1c0002row1_col2\" class=\"data row1 col2\" >87</td>\n",
              "                        <td id=\"T_c8147834_b13c_11eb_b3c5_0242ac1c0002row1_col3\" class=\"data row1 col3\" >102</td>\n",
              "            </tr>\n",
              "    </tbody></table>"
            ],
            "text/plain": [
              "<pandas.io.formats.style.Styler at 0x7f7b09c18610>"
            ]
          },
          "metadata": {
            "tags": []
          },
          "execution_count": 216
        }
      ]
    },
    {
      "cell_type": "markdown",
      "metadata": {
        "id": "oNK6AHI6KWJU"
      },
      "source": [
        "##  提取票號資訊\n",
        "英文代碼可能代表房間位置，後面號碼無意義可省略。"
      ]
    },
    {
      "cell_type": "code",
      "metadata": {
        "id": "Q2wxDTFC8Gx8"
      },
      "source": [
        "# 若票號只有號碼，以 'X' 表示。\n",
        "data['Ticket_info'] = data['Ticket'].apply(lambda x : x.replace(\".\",\"\").replace(\"/\",\"\").strip().split(' ')[0] if not x.isdigit() else 'X')"
      ],
      "execution_count": null,
      "outputs": []
    },
    {
      "cell_type": "code",
      "metadata": {
        "colab": {
          "base_uri": "https://localhost:8080/"
        },
        "id": "PQE7MLiHKDb7",
        "outputId": "182c761a-43bf-495b-c774-8712d3543558"
      },
      "source": [
        "data['Ticket_info'].unique()"
      ],
      "execution_count": null,
      "outputs": [
        {
          "output_type": "execute_result",
          "data": {
            "text/plain": [
              "array(['A5', 'PC', 'STONO2', 'X', 'PP', 'CA', 'SCParis', 'SCA4', 'A4',\n",
              "       'SP', 'SOC', 'WC', 'SOTONOQ', 'WEP', 'STONO', 'C', 'SCPARIS',\n",
              "       'SOP', 'Fa', 'LINE', 'FCC', 'SWPP', 'SCOW', 'PPP', 'SC', 'SCAH',\n",
              "       'AS', 'SOPP', 'FC', 'SOTONO2', 'CASOTON', 'SCA3', 'STONOQ', 'AQ4',\n",
              "       'A', 'LP', 'AQ3'], dtype=object)"
            ]
          },
          "metadata": {
            "tags": []
          },
          "execution_count": 218
        }
      ]
    },
    {
      "cell_type": "code",
      "metadata": {
        "colab": {
          "base_uri": "https://localhost:8080/",
          "height": 355
        },
        "id": "H7q-hF1uKLSt",
        "outputId": "2ed1ac17-3d75-4487-f3d8-43e65852d258"
      },
      "source": [
        "sns.countplot(data['Ticket_info'], hue=data['Survived'])"
      ],
      "execution_count": null,
      "outputs": [
        {
          "output_type": "stream",
          "text": [
            "/usr/local/lib/python3.7/dist-packages/seaborn/_decorators.py:43: FutureWarning: Pass the following variable as a keyword arg: x. From version 0.12, the only valid positional argument will be `data`, and passing other arguments without an explicit keyword will result in an error or misinterpretation.\n",
            "  FutureWarning\n"
          ],
          "name": "stderr"
        },
        {
          "output_type": "execute_result",
          "data": {
            "text/plain": [
              "<matplotlib.axes._subplots.AxesSubplot at 0x7f7b09c04610>"
            ]
          },
          "metadata": {
            "tags": []
          },
          "execution_count": 219
        },
        {
          "output_type": "display_data",
          "data": {
            "image/png": "[encoded data removed]",
            "text/plain": [
              "<Figure size 432x288 with 1 Axes>"
            ]
          },
          "metadata": {
            "tags": [],
            "needs_background": "light"
          }
        }
      ]
    },
    {
      "cell_type": "markdown",
      "metadata": {
        "id": "LhL_KYjfLQ1g"
      },
      "source": [
        "## 補遺漏值"
      ]
    },
    {
      "cell_type": "markdown",
      "metadata": {
        "id": "kT4j7lH1LXQc"
      },
      "source": [
        "###  登船港口(Embarked)\n",
        "只遺漏少數，補上出現次數最多的'S'。"
      ]
    },
    {
      "cell_type": "code",
      "metadata": {
        "id": "GNFdMGgCKL6k"
      },
      "source": [
        "data['Embarked'] = data['Embarked'].fillna('S')"
      ],
      "execution_count": null,
      "outputs": []
    },
    {
      "cell_type": "markdown",
      "metadata": {
        "id": "gGBhiXuFLoKp"
      },
      "source": [
        "###  費用(Fare)\n",
        "只遺漏一筆，補上平均值。"
      ]
    },
    {
      "cell_type": "code",
      "metadata": {
        "id": "SAAg60l6LNHS"
      },
      "source": [
        "data['Fare'] = data['Fare'].fillna(data['Fare'].mean())"
      ],
      "execution_count": null,
      "outputs": []
    },
    {
      "cell_type": "markdown",
      "metadata": {
        "id": "MZ4223OIMPeu"
      },
      "source": [
        "##  取出 Cabin 前面的英文字母\n",
        "取出 Cabin 前面的英文字母，剩下的用 NoCabin 表示。"
      ]
    },
    {
      "cell_type": "code",
      "metadata": {
        "colab": {
          "base_uri": "https://localhost:8080/"
        },
        "id": "3KovRbCNMD9S",
        "outputId": "d1c54ef4-cd8d-4ed0-997a-e4253add8748"
      },
      "source": [
        "data['Cabin'].head(10)"
      ],
      "execution_count": null,
      "outputs": [
        {
          "output_type": "execute_result",
          "data": {
            "text/plain": [
              "0     NaN\n",
              "1     C85\n",
              "2     NaN\n",
              "3    C123\n",
              "4     NaN\n",
              "5     NaN\n",
              "6     E46\n",
              "7     NaN\n",
              "8     NaN\n",
              "9     NaN\n",
              "Name: Cabin, dtype: object"
            ]
          },
          "metadata": {
            "tags": []
          },
          "execution_count": 222
        }
      ]
    },
    {
      "cell_type": "code",
      "metadata": {
        "id": "Juc01V0JMGay"
      },
      "source": [
        "# lambda 匿名函式，不須定義名稱。\n",
        "data[\"Cabin\"] = data['Cabin'].apply(lambda x : str(x)[0] if not pd.isnull(x) else 'NoCabin')"
      ],
      "execution_count": null,
      "outputs": []
    },
    {
      "cell_type": "code",
      "metadata": {
        "colab": {
          "base_uri": "https://localhost:8080/"
        },
        "id": "jPeXkEo8MIub",
        "outputId": "53696434-cbf6-4711-c367-89f605e5660a"
      },
      "source": [
        "data[\"Cabin\"].unique()"
      ],
      "execution_count": null,
      "outputs": [
        {
          "output_type": "execute_result",
          "data": {
            "text/plain": [
              "array(['NoCabin', 'C', 'E', 'G', 'D', 'A', 'B', 'F', 'T'], dtype=object)"
            ]
          },
          "metadata": {
            "tags": []
          },
          "execution_count": 224
        }
      ]
    },
    {
      "cell_type": "code",
      "metadata": {
        "colab": {
          "base_uri": "https://localhost:8080/",
          "height": 356
        },
        "id": "poGXig-XMMJ4",
        "outputId": "a7fe0ea7-705c-4de1-bc80-ace4d7433cae"
      },
      "source": [
        "sns.countplot(data['Cabin'], hue=data['Survived'])"
      ],
      "execution_count": null,
      "outputs": [
        {
          "output_type": "stream",
          "text": [
            "/usr/local/lib/python3.7/dist-packages/seaborn/_decorators.py:43: FutureWarning: Pass the following variable as a keyword arg: x. From version 0.12, the only valid positional argument will be `data`, and passing other arguments without an explicit keyword will result in an error or misinterpretation.\n",
            "  FutureWarning\n"
          ],
          "name": "stderr"
        },
        {
          "output_type": "execute_result",
          "data": {
            "text/plain": [
              "<matplotlib.axes._subplots.AxesSubplot at 0x7f7b09a32f50>"
            ]
          },
          "metadata": {
            "tags": []
          },
          "execution_count": 225
        },
        {
          "output_type": "display_data",
          "data": {
            "image/png": "[encoded data removed]",
            "text/plain": [
              "<Figure size 432x288 with 1 Axes>"
            ]
          },
          "metadata": {
            "tags": [],
            "needs_background": "light"
          }
        }
      ]
    },
    {
      "cell_type": "markdown",
      "metadata": {
        "id": "v5LFFN8GNCoo"
      },
      "source": [
        "##  將類別資料轉為整數"
      ]
    },
    {
      "cell_type": "code",
      "metadata": {
        "id": "1R8GFa3ZNF19"
      },
      "source": [
        "data['Sex'] = data['Sex'].astype('category').cat.codes\n",
        "data['Embarked'] = data['Embarked'].astype('category').cat.codes\n",
        "data['Pclass'] = data['Pclass'].astype('category').cat.codes\n",
        "data['Title1'] = data['Title1'].astype('category').cat.codes\n",
        "data['Title2'] = data['Title2'].astype('category').cat.codes\n",
        "data['Cabin'] = data['Cabin'].astype('category').cat.codes\n",
        "data['Ticket_info'] = data['Ticket_info'].astype('category').cat.codes"
      ],
      "execution_count": null,
      "outputs": []
    },
    {
      "cell_type": "markdown",
      "metadata": {
        "id": "lHYXpYmjkQfY"
      },
      "source": [
        "data\n",
        "\n",
        "|  | col1 | col2 | col3 |\n",
        "| --- | --- | --- | --- |\n",
        "| 0 | A | aa | yes |\n",
        "| 1 | B | bb | no |\n",
        "| 2 | C | bb | yes |\n",
        "| 3 | A | cc | yes |\n",
        "\n",
        "<hr>\n",
        "\n",
        "data.astype('category')\n",
        "\n",
        "|  | col1 | col2 | col3 |\n",
        "| --- | --- | --- | --- |\n",
        "| 0 | 0 | 0 | 1 |\n",
        "| 1 | 1 | 1 | 0 |\n",
        "| 2 | 2 | 1 | 1 |\n",
        "| 3 | 0 | 2 | 1 |\n"
      ]
    },
    {
      "cell_type": "code",
      "metadata": {
        "colab": {
          "base_uri": "https://localhost:8080/"
        },
        "id": "AOrvj4oUn6vH",
        "outputId": "d199070a-0e5e-4ee8-8e61-656e9309908c"
      },
      "source": [
        "data['Cabin'].astype('category').dtype"
      ],
      "execution_count": null,
      "outputs": [
        {
          "output_type": "execute_result",
          "data": {
            "text/plain": [
              "CategoricalDtype(categories=[0, 1, 2, 3, 4, 5, 6, 7, 8], ordered=False)"
            ]
          },
          "metadata": {
            "tags": []
          },
          "execution_count": 227
        }
      ]
    },
    {
      "cell_type": "code",
      "metadata": {
        "colab": {
          "base_uri": "https://localhost:8080/"
        },
        "id": "pe7S0RspsNl8",
        "outputId": "a100323a-cd13-4640-e8d0-e10634da69e2"
      },
      "source": [
        "data['Cabin'].astype('category').unique()"
      ],
      "execution_count": null,
      "outputs": [
        {
          "output_type": "execute_result",
          "data": {
            "text/plain": [
              "[7, 2, 4, 6, 3, 0, 1, 5, 8]\n",
              "Categories (9, int64): [7, 2, 4, 6, ..., 0, 1, 5, 8]"
            ]
          },
          "metadata": {
            "tags": []
          },
          "execution_count": 228
        }
      ]
    },
    {
      "cell_type": "code",
      "metadata": {
        "colab": {
          "base_uri": "https://localhost:8080/"
        },
        "id": "rnTHI_gxpcen",
        "outputId": "2fa586c5-2a39-46a2-f61e-e7bb5841a4fb"
      },
      "source": [
        "data['Cabin'].astype('category').describe()"
      ],
      "execution_count": null,
      "outputs": [
        {
          "output_type": "execute_result",
          "data": {
            "text/plain": [
              "count     1309\n",
              "unique       9\n",
              "top          7\n",
              "freq      1014\n",
              "Name: Cabin, dtype: int64"
            ]
          },
          "metadata": {
            "tags": []
          },
          "execution_count": 229
        }
      ]
    },
    {
      "cell_type": "markdown",
      "metadata": {
        "id": "efAcySgrNaB6"
      },
      "source": [
        "## 使用隨機森林(Random Forest)演算法來推測年齡\n",
        "結合多個弱學習器來建構一個強穩的模型\n"
      ]
    },
    {
      "cell_type": "markdown",
      "metadata": {
        "id": "A2IjGfbYSjnI"
      },
      "source": [
        "RandomForestRegressor\n",
        "\n",
        "Kaggle -> 4-51\n",
        "\n",
        "[n_estimators](http://www.taroballz.com/2019/05/25/ML_RandomForest_Classifier/)\n",
        "\n",
        "[random_state](https://www.jianshu.com/p/4deb2cb2502f) -> 值可以隨機設定，設定固定的值確保輸出一樣  -  [reference](https://medium.com/jameslearningnote/%E8%B3%87%E6%96%99%E5%88%86%E6%9E%90-%E6%A9%9F%E5%99%A8%E5%AD%B8%E7%BF%92-%E7%AC%AC4-2%E8%AC%9B-%E5%85%B1%E4%BA%AB%E5%96%AE%E8%BB%8A%E9%9C%80%E6%B1%82%E9%A0%90%E6%B8%AC-%E5%89%8D17-%E6%8E%92%E5%90%8D-505ed7100825)"
      ]
    },
    {
      "cell_type": "code",
      "metadata": {
        "colab": {
          "base_uri": "https://localhost:8080/"
        },
        "id": "txmWVSv8NZY9",
        "outputId": "3eda3f79-0d0b-4144-e687-0bdce3889844"
      },
      "source": [
        "# 消除非空值的異常值\n",
        "dataAgeNull = data[data[\"Age\"].isnull()]\n",
        "dataAgeNotNull = data[data[\"Age\"].notnull()]\n",
        "remove_outlier = dataAgeNotNull[(np.abs(dataAgeNotNull[\"Fare\"]-dataAgeNotNull[\"Fare\"].mean())>(4*dataAgeNotNull[\"Fare\"].std()))|\n",
        "                      (np.abs(dataAgeNotNull[\"Family_Size\"]-dataAgeNotNull[\"Family_Size\"].mean())>(4*dataAgeNotNull[\"Family_Size\"].std()))                     \n",
        "                     ]\n",
        "# 將資料迴歸，並進行預測\n",
        "rfModel_age = RandomForestRegressor(n_estimators=2000,random_state=42)  # n_estimators:弱學習器的個數，森林中樹木的數量；random_state:控制構建樹時使用的樣本隨機性\n",
        "ageColumns = ['Embarked', 'Fare', 'Pclass', 'Sex', 'Family_Size', 'Title1', 'Title2','Cabin','Ticket_info']\n",
        "rfModel_age.fit(remove_outlier[ageColumns], remove_outlier[\"Age\"]) # fit -> 將其標準化\n",
        "\n",
        "# 預測年齡\n",
        "ageNullValues = rfModel_age.predict(X= dataAgeNull[ageColumns])\n",
        "dataAgeNull.loc[:,\"Age\"] = ageNullValues # loc 利用index的標籤取出資料\n",
        "\n",
        "# 將預測的年齡  與  原先擁有年齡的資料  合併\n",
        "data = dataAgeNull.append(dataAgeNotNull)\n",
        "data.reset_index(inplace=True, drop=True)"
      ],
      "execution_count": null,
      "outputs": [
        {
          "output_type": "stream",
          "text": [
            "/usr/local/lib/python3.7/dist-packages/pandas/core/indexing.py:1743: SettingWithCopyWarning: \n",
            "A value is trying to be set on a copy of a slice from a DataFrame.\n",
            "Try using .loc[row_indexer,col_indexer] = value instead\n",
            "\n",
            "See the caveats in the documentation: https://pandas.pydata.org/pandas-docs/stable/user_guide/indexing.html#returning-a-view-versus-a-copy\n",
            "  isetter(ilocs[0], value)\n"
          ],
          "name": "stderr"
        }
      ]
    },
    {
      "cell_type": "code",
      "metadata": {
        "id": "tWFFlb7SOGJR"
      },
      "source": [
        "# DataFrame.sort_values() 對 DataFrame 進行排序\n",
        "dataTrain = data[pd.notnull(data['Survived'])].sort_values(by=[\"PassengerId\"])\n",
        "dataTest = data[~pd.notnull(data['Survived'])].sort_values(by=[\"PassengerId\"])"
      ],
      "execution_count": null,
      "outputs": []
    },
    {
      "cell_type": "code",
      "metadata": {
        "colab": {
          "base_uri": "https://localhost:8080/"
        },
        "id": "ghDYZw8bOMW0",
        "outputId": "f20d5e38-d54b-4825-8a79-d21514ed8ddd"
      },
      "source": [
        "dataTrain.columns"
      ],
      "execution_count": null,
      "outputs": [
        {
          "output_type": "execute_result",
          "data": {
            "text/plain": [
              "Index(['PassengerId', 'Survived', 'Pclass', 'Name', 'Sex', 'Age', 'SibSp',\n",
              "       'Parch', 'Ticket', 'Fare', 'Cabin', 'Embarked', 'Family_Size', 'Title1',\n",
              "       'Title2', 'Ticket_info'],\n",
              "      dtype='object')"
            ]
          },
          "metadata": {
            "tags": []
          },
          "execution_count": 232
        }
      ]
    },
    {
      "cell_type": "code",
      "metadata": {
        "id": "MHq_VxeeOOBX"
      },
      "source": [
        "dataTrain = dataTrain[['Survived', 'Age', 'Embarked', 'Fare',  'Pclass', 'Sex', 'Family_Size', 'Title2','Ticket_info','Cabin']]\n",
        "dataTest = dataTest[['Age', 'Embarked', 'Fare', 'Pclass', 'Sex', 'Family_Size', 'Title2','Ticket_info','Cabin']]"
      ],
      "execution_count": null,
      "outputs": []
    },
    {
      "cell_type": "code",
      "metadata": {
        "colab": {
          "base_uri": "https://localhost:8080/",
          "height": 424
        },
        "id": "W299-J34OQUd",
        "outputId": "f0864781-d20f-4360-8c0c-11d70d092086"
      },
      "source": [
        "dataTrain"
      ],
      "execution_count": null,
      "outputs": [
        {
          "output_type": "execute_result",
          "data": {
            "text/html": [
              "<div>\n",
              "<style scoped>\n",
              "    .dataframe tbody tr th:only-of-type {\n",
              "        vertical-align: middle;\n",
              "    }\n",
              "\n",
              "    .dataframe tbody tr th {\n",
              "        vertical-align: top;\n",
              "    }\n",
              "\n",
              "    .dataframe thead th {\n",
              "        text-align: right;\n",
              "    }\n",
              "</style>\n",
              "<table border=\"1\" class=\"dataframe\">\n",
              "  <thead>\n",
              "    <tr style=\"text-align: right;\">\n",
              "      <th></th>\n",
              "      <th>Survived</th>\n",
              "      <th>Age</th>\n",
              "      <th>Embarked</th>\n",
              "      <th>Fare</th>\n",
              "      <th>Pclass</th>\n",
              "      <th>Sex</th>\n",
              "      <th>Family_Size</th>\n",
              "      <th>Title2</th>\n",
              "      <th>Ticket_info</th>\n",
              "      <th>Cabin</th>\n",
              "    </tr>\n",
              "  </thead>\n",
              "  <tbody>\n",
              "    <tr>\n",
              "      <th>263</th>\n",
              "      <td>0.0</td>\n",
              "      <td>22.000000</td>\n",
              "      <td>2</td>\n",
              "      <td>7.2500</td>\n",
              "      <td>2</td>\n",
              "      <td>1</td>\n",
              "      <td>1</td>\n",
              "      <td>2</td>\n",
              "      <td>2</td>\n",
              "      <td>7</td>\n",
              "    </tr>\n",
              "    <tr>\n",
              "      <th>264</th>\n",
              "      <td>1.0</td>\n",
              "      <td>38.000000</td>\n",
              "      <td>0</td>\n",
              "      <td>71.2833</td>\n",
              "      <td>0</td>\n",
              "      <td>0</td>\n",
              "      <td>1</td>\n",
              "      <td>3</td>\n",
              "      <td>14</td>\n",
              "      <td>2</td>\n",
              "    </tr>\n",
              "    <tr>\n",
              "      <th>265</th>\n",
              "      <td>1.0</td>\n",
              "      <td>26.000000</td>\n",
              "      <td>2</td>\n",
              "      <td>7.9250</td>\n",
              "      <td>2</td>\n",
              "      <td>0</td>\n",
              "      <td>0</td>\n",
              "      <td>1</td>\n",
              "      <td>31</td>\n",
              "      <td>7</td>\n",
              "    </tr>\n",
              "    <tr>\n",
              "      <th>266</th>\n",
              "      <td>1.0</td>\n",
              "      <td>35.000000</td>\n",
              "      <td>2</td>\n",
              "      <td>53.1000</td>\n",
              "      <td>0</td>\n",
              "      <td>0</td>\n",
              "      <td>1</td>\n",
              "      <td>3</td>\n",
              "      <td>36</td>\n",
              "      <td>2</td>\n",
              "    </tr>\n",
              "    <tr>\n",
              "      <th>267</th>\n",
              "      <td>0.0</td>\n",
              "      <td>35.000000</td>\n",
              "      <td>2</td>\n",
              "      <td>8.0500</td>\n",
              "      <td>2</td>\n",
              "      <td>1</td>\n",
              "      <td>0</td>\n",
              "      <td>2</td>\n",
              "      <td>36</td>\n",
              "      <td>7</td>\n",
              "    </tr>\n",
              "    <tr>\n",
              "      <th>...</th>\n",
              "      <td>...</td>\n",
              "      <td>...</td>\n",
              "      <td>...</td>\n",
              "      <td>...</td>\n",
              "      <td>...</td>\n",
              "      <td>...</td>\n",
              "      <td>...</td>\n",
              "      <td>...</td>\n",
              "      <td>...</td>\n",
              "      <td>...</td>\n",
              "    </tr>\n",
              "    <tr>\n",
              "      <th>973</th>\n",
              "      <td>0.0</td>\n",
              "      <td>27.000000</td>\n",
              "      <td>2</td>\n",
              "      <td>13.0000</td>\n",
              "      <td>1</td>\n",
              "      <td>1</td>\n",
              "      <td>0</td>\n",
              "      <td>2</td>\n",
              "      <td>36</td>\n",
              "      <td>7</td>\n",
              "    </tr>\n",
              "    <tr>\n",
              "      <th>974</th>\n",
              "      <td>1.0</td>\n",
              "      <td>19.000000</td>\n",
              "      <td>2</td>\n",
              "      <td>30.0000</td>\n",
              "      <td>0</td>\n",
              "      <td>0</td>\n",
              "      <td>0</td>\n",
              "      <td>1</td>\n",
              "      <td>36</td>\n",
              "      <td>1</td>\n",
              "    </tr>\n",
              "    <tr>\n",
              "      <th>176</th>\n",
              "      <td>0.0</td>\n",
              "      <td>19.099409</td>\n",
              "      <td>2</td>\n",
              "      <td>23.4500</td>\n",
              "      <td>2</td>\n",
              "      <td>0</td>\n",
              "      <td>3</td>\n",
              "      <td>1</td>\n",
              "      <td>34</td>\n",
              "      <td>7</td>\n",
              "    </tr>\n",
              "    <tr>\n",
              "      <th>975</th>\n",
              "      <td>1.0</td>\n",
              "      <td>26.000000</td>\n",
              "      <td>0</td>\n",
              "      <td>30.0000</td>\n",
              "      <td>0</td>\n",
              "      <td>1</td>\n",
              "      <td>0</td>\n",
              "      <td>2</td>\n",
              "      <td>36</td>\n",
              "      <td>2</td>\n",
              "    </tr>\n",
              "    <tr>\n",
              "      <th>976</th>\n",
              "      <td>0.0</td>\n",
              "      <td>32.000000</td>\n",
              "      <td>1</td>\n",
              "      <td>7.7500</td>\n",
              "      <td>2</td>\n",
              "      <td>1</td>\n",
              "      <td>0</td>\n",
              "      <td>2</td>\n",
              "      <td>36</td>\n",
              "      <td>7</td>\n",
              "    </tr>\n",
              "  </tbody>\n",
              "</table>\n",
              "<p>891 rows × 10 columns</p>\n",
              "</div>"
            ],
            "text/plain": [
              "     Survived        Age  Embarked  ...  Title2  Ticket_info  Cabin\n",
              "263       0.0  22.000000         2  ...       2            2      7\n",
              "264       1.0  38.000000         0  ...       3           14      2\n",
              "265       1.0  26.000000         2  ...       1           31      7\n",
              "266       1.0  35.000000         2  ...       3           36      2\n",
              "267       0.0  35.000000         2  ...       2           36      7\n",
              "..        ...        ...       ...  ...     ...          ...    ...\n",
              "973       0.0  27.000000         2  ...       2           36      7\n",
              "974       1.0  19.000000         2  ...       1           36      1\n",
              "176       0.0  19.099409         2  ...       1           34      7\n",
              "975       1.0  26.000000         0  ...       2           36      2\n",
              "976       0.0  32.000000         1  ...       2           36      7\n",
              "\n",
              "[891 rows x 10 columns]"
            ]
          },
          "metadata": {
            "tags": []
          },
          "execution_count": 234
        }
      ]
    },
    {
      "cell_type": "markdown",
      "metadata": {
        "id": "s7t_BwdbO6-0"
      },
      "source": [
        "## Model training \n",
        "使用Random Forest 預測存活率。"
      ]
    },
    {
      "cell_type": "markdown",
      "metadata": {
        "id": "adHi0ObBiNxk"
      },
      "source": [
        "[criterion](https://ithelp.ithome.com.tw/articles/10228027) -> 決策樹的分類依據 - [gini index 公式範例](https://ithelp.ithome.com.tw/articles/10204450) 、 [RandomForest 介紹](https://rstudio-pubs-static.s3.amazonaws.com/378052_30d987a09ea54b6db5aa1e82f5dce6bf.html)\n",
        "\n",
        "[min_samples](https://www.facebook.com/notes/python-scikit-learn/%E6%A9%9F%E5%99%A8%E5%AD%B8%E7%BF%92_ml_decisiontreeclassifier%E6%B1%BA%E7%AD%96%E6%A8%B9/802425689936465/) -> 限制決策樹，避免樹長過高造成overfit\n",
        "\n",
        "[oob_score](https://towardsdatascience.com/what-is-out-of-bag-oob-score-in-random-forest-a7fa23d710) -> 被忽略遺漏的資料\n",
        "\n",
        "[n_jobs](https://ithelp.ithome.com.tw/articles/10234203) -> =n: n個組合同步執行  ；  = -1: 使用cpu的所有處理器做同步執行\n",
        "\n",
        "[oob_score_](https://www.coder.work/article/6657620) -> float使用袋外估計值獲得的訓練數據集的分數\n",
        "\n",
        "[random_state](http://www.taroballz.com/2019/05/15/ML_decision_tree_detail/) -> 生成同一棵樹，讓模型穩定"
      ]
    },
    {
      "cell_type": "code",
      "metadata": {
        "colab": {
          "base_uri": "https://localhost:8080/"
        },
        "id": "VLgCw6DFOy0_",
        "outputId": "77d4c3e5-b77d-4b5c-8699-89024e580bf1"
      },
      "source": [
        "from sklearn.ensemble import RandomForestClassifier\n",
        " \n",
        "rf = RandomForestClassifier(criterion='gini',         # gini不純度表示一個隨機選中的樣本在子集中被分錯的可能性。\n",
        "                             n_estimators=1000,\n",
        "                             min_samples_split=12,    # 最少需要多少樣本數量才會再往下展開新的節點\n",
        "                             min_samples_leaf=1,      # 每一節點的最小樣本數，達成才會產生該節點\n",
        "                             oob_score=True,\n",
        "                             random_state=1,\n",
        "                             n_jobs=-1) \n",
        "\n",
        "rf.fit(dataTrain.iloc[:, 1:], dataTrain.iloc[:, 0])  # iloc: 利用index的位置取出資料\n",
        "print(\"%.4f\" % rf.oob_score_)"
      ],
      "execution_count": null,
      "outputs": [
        {
          "output_type": "stream",
          "text": [
            "0.8294\n"
          ],
          "name": "stdout"
        }
      ]
    },
    {
      "cell_type": "markdown",
      "metadata": {
        "id": "_y8YwW76pL3I"
      },
      "source": [
        "[concat](http://violin-tao.blogspot.com/2017/06/pandas-2-concat-merge.html) -> axis=1 左右資料合併 ； axis=0 直向合併"
      ]
    },
    {
      "cell_type": "code",
      "metadata": {
        "colab": {
          "base_uri": "https://localhost:8080/",
          "height": 331
        },
        "id": "YGM1hXQ2O2Y6",
        "outputId": "3c0796a4-9fdf-4906-9bdb-cff4d5033b89"
      },
      "source": [
        "pd.concat((pd.DataFrame(dataTrain.iloc[:, 1:].columns, columns = ['variable']), \n",
        "           pd.DataFrame(rf.feature_importances_, columns = ['importance'])), \n",
        "          axis = 1).sort_values(by='importance', ascending = False)[:20]"
      ],
      "execution_count": null,
      "outputs": [
        {
          "output_type": "execute_result",
          "data": {
            "text/html": [
              "<div>\n",
              "<style scoped>\n",
              "    .dataframe tbody tr th:only-of-type {\n",
              "        vertical-align: middle;\n",
              "    }\n",
              "\n",
              "    .dataframe tbody tr th {\n",
              "        vertical-align: top;\n",
              "    }\n",
              "\n",
              "    .dataframe thead th {\n",
              "        text-align: right;\n",
              "    }\n",
              "</style>\n",
              "<table border=\"1\" class=\"dataframe\">\n",
              "  <thead>\n",
              "    <tr style=\"text-align: right;\">\n",
              "      <th></th>\n",
              "      <th>variable</th>\n",
              "      <th>importance</th>\n",
              "    </tr>\n",
              "  </thead>\n",
              "  <tbody>\n",
              "    <tr>\n",
              "      <th>4</th>\n",
              "      <td>Sex</td>\n",
              "      <td>0.264997</td>\n",
              "    </tr>\n",
              "    <tr>\n",
              "      <th>2</th>\n",
              "      <td>Fare</td>\n",
              "      <td>0.163890</td>\n",
              "    </tr>\n",
              "    <tr>\n",
              "      <th>6</th>\n",
              "      <td>Title2</td>\n",
              "      <td>0.152698</td>\n",
              "    </tr>\n",
              "    <tr>\n",
              "      <th>0</th>\n",
              "      <td>Age</td>\n",
              "      <td>0.131891</td>\n",
              "    </tr>\n",
              "    <tr>\n",
              "      <th>3</th>\n",
              "      <td>Pclass</td>\n",
              "      <td>0.091048</td>\n",
              "    </tr>\n",
              "    <tr>\n",
              "      <th>5</th>\n",
              "      <td>Family_Size</td>\n",
              "      <td>0.070839</td>\n",
              "    </tr>\n",
              "    <tr>\n",
              "      <th>8</th>\n",
              "      <td>Cabin</td>\n",
              "      <td>0.067029</td>\n",
              "    </tr>\n",
              "    <tr>\n",
              "      <th>7</th>\n",
              "      <td>Ticket_info</td>\n",
              "      <td>0.031735</td>\n",
              "    </tr>\n",
              "    <tr>\n",
              "      <th>1</th>\n",
              "      <td>Embarked</td>\n",
              "      <td>0.025873</td>\n",
              "    </tr>\n",
              "  </tbody>\n",
              "</table>\n",
              "</div>"
            ],
            "text/plain": [
              "      variable  importance\n",
              "4          Sex    0.264997\n",
              "2         Fare    0.163890\n",
              "6       Title2    0.152698\n",
              "0          Age    0.131891\n",
              "3       Pclass    0.091048\n",
              "5  Family_Size    0.070839\n",
              "8        Cabin    0.067029\n",
              "7  Ticket_info    0.031735\n",
              "1     Embarked    0.025873"
            ]
          },
          "metadata": {
            "tags": []
          },
          "execution_count": 236
        }
      ]
    },
    {
      "cell_type": "markdown",
      "metadata": {
        "id": "t7i15AwCwuxu"
      },
      "source": [
        "## Reference\n",
        "[資料分析&機器學習 第4.1講 : Kaggle競賽-鐵達尼號生存預測\u001e(前16%排名)](https://medium.com/jameslearningnote/%E8%B3%87%E6%96%99%E5%88%86%E6%9E%90-%E6%A9%9F%E5%99%A8%E5%AD%B8%E7%BF%92-%E7%AC%AC4-1%E8%AC%9B-kaggle%E7%AB%B6%E8%B3%BD-%E9%90%B5%E9%81%94%E5%B0%BC%E8%99%9F%E7%94%9F%E5%AD%98%E9%A0%90%E6%B8%AC-%E5%89%8D16-%E6%8E%92%E5%90%8D-a8842fea7077)"
      ]
    }
  ]
}